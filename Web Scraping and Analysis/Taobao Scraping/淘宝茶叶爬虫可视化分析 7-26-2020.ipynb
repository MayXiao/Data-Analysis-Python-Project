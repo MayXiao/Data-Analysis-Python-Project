{
 "cells": [
  {
   "cell_type": "code",
   "execution_count": 1,
   "metadata": {},
   "outputs": [
    {
     "name": "stdout",
     "output_type": "stream",
     "text": [
      "1.8.1\n"
     ]
    }
   ],
   "source": [
    "import pandas as pd\n",
    "import numpy as np\n",
    "import warnings\n",
    "warnings.filterwarnings('ignore')\n",
    "\n",
    "import pyecharts\n",
    "print(pyecharts.__version__)\n",
    "\n",
    "import jieba\n",
    "import jieba.analyse\n",
    "\n",
    "from pyecharts.charts import WordCloud\n",
    "from pyecharts.globals import SymbolType\n",
    "from pyecharts import options as opts \n",
    "from pyecharts.charts import Map \n",
    "from pyecharts.charts import Pie"
   ]
  },
  {
   "cell_type": "code",
   "execution_count": 2,
   "metadata": {},
   "outputs": [],
   "source": [
    "df = pd.read_csv('茶叶.csv', header=0)"
   ]
  },
  {
   "cell_type": "code",
   "execution_count": 3,
   "metadata": {},
   "outputs": [
    {
     "data": {
      "text/html": [
       "<div>\n",
       "<style scoped>\n",
       "    .dataframe tbody tr th:only-of-type {\n",
       "        vertical-align: middle;\n",
       "    }\n",
       "\n",
       "    .dataframe tbody tr th {\n",
       "        vertical-align: top;\n",
       "    }\n",
       "\n",
       "    .dataframe thead th {\n",
       "        text-align: right;\n",
       "    }\n",
       "</style>\n",
       "<table border=\"1\" class=\"dataframe\">\n",
       "  <thead>\n",
       "    <tr style=\"text-align: right;\">\n",
       "      <th></th>\n",
       "      <th>web</th>\n",
       "      <th>image</th>\n",
       "      <th>price</th>\n",
       "      <th>deal</th>\n",
       "      <th>title</th>\n",
       "      <th>shop</th>\n",
       "      <th>location</th>\n",
       "    </tr>\n",
       "  </thead>\n",
       "  <tbody>\n",
       "    <tr>\n",
       "      <th>0</th>\n",
       "      <td>https://click.simba.taobao.com/cc_im?p=%B2%E8%...</td>\n",
       "      <td>//g-search1.alicdn.com/img/bao/uploaded/i4/img...</td>\n",
       "      <td>¥158.00</td>\n",
       "      <td>104人付款</td>\n",
       "      <td>天福茗茶 特级安溪铁观音 2020春茶 乌龙茶叶礼盒装 铁观音茶礼</td>\n",
       "      <td>天福茗茶</td>\n",
       "      <td>福建 厦门</td>\n",
       "    </tr>\n",
       "    <tr>\n",
       "      <th>1</th>\n",
       "      <td>//detail.tmall.com/item.htm?id=616174890852&amp;ad...</td>\n",
       "      <td>//g-search2.alicdn.com/img/bao/uploaded/i4/i3/...</td>\n",
       "      <td>¥88.00</td>\n",
       "      <td>440人付款</td>\n",
       "      <td>包邮艺福堂茶叶2020新茶浙香高山云雾毛尖日照正宗250g散装绿茶</td>\n",
       "      <td>天猫超市</td>\n",
       "      <td>上海</td>\n",
       "    </tr>\n",
       "    <tr>\n",
       "      <th>2</th>\n",
       "      <td>//detail.tmall.com/item.htm?id=614489362462&amp;ad...</td>\n",
       "      <td>//g-search1.alicdn.com/img/bao/uploaded/i4/i1/...</td>\n",
       "      <td>¥29.90</td>\n",
       "      <td>113人付款</td>\n",
       "      <td>八马茶叶 安溪铁观音清香型兰花香特级品鉴装75克</td>\n",
       "      <td>八马旗舰店</td>\n",
       "      <td>广东 深圳</td>\n",
       "    </tr>\n",
       "    <tr>\n",
       "      <th>3</th>\n",
       "      <td>//detail.tmall.com/item.htm?id=35466663421&amp;ns=...</td>\n",
       "      <td>//g-search2.alicdn.com/img/bao/uploaded/i4/i4/...</td>\n",
       "      <td>¥128.00</td>\n",
       "      <td>535人付款</td>\n",
       "      <td>武夷星茶业大红袍礼盒装400g武夷山大红袍武夷岩茶乌龙茶茶叶散装</td>\n",
       "      <td>武夷星旗舰店</td>\n",
       "      <td>福建 南平</td>\n",
       "    </tr>\n",
       "    <tr>\n",
       "      <th>4</th>\n",
       "      <td>//detail.tmall.com/item.htm?id=585310589478&amp;ns...</td>\n",
       "      <td>//g-search1.alicdn.com/img/bao/uploaded/i4/i3/...</td>\n",
       "      <td>¥260.00</td>\n",
       "      <td>21人付款</td>\n",
       "      <td>武夷星岩香大红袍茶叶礼盒装500g武夷岩茶乌龙茶武夷山大红袍散装</td>\n",
       "      <td>武夷星旗舰店</td>\n",
       "      <td>福建 南平</td>\n",
       "    </tr>\n",
       "  </tbody>\n",
       "</table>\n",
       "</div>"
      ],
      "text/plain": [
       "                                                 web  \\\n",
       "0  https://click.simba.taobao.com/cc_im?p=%B2%E8%...   \n",
       "1  //detail.tmall.com/item.htm?id=616174890852&ad...   \n",
       "2  //detail.tmall.com/item.htm?id=614489362462&ad...   \n",
       "3  //detail.tmall.com/item.htm?id=35466663421&ns=...   \n",
       "4  //detail.tmall.com/item.htm?id=585310589478&ns...   \n",
       "\n",
       "                                               image    price    deal  \\\n",
       "0  //g-search1.alicdn.com/img/bao/uploaded/i4/img...  ¥158.00  104人付款   \n",
       "1  //g-search2.alicdn.com/img/bao/uploaded/i4/i3/...   ¥88.00  440人付款   \n",
       "2  //g-search1.alicdn.com/img/bao/uploaded/i4/i1/...   ¥29.90  113人付款   \n",
       "3  //g-search2.alicdn.com/img/bao/uploaded/i4/i4/...  ¥128.00  535人付款   \n",
       "4  //g-search1.alicdn.com/img/bao/uploaded/i4/i3/...  ¥260.00   21人付款   \n",
       "\n",
       "                               title    shop location  \n",
       "0  天福茗茶 特级安溪铁观音 2020春茶 乌龙茶叶礼盒装 铁观音茶礼    天福茗茶    福建 厦门  \n",
       "1  包邮艺福堂茶叶2020新茶浙香高山云雾毛尖日照正宗250g散装绿茶    天猫超市       上海  \n",
       "2           八马茶叶 安溪铁观音清香型兰花香特级品鉴装75克   八马旗舰店    广东 深圳  \n",
       "3   武夷星茶业大红袍礼盒装400g武夷山大红袍武夷岩茶乌龙茶茶叶散装  武夷星旗舰店    福建 南平  \n",
       "4   武夷星岩香大红袍茶叶礼盒装500g武夷岩茶乌龙茶武夷山大红袍散装  武夷星旗舰店    福建 南平  "
      ]
     },
     "execution_count": 3,
     "metadata": {},
     "output_type": "execute_result"
    }
   ],
   "source": [
    "df.head()"
   ]
  },
  {
   "cell_type": "markdown",
   "metadata": {},
   "source": [
    "### 数据清洗"
   ]
  },
  {
   "cell_type": "code",
   "execution_count": 4,
   "metadata": {},
   "outputs": [],
   "source": [
    "df['province'] = df.location.apply(lambda x: x.split()[0])\n",
    "df['city'] = df.location.apply(lambda x: x.split()[0] if len(x) < 4 else x.split()[1])"
   ]
  },
  {
   "cell_type": "code",
   "execution_count": 5,
   "metadata": {},
   "outputs": [],
   "source": [
    "df['price'] = df.price.str.strip('¥').astype(float)"
   ]
  },
  {
   "cell_type": "code",
   "execution_count": 6,
   "metadata": {},
   "outputs": [],
   "source": [
    "df['sales'] = df.deal.map(lambda x: int(float(x.strip('万+人付款'))*10000) if '万' in x else int(x.strip('+人付款')))"
   ]
  },
  {
   "cell_type": "code",
   "execution_count": 7,
   "metadata": {},
   "outputs": [
    {
     "data": {
      "text/html": [
       "<div>\n",
       "<style scoped>\n",
       "    .dataframe tbody tr th:only-of-type {\n",
       "        vertical-align: middle;\n",
       "    }\n",
       "\n",
       "    .dataframe tbody tr th {\n",
       "        vertical-align: top;\n",
       "    }\n",
       "\n",
       "    .dataframe thead th {\n",
       "        text-align: right;\n",
       "    }\n",
       "</style>\n",
       "<table border=\"1\" class=\"dataframe\">\n",
       "  <thead>\n",
       "    <tr style=\"text-align: right;\">\n",
       "      <th></th>\n",
       "      <th>web</th>\n",
       "      <th>image</th>\n",
       "      <th>price</th>\n",
       "      <th>deal</th>\n",
       "      <th>title</th>\n",
       "      <th>shop</th>\n",
       "      <th>location</th>\n",
       "      <th>province</th>\n",
       "      <th>city</th>\n",
       "      <th>sales</th>\n",
       "    </tr>\n",
       "  </thead>\n",
       "  <tbody>\n",
       "    <tr>\n",
       "      <th>0</th>\n",
       "      <td>https://click.simba.taobao.com/cc_im?p=%B2%E8%...</td>\n",
       "      <td>//g-search1.alicdn.com/img/bao/uploaded/i4/img...</td>\n",
       "      <td>158.0</td>\n",
       "      <td>104人付款</td>\n",
       "      <td>天福茗茶 特级安溪铁观音 2020春茶 乌龙茶叶礼盒装 铁观音茶礼</td>\n",
       "      <td>天福茗茶</td>\n",
       "      <td>福建 厦门</td>\n",
       "      <td>福建</td>\n",
       "      <td>厦门</td>\n",
       "      <td>104</td>\n",
       "    </tr>\n",
       "    <tr>\n",
       "      <th>1</th>\n",
       "      <td>//detail.tmall.com/item.htm?id=616174890852&amp;ad...</td>\n",
       "      <td>//g-search2.alicdn.com/img/bao/uploaded/i4/i3/...</td>\n",
       "      <td>88.0</td>\n",
       "      <td>440人付款</td>\n",
       "      <td>包邮艺福堂茶叶2020新茶浙香高山云雾毛尖日照正宗250g散装绿茶</td>\n",
       "      <td>天猫超市</td>\n",
       "      <td>上海</td>\n",
       "      <td>上海</td>\n",
       "      <td>上海</td>\n",
       "      <td>440</td>\n",
       "    </tr>\n",
       "    <tr>\n",
       "      <th>2</th>\n",
       "      <td>//detail.tmall.com/item.htm?id=614489362462&amp;ad...</td>\n",
       "      <td>//g-search1.alicdn.com/img/bao/uploaded/i4/i1/...</td>\n",
       "      <td>29.9</td>\n",
       "      <td>113人付款</td>\n",
       "      <td>八马茶叶 安溪铁观音清香型兰花香特级品鉴装75克</td>\n",
       "      <td>八马旗舰店</td>\n",
       "      <td>广东 深圳</td>\n",
       "      <td>广东</td>\n",
       "      <td>深圳</td>\n",
       "      <td>113</td>\n",
       "    </tr>\n",
       "    <tr>\n",
       "      <th>3</th>\n",
       "      <td>//detail.tmall.com/item.htm?id=35466663421&amp;ns=...</td>\n",
       "      <td>//g-search2.alicdn.com/img/bao/uploaded/i4/i4/...</td>\n",
       "      <td>128.0</td>\n",
       "      <td>535人付款</td>\n",
       "      <td>武夷星茶业大红袍礼盒装400g武夷山大红袍武夷岩茶乌龙茶茶叶散装</td>\n",
       "      <td>武夷星旗舰店</td>\n",
       "      <td>福建 南平</td>\n",
       "      <td>福建</td>\n",
       "      <td>南平</td>\n",
       "      <td>535</td>\n",
       "    </tr>\n",
       "    <tr>\n",
       "      <th>4</th>\n",
       "      <td>//detail.tmall.com/item.htm?id=585310589478&amp;ns...</td>\n",
       "      <td>//g-search1.alicdn.com/img/bao/uploaded/i4/i3/...</td>\n",
       "      <td>260.0</td>\n",
       "      <td>21人付款</td>\n",
       "      <td>武夷星岩香大红袍茶叶礼盒装500g武夷岩茶乌龙茶武夷山大红袍散装</td>\n",
       "      <td>武夷星旗舰店</td>\n",
       "      <td>福建 南平</td>\n",
       "      <td>福建</td>\n",
       "      <td>南平</td>\n",
       "      <td>21</td>\n",
       "    </tr>\n",
       "  </tbody>\n",
       "</table>\n",
       "</div>"
      ],
      "text/plain": [
       "                                                 web  \\\n",
       "0  https://click.simba.taobao.com/cc_im?p=%B2%E8%...   \n",
       "1  //detail.tmall.com/item.htm?id=616174890852&ad...   \n",
       "2  //detail.tmall.com/item.htm?id=614489362462&ad...   \n",
       "3  //detail.tmall.com/item.htm?id=35466663421&ns=...   \n",
       "4  //detail.tmall.com/item.htm?id=585310589478&ns...   \n",
       "\n",
       "                                               image  price    deal  \\\n",
       "0  //g-search1.alicdn.com/img/bao/uploaded/i4/img...  158.0  104人付款   \n",
       "1  //g-search2.alicdn.com/img/bao/uploaded/i4/i3/...   88.0  440人付款   \n",
       "2  //g-search1.alicdn.com/img/bao/uploaded/i4/i1/...   29.9  113人付款   \n",
       "3  //g-search2.alicdn.com/img/bao/uploaded/i4/i4/...  128.0  535人付款   \n",
       "4  //g-search1.alicdn.com/img/bao/uploaded/i4/i3/...  260.0   21人付款   \n",
       "\n",
       "                               title    shop location province city  sales  \n",
       "0  天福茗茶 特级安溪铁观音 2020春茶 乌龙茶叶礼盒装 铁观音茶礼    天福茗茶    福建 厦门       福建   厦门    104  \n",
       "1  包邮艺福堂茶叶2020新茶浙香高山云雾毛尖日照正宗250g散装绿茶    天猫超市       上海       上海   上海    440  \n",
       "2           八马茶叶 安溪铁观音清香型兰花香特级品鉴装75克   八马旗舰店    广东 深圳       广东   深圳    113  \n",
       "3   武夷星茶业大红袍礼盒装400g武夷山大红袍武夷岩茶乌龙茶茶叶散装  武夷星旗舰店    福建 南平       福建   南平    535  \n",
       "4   武夷星岩香大红袍茶叶礼盒装500g武夷岩茶乌龙茶武夷山大红袍散装  武夷星旗舰店    福建 南平       福建   南平     21  "
      ]
     },
     "execution_count": 7,
     "metadata": {},
     "output_type": "execute_result"
    }
   ],
   "source": [
    "df.head()"
   ]
  },
  {
   "cell_type": "markdown",
   "metadata": {},
   "source": [
    "### 数据可视化\n",
    "#### 提取标题中关键字并制作词云"
   ]
  },
  {
   "cell_type": "code",
   "execution_count": 8,
   "metadata": {},
   "outputs": [
    {
     "name": "stderr",
     "output_type": "stream",
     "text": [
      "Building prefix dict from the default dictionary ...\n",
      "Loading model from cache C:\\Users\\MAYXIA~1\\AppData\\Local\\Temp\\jieba.cache\n",
      "Loading model cost 0.785 seconds.\n",
      "Prefix dict has been built successfully.\n"
     ]
    }
   ],
   "source": [
    "txt = df['title'].str.cat(sep='。')\n",
    "\n",
    "# 添加关键词\n",
    "jieba.add_word('茶叶')\n",
    "\n",
    "# 读入停用词表\n",
    "stop_words = []\n",
    "with open('stop_words.txt', 'r', encoding='utf-8') as f:\n",
    "    lines = f.readlines()\n",
    "    for line in lines:\n",
    "        stop_words.append(line.strip())\n",
    "\n",
    "# 添加停用词\n",
    "stop_words.extend(['10', '100', '250g', '100g', '140g', '130g', '2020', '500g', '500', '750g',\\\n",
    "                   '正宗', '2499g', '特级', '长辈', '特级','礼品','高档', '新茶', '散装', '礼盒装', '礼盒', '罐装',\\\n",
    "                  '送礼','茶叶罐','提购','组合','春茶','高质量','小包装'])  \n",
    "\n",
    "# 评论字段分词处理\n",
    "word_num = jieba.analyse.extract_tags(txt,\n",
    "                                      topK=100,\n",
    "                                      withWeight=True,\n",
    "                                      allowPOS=())\n",
    "\n",
    "# 去停用词\n",
    "word_num_selected = []\n",
    "\n",
    "for i in word_num:\n",
    "    if i[0] not in stop_words:\n",
    "        word_num_selected.append(i)\n",
    "\n",
    "key_words = pd.DataFrame(word_num_selected, columns=['words','num'])"
   ]
  },
  {
   "cell_type": "code",
   "execution_count": 9,
   "metadata": {},
   "outputs": [
    {
     "name": "stderr",
     "output_type": "stream",
     "text": [
      "C:\\Users\\May Xiao\\Anaconda3\\lib\\site-packages\\pyecharts\\charts\\chart.py:14: PendingDeprecationWarning: pyecharts 所有图表类型将在 v1.9.0 版本开始强制使用 ChartItem 进行数据项配置 :)\n",
      "  super().__init__(init_opts=init_opts)\n"
     ]
    },
    {
     "data": {
      "text/plain": [
       "'C:\\\\Users\\\\May Xiao\\\\demo\\\\data_scraping\\\\Taobao Scraping\\\\茶叶商品名称词云图.html'"
      ]
     },
     "execution_count": 9,
     "metadata": {},
     "output_type": "execute_result"
    }
   ],
   "source": [
    "# 词云图\n",
    "word1 = WordCloud(init_opts=opts.InitOpts(width='1350px', height='750px'))\n",
    "word1.add(\"\", [*zip(key_words.words, key_words.num)],\n",
    "          word_size_range=[20, 200],\n",
    "          shape=SymbolType.DIAMOND)\n",
    "#          mask_image='茶叶.jpg')\n",
    "word1.set_global_opts(title_opts=opts.TitleOpts('茶叶商品名称词云图'),\n",
    "                      toolbox_opts=opts.ToolboxOpts())\n",
    "word1.render(\"茶叶商品名称词云图.html\")"
   ]
  },
  {
   "cell_type": "markdown",
   "metadata": {},
   "source": [
    "#### 城市总销量地区分布（地图）"
   ]
  },
  {
   "cell_type": "code",
   "execution_count": 10,
   "metadata": {},
   "outputs": [
    {
     "name": "stderr",
     "output_type": "stream",
     "text": [
      "C:\\Users\\May Xiao\\Anaconda3\\lib\\site-packages\\pyecharts\\charts\\chart.py:14: PendingDeprecationWarning: pyecharts 所有图表类型将在 v1.9.0 版本开始强制使用 ChartItem 进行数据项配置 :)\n",
      "  super().__init__(init_opts=init_opts)\n"
     ]
    },
    {
     "data": {
      "text/plain": [
       "'C:\\\\Users\\\\May Xiao\\\\demo\\\\data_scraping\\\\Taobao Scraping\\\\各城市茶叶销量分布.html'"
      ]
     },
     "execution_count": 10,
     "metadata": {},
     "output_type": "execute_result"
    }
   ],
   "source": [
    "# 计算销量\n",
    "city_num = df.groupby('city')['sales'].sum().sort_values(ascending=False) \n",
    "\n",
    "# 绘制地图\n",
    "map1 = Map(init_opts=opts.InitOpts(width='1350px', height='750px'))\n",
    "map1.add(\"\", [list(z) for z in zip(city_num.index.tolist(), city_num.values.tolist())],\n",
    "         maptype=\"china-cities\",\n",
    "         label_opts=opts.LabelOpts(is_show=False)\n",
    "        ) \n",
    "map1.set_global_opts(title_opts=opts.TitleOpts(title='各城市茶叶销量分布'),\n",
    "                     visualmap_opts=opts.VisualMapOpts(max_=100000),\n",
    "                     toolbox_opts=opts.ToolboxOpts()\n",
    "                    )\n",
    "map1.render(\"各城市茶叶销量分布.html\")"
   ]
  },
  {
   "cell_type": "markdown",
   "metadata": {},
   "source": [
    "#### 不同价格区间的销量占比"
   ]
  },
  {
   "cell_type": "code",
   "execution_count": 11,
   "metadata": {},
   "outputs": [],
   "source": [
    "def price_range(x): #按照淘宝推荐划分价格区间\n",
    "    if x <= 37:\n",
    "        return '37元以下'\n",
    "    elif x <= 190:\n",
    "        return '37-190元'\n",
    "    elif x <= 368:\n",
    "        return '190-368元'\n",
    "    else:\n",
    "        return '368元以上'\n",
    "\n",
    "df['price_range'] = df['price'].apply(lambda x: price_range(x)) \n",
    "price_cut_num = df.groupby('price_range')['sales'].sum() "
   ]
  },
  {
   "cell_type": "code",
   "execution_count": 12,
   "metadata": {},
   "outputs": [
    {
     "name": "stderr",
     "output_type": "stream",
     "text": [
      "C:\\Users\\May Xiao\\Anaconda3\\lib\\site-packages\\pyecharts\\charts\\chart.py:14: PendingDeprecationWarning: pyecharts 所有图表类型将在 v1.9.0 版本开始强制使用 ChartItem 进行数据项配置 :)\n",
      "  super().__init__(init_opts=init_opts)\n"
     ]
    },
    {
     "data": {
      "text/plain": [
       "'C:\\\\Users\\\\May Xiao\\\\demo\\\\data_scraping\\\\Taobao Scraping\\\\不同价格区间的茶叶销量占比.html'"
      ]
     },
     "execution_count": 12,
     "metadata": {},
     "output_type": "execute_result"
    }
   ],
   "source": [
    "x_data = price_cut_num.index.values.tolist()\n",
    "y_data = price_cut_num.values.tolist()\n",
    "\n",
    "(\n",
    "    Pie(init_opts=opts.InitOpts(width='1350px', height='750px'))\n",
    "    .add(\n",
    "        series_name=\"销量\",\n",
    "        data_pair=[list(z) for z in zip(x_data, y_data)],\n",
    "        radius=[\"50%\", \"70%\"],\n",
    "        label_opts=opts.LabelOpts(formatter='{{b}—占比{d}%}')\n",
    "    )\n",
    "    .set_global_opts(legend_opts=opts.LegendOpts(pos_left=\"left\", pos_top='30%',orient=\"vertical\"),\n",
    "                     toolbox_opts=opts.ToolboxOpts(),\n",
    "                    title_opts=opts.TitleOpts(title='不同价格区间的茶叶销量占比'))\n",
    "    .set_series_opts(\n",
    "        tooltip_opts=opts.TooltipOpts(\n",
    "            trigger=\"item\", formatter=\"{a} <br/>{b}: {c} ({d}%)\"\n",
    "        ),\n",
    "        # label_opts=opts.LabelOpts(formatter=\"{b}: {c}\")\n",
    "    )\n",
    "    .render(\"不同价格区间的茶叶销量占比.html\")\n",
    ")"
   ]
  },
  {
   "cell_type": "code",
   "execution_count": null,
   "metadata": {},
   "outputs": [],
   "source": []
  }
 ],
 "metadata": {
  "kernelspec": {
   "display_name": "Python 3",
   "language": "python",
   "name": "python3"
  },
  "language_info": {
   "codemirror_mode": {
    "name": "ipython",
    "version": 3
   },
   "file_extension": ".py",
   "mimetype": "text/x-python",
   "name": "python",
   "nbconvert_exporter": "python",
   "pygments_lexer": "ipython3",
   "version": "3.6.5"
  }
 },
 "nbformat": 4,
 "nbformat_minor": 2
}
