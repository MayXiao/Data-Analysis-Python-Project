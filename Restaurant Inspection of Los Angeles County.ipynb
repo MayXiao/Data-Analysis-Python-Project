{
 "cells": [
  {
   "cell_type": "markdown",
   "metadata": {},
   "source": [
    "### IMPORTANT !!! Please read before you clear the output & run all cells!!!!!!!"
   ]
  },
  {
   "cell_type": "markdown",
   "metadata": {},
   "source": [
    "Because this dataset is constantly changing, if use 'wget' statement, the results could be different with what we demonstrate in the markdown cell and some errors may occur due to the dataset change.\n",
    "\n",
    "Also, wired thing is, one of these table 'businesses.csv' has encoding issue which could not be successfully run the csvkit 'csvstat' and sql 'insert into' statement. After we use Excel to change the encoding type, it works. \n",
    "\n",
    "So, we suggest you to use the files we uploaded. We are so sorry for the inconvenience.\n",
    "\n",
    "Thank you very much!"
   ]
  },
  {
   "cell_type": "markdown",
   "metadata": {
    "collapsed": true
   },
   "source": [
    "# PROJECT 4  :  Restaurant Inspection of Los Angeles County, 2015-2017"
   ]
  },
  {
   "cell_type": "markdown",
   "metadata": {},
   "source": [
    "### By Weihang Wen, Ruixi Liu, Mengchen Xiao, Mingqi Liu"
   ]
  },
  {
   "cell_type": "markdown",
   "metadata": {},
   "source": [
    "## Part 1 - Data Selection"
   ]
  },
  {
   "cell_type": "markdown",
   "metadata": {},
   "source": [
    "**data description: ** We choose to analyse the Environmental Health Inspection Results of restaurants in Los Angeles County from June 2015 to December 2017. This dataset contains the business information of each restaurant, inspection score as well as violation code of every inspection, and the grading criteria. \n",
    "\n",
    "**source: ** We found our dataset at US Cities Open Census website. Here is the *link*: http://us-city.census.okfn.org/entry/losangeles/food-safety\n",
    "\n",
    "**why this data:** Needless to say, all four of us like eating and exploring fancy restaurants. Initially, we are curious about whether restaurants we always go meet the standard that harmless to customers' health. Unfortunately, DC and VA's restaurant inspection data is incomplete. So we choose LA County to analyse. What's more, with the analysis, we can inform the public and generate some elementary suggestions to the regulators and people who set up the rules."
   ]
  },
  {
   "cell_type": "markdown",
   "metadata": {},
   "source": [
    "First of all, let's get the sql ready and obtain the data."
   ]
  },
  {
   "cell_type": "code",
   "execution_count": 1,
   "metadata": {
    "collapsed": true
   },
   "outputs": [],
   "source": [
    "%load_ext sql"
   ]
  },
  {
   "cell_type": "code",
   "execution_count": 2,
   "metadata": {},
   "outputs": [
    {
     "name": "stdout",
     "output_type": "stream",
     "text": [
      "dropdb: database removal failed: ERROR:  database \"project_4\" is being accessed by other users\r\n",
      "DETAIL:  There is 1 other session using the database.\r\n"
     ]
    }
   ],
   "source": [
    "!dropdb -U student project_4"
   ]
  },
  {
   "cell_type": "code",
   "execution_count": 3,
   "metadata": {},
   "outputs": [
    {
     "name": "stdout",
     "output_type": "stream",
     "text": [
      "createdb: database creation failed: ERROR:  database \"project_4\" already exists\r\n"
     ]
    }
   ],
   "source": [
    "!createdb -U student project_4"
   ]
  },
  {
   "cell_type": "code",
   "execution_count": 4,
   "metadata": {},
   "outputs": [
    {
     "data": {
      "text/plain": [
       "'Connected: student@project_4'"
      ]
     },
     "execution_count": 4,
     "metadata": {},
     "output_type": "execute_result"
    }
   ],
   "source": [
    "%sql postgresql://student@/project_4"
   ]
  },
  {
   "cell_type": "code",
   "execution_count": 5,
   "metadata": {
    "collapsed": true
   },
   "outputs": [],
   "source": [
    "#!wget -O q1.zip http://ehservices.publichealth.lacounty.gov/LIVES/LABusinesses.zip"
   ]
  },
  {
   "cell_type": "markdown",
   "metadata": {},
   "source": [
    "The above is the original source of data, which we are not going to use here."
   ]
  },
  {
   "cell_type": "code",
   "execution_count": 8,
   "metadata": {},
   "outputs": [
    {
     "name": "stdout",
     "output_type": "stream",
     "text": [
      "Archive:  LABusinesses.zip\n",
      "  inflating: businesses.csv          \n",
      "  inflating: feed_info.csv           \n",
      "  inflating: inspections.csv         \n",
      "  inflating: legend.csv              \n",
      "  inflating: violations.csv          \n"
     ]
    }
   ],
   "source": [
    "!unzip -o LABusinesses.zip"
   ]
  },
  {
   "cell_type": "markdown",
   "metadata": {},
   "source": [
    "**initial exploration:**\n",
    "\n",
    "As you can see, there are five csv files in this zip file. Let's take a look into these files."
   ]
  },
  {
   "cell_type": "code",
   "execution_count": 11,
   "metadata": {},
   "outputs": [
    {
     "name": "stdout",
     "output_type": "stream",
     "text": [
      "|--------------+------------------------+-------------------+----------+-------+-------------+-------------+--------------+---------------|\r\n",
      "|  business_id | name                   | address           | city     | state | postal_code | latitude    | longitude    | phone_number  |\r\n",
      "|--------------+------------------------+-------------------+----------+-------+-------------+-------------+--------------+---------------|\r\n",
      "|  PR0000206   | JOSYLN SENIOR CENTER   | 210 N CHAPEL AVE  | ALHAMBRA | CA    | 91801       | 34.09852551 | -118.124767  | 626-960-2995  |\r\n",
      "|  PR0000213   | STARBUCKS COFFEE #9685 | 145 N CITRUS AVE  | COVINA   | CA    | 91723       | 34.08732692 | -117.8904602 |               |\r\n",
      "|--------------+------------------------+-------------------+----------+-------+-------------+-------------+--------------+---------------|\r\n"
     ]
    }
   ],
   "source": [
    "!head -3 businesses2.csv | csvlook"
   ]
  },
  {
   "cell_type": "code",
   "execution_count": 12,
   "metadata": {},
   "outputs": [
    {
     "name": "stdout",
     "output_type": "stream",
     "text": [
      "|------------+--------------+----------------------------------------------------------------+--------------------------------------+-------------------------|\r\n",
      "|  feed_date | feed_version | municipality_name                                              | municipality_url                     | contact_email           |\r\n",
      "|------------+--------------+----------------------------------------------------------------+--------------------------------------+-------------------------|\r\n",
      "|  20171207  | 1.0          | Los Angeles County Public Health Environmental Health Division | http://publichealth.lacounty.gov/eh/ | ehmail@ph.lacounty.gov  |\r\n",
      "|------------+--------------+----------------------------------------------------------------+--------------------------------------+-------------------------|\r\n"
     ]
    }
   ],
   "source": [
    "!head -3 feed_info.csv | csvlook"
   ]
  },
  {
   "cell_type": "code",
   "execution_count": 13,
   "metadata": {},
   "outputs": [
    {
     "name": "stdout",
     "output_type": "stream",
     "text": [
      "|--------------+-------+----------+-------------+----------|\r\n",
      "|  business_id | score | date     | description | type     |\r\n",
      "|--------------+-------+----------+-------------+----------|\r\n",
      "|  PR0014182   | 95    | 20170207 |             | Routine  |\r\n",
      "|  PR0005730   | 99    | 20161216 |             | Routine  |\r\n",
      "|--------------+-------+----------+-------------+----------|\r\n"
     ]
    }
   ],
   "source": [
    "!head -3 inspections.csv | csvlook"
   ]
  },
  {
   "cell_type": "code",
   "execution_count": 14,
   "metadata": {},
   "outputs": [
    {
     "name": "stdout",
     "output_type": "stream",
     "text": [
      "|--------------+----------+------+-------------------------------------------------------------------------------|\r\n",
      "|  business_id | date     | code | description                                                                   |\r\n",
      "|--------------+----------+------+-------------------------------------------------------------------------------|\r\n",
      "|  PR0005705   | 20150608 | F040 | Standard Not Met: Plumbing: Plumbing in good repair, proper backflow devices  |\r\n",
      "|  PR0008515   | 20150609 | F052 | Standard Not Met: Food safety certification                                   |\r\n",
      "|--------------+----------+------+-------------------------------------------------------------------------------|\r\n"
     ]
    }
   ],
   "source": [
    "!head -3 violations.csv | csvlook"
   ]
  },
  {
   "cell_type": "code",
   "execution_count": 15,
   "metadata": {},
   "outputs": [
    {
     "name": "stdout",
     "output_type": "stream",
     "text": [
      "|----------------+---------------+--------------|\r\n",
      "|  minimum_score | maximum_score | description  |\r\n",
      "|----------------+---------------+--------------|\r\n",
      "|  70            | 79            | C            |\r\n",
      "|  80            | 89            | B            |\r\n",
      "|  90            | 100           | A            |\r\n",
      "|----------------+---------------+--------------|\r\n"
     ]
    }
   ],
   "source": [
    "!head -5 legend.csv | csvlook"
   ]
  },
  {
   "cell_type": "markdown",
   "metadata": {},
   "source": [
    "Obviously, feed_info.csv contains the data version and its provider. In our analysis, this file is not useful. So the rest of our report is based on businesses, violations, inspections and legend table.\n",
    "\n",
    "Then, let's find out whether our data has the issue of missing value."
   ]
  },
  {
   "cell_type": "code",
   "execution_count": 16,
   "metadata": {},
   "outputs": [
    {
     "name": "stdout",
     "output_type": "stream",
     "text": [
      "  1. business_id\n",
      "\t<class 'str'>\n",
      "\tNulls: False\n",
      "\tUnique values: 28378\n",
      "\t5 most frequent values:\n",
      "\t\tPR0016342:\t11\n",
      "\t\tPR0028988:\t10\n",
      "\t\tPR0024729:\t10\n",
      "\t\tPR0153185:\t10\n",
      "\t\tPR0028810:\t10\n",
      "\tMax length: 9\n",
      "  2. score\n",
      "\t<class 'int'>\n",
      "\tNulls: False\n",
      "\tMin: 0\n",
      "\tMax: 100\n",
      "\tSum: 12941196\n",
      "\tMean: 93.49899573730222\n",
      "\tMedian: 94.0\n",
      "\tStandard Deviation: 3.8475935732917934\n",
      "\tUnique values: 44\n",
      "\t5 most frequent values:\n",
      "\t\t90:\t19452\n",
      "\t\t95:\t14712\n",
      "\t\t96:\t14603\n",
      "\t\t94:\t14444\n",
      "\t\t93:\t13307\n",
      "  3. date\n",
      "\t<class 'int'>\n",
      "\tNulls: False\n",
      "\tMin: 20150608\n",
      "\tMax: 20171206\n",
      "\tSum: 2790726769826\n",
      "\tMean: 20162753.918257352\n",
      "\tMedian: 20160928.0\n",
      "\tStandard Deviation: 7352.171720661275\n",
      "\tUnique values: 737\n",
      "\t5 most frequent values:\n",
      "\t\t20161213:\t417\n",
      "\t\t20161206:\t406\n",
      "\t\t20160810:\t397\n",
      "\t\t20170207:\t395\n",
      "\t\t20171107:\t394\n",
      "  4. description\n",
      "\t<class 'NoneType'>\n",
      "\tNulls: True\n",
      "\tValues: \n",
      "  5. type\n",
      "\t<class 'str'>\n",
      "\tNulls: False\n",
      "\tValues: Routine\n",
      "\n",
      "Row count: 138410\n"
     ]
    }
   ],
   "source": [
    "!csvstat inspections.csv"
   ]
  },
  {
   "cell_type": "code",
   "execution_count": 17,
   "metadata": {},
   "outputs": [
    {
     "name": "stdout",
     "output_type": "stream",
     "text": [
      "  1. business_id\n",
      "\t<class 'str'>\n",
      "\tNulls: False\n",
      "\tUnique values: 28284\n",
      "\t5 most frequent values:\n",
      "\t\tPR0023798:\t119\n",
      "\t\tPR0170854:\t117\n",
      "\t\tPR0016555:\t114\n",
      "\t\tPR0151223:\t105\n",
      "\t\tPR0161072:\t103\n",
      "\tMax length: 9\n",
      "  2. date\n",
      "\t<class 'int'>\n",
      "\tNulls: False\n",
      "\tMin: 20150608\n",
      "\tMax: 20171206\n",
      "\tSum: 13517902907282\n",
      "\tMean: 20162733.29049878\n",
      "\tMedian: 20160928.0\n",
      "\tStandard Deviation: 7397.702403910342\n",
      "\tUnique values: 736\n",
      "\t5 most frequent values:\n",
      "\t\t20171107:\t2044\n",
      "\t\t20161206:\t2041\n",
      "\t\t20161213:\t1963\n",
      "\t\t20160809:\t1928\n",
      "\t\t20171108:\t1926\n",
      "  3. code\n",
      "\t<class 'str'>\n",
      "\tNulls: False\n",
      "\tUnique values: 87\n",
      "\t5 most frequent values:\n",
      "\t\tF033:\t73691\n",
      "\t\tF044:\t73279\n",
      "\t\tF035:\t60793\n",
      "\t\tF036:\t39665\n",
      "\t\tF037:\t37607\n",
      "\tMax length: 4\n",
      "  4. description\n",
      "\t<class 'str'>\n",
      "\tNulls: False\n",
      "\tUnique values: 83\n",
      "\t5 most frequent values:\n",
      "\t\tStandard Not Met: Nonfood-contact surfaces clean and in good repair:\t73691\n",
      "\t\tStandard Not Met: Floors, walls and ceilings: properly built, maintained in good repair and clean:\t73279\n",
      "\t\tStandard Not Met: Equipment/Utensils - approved; installed; clean; good repair, capacity:\t60793\n",
      "\t\tStandard Not Met: Equipment, utensils and linens: storage and use:\t39665\n",
      "\t\tStandard Not Met: Adequate ventilation and lighting; designated areas, use:\t37607\n",
      "\tMax length: 99\n",
      "\n",
      "Row count: 670440\n"
     ]
    }
   ],
   "source": [
    "!csvstat violations.csv"
   ]
  },
  {
   "cell_type": "code",
   "execution_count": 18,
   "metadata": {},
   "outputs": [
    {
     "name": "stdout",
     "output_type": "stream",
     "text": [
      "  1. business_id\n",
      "\t<class 'str'>\n",
      "\tNulls: False\n",
      "\tUnique values: 28771\n",
      "\tMax length: 9\n",
      "  2. name\n",
      "\t<class 'str'>\n",
      "\tNulls: False\n",
      "\tUnique values: 24116\n",
      "\t5 most frequent values:\n",
      "\t\tSUBWAY:\t122\n",
      "\t\tSTARBUCKS:\t71\n",
      "\t\tDOMINO'S PIZZA:\t60\n",
      "\t\tWABA GRILL:\t58\n",
      "\t\tTHE COFFEE BEAN & TEA LEAF:\t58\n",
      "\tMax length: 69\n",
      "  3. address\n",
      "\t<class 'str'>\n",
      "\tNulls: False\n",
      "\tUnique values: 26445\n",
      "\t5 most frequent values:\n",
      "\t\t1000 VIN SCULLY AVE:\t69\n",
      "\t\t3911 S FIGUEROA ST:\t44\n",
      "\t\t1111 S FIGUEROA ST:\t43\n",
      "\t\t285 W HUNTINGTON DR:\t40\n",
      "\t\t26101 MAGIC MOUNTAIN PKWY:\t32\n",
      "\tMax length: 42\n",
      "  4. city\n",
      "\t<class 'str'>\n",
      "\tNulls: False\n",
      "\tUnique values: 169\n",
      "\t5 most frequent values:\n",
      "\t\tLOS ANGELES:\t8197\n",
      "\t\tSANTA MONICA:\t660\n",
      "\t\tTORRANCE:\t657\n",
      "\t\tGLENDALE:\t572\n",
      "\t\tBURBANK:\t480\n",
      "\tMax length: 22\n",
      "  5. state\n",
      "\t<class 'str'>\n",
      "\tNulls: False\n",
      "\tValues: CA, ca\n",
      "  6. postal_code\n",
      "\t<class 'str'>\n",
      "\tNulls: False\n",
      "\tUnique values: 2239\n",
      "\t5 most frequent values:\n",
      "\t\t90012:\t369\n",
      "\t\t90028:\t355\n",
      "\t\t90045:\t329\n",
      "\t\t91748:\t328\n",
      "\t\t90015:\t299\n",
      "\tMax length: 10\n",
      "  7. latitude\n",
      "\t<class 'float'>\n",
      "\tNulls: True\n",
      "\tMin: -38.02572723\n",
      "\tMax: 34.79623363\n",
      "\tSum: 979617.9653412827\n",
      "\tMean: 34.060636464006215\n",
      "\tMedian: 34.05666428\n",
      "\tStandard Deviation: 0.6005990463963945\n",
      "\tUnique values: 23593\n",
      "\t5 most frequent values:\n",
      "\t\t34.073873:\t69\n",
      "\t\t34.04337766:\t44\n",
      "\t\t34.01365681:\t44\n",
      "\t\t34.1366884:\t43\n",
      "\t\t34.13971315:\t39\n",
      "  8. longitude\n",
      "\t<class 'float'>\n",
      "\tNulls: True\n",
      "\tMin: -118.9106703\n",
      "\tMax: 144.3951566\n",
      "\tSum: -3400969.5833030897\n",
      "\tMean: -118.24935097190952\n",
      "\tMedian: -118.2915796\n",
      "\tStandard Deviation: 2.0830044717922114\n",
      "\tUnique values: 23554\n",
      "\t5 most frequent values:\n",
      "\t\t-118.2407774:\t69\n",
      "\t\t-118.2829426:\t44\n",
      "\t\t-118.2658105:\t44\n",
      "\t\t-118.0540866:\t43\n",
      "\t\t-118.0453042:\t39\n",
      "  9. phone_number\n",
      "\t<class 'str'>\n",
      "\tNulls: True\n",
      "\tUnique values: 13932\n",
      "\t5 most frequent values:\n",
      "\t\t800-786-1000:\t59\n",
      "\t\t213-765-8542:\t44\n",
      "\t\t213-742-7885:\t43\n",
      "\t\t661-255-4100:\t31\n",
      "\t\t800-864-8377:\t30\n",
      "\tMax length: 13\n",
      "\n",
      "Row count: 28771\n"
     ]
    }
   ],
   "source": [
    "!csvstat businesses2.csv"
   ]
  },
  {
   "cell_type": "markdown",
   "metadata": {},
   "source": [
    "In total, the inspections file has a column named description which doesn't contain any value. Also, the type of inspection is all 'Routine'. In the businesses file, all the value in state is 'CA' or 'ca' and phone_number column contains a lot of missing value. Everything in violations table seems to be good in this stage of exploration.\n",
    "\n",
    "From the column of each table, we found score and violation code are worth to investigate. With identical business_id and the date of inspection, we can easily associate the table businesses and violations with table inspections. Through that, we could find some geographic clues, score fluctuation and distribution or the most noticable health standards of restaurant, etc."
   ]
  },
  {
   "cell_type": "markdown",
   "metadata": {},
   "source": [
    "**questions: **\n",
    "* What is the most frequently be violated standard ?\n",
    "* Can the pattern of score change from 2015-2017 be found in this dataset?\n",
    "* How is the score distributed?\n",
    "* Do some of the violation codes are appeared constantly for some restaurants? What is the overall percentage?\n",
    "* Which city has the highest average score and which has the lowest? What is the average level of the whole LA County?\n",
    "* Does the score has some relationship with local real estate price?(as bonus)"
   ]
  },
  {
   "cell_type": "markdown",
   "metadata": {},
   "source": [
    "**concerns and challenges:** \n",
    "\n",
    "* The dataset is constantly changing. So we are worry about if using 'wget' statement everytime, the result of analysis could be different from the most latest version of data.\n",
    "* We are wondering whether this dataset have some type-in error. For instance, when the inspection score is 100(full credit), the violations table should contain none record of this business in that inspection date but the actual situation is not. In contrast, we also need to find out some restaurant who get lower than 100 but don't have violation code records in the violations table.\n",
    "* Whether the violation code and its discription is one-to-one corresponding.\n",
    "* We also want to know do the inspections table contains some businesses that don't included in the businesses table. For the opposite situation, we think it is not a issue. Maybe that restaurant has not been inspected yet.\n",
    "* If at the same inspection date, same restaurant has multiple scores, what operation should we take to address it.\n",
    "\n",
    "Those are what we hypothesize that we may encounter in the further study. That's cool if we don't. The way we find out and handle these concerns and challenges will be specifically demonstrated in the data wrangling section.\n",
    "\n",
    "**That's all for data selection.**"
   ]
  },
  {
   "cell_type": "markdown",
   "metadata": {},
   "source": [
    "## Part 2 - Data Wrangling"
   ]
  },
  {
   "cell_type": "markdown",
   "metadata": {},
   "source": [
    "To start with, we import these csv files into the tables we created."
   ]
  },
  {
   "cell_type": "markdown",
   "metadata": {},
   "source": [
    "First, we created \"businesses\" table and tried to import “businesses.csv”. However, we realized that there is an encoding problem (utf-8 codec cannot be decode) with only the “businesses.csv”. After researching online and consulting Professor Wang, we think that the most realistic way to solve this problem is to change the encoding directly in excel and re-upload a separate csv file named as “businesses2.csv”. For the following analysis, we would be using “businesses2.csv”. The dataset would be the exactly same as the original one, except the encoding."
   ]
  },
  {
   "cell_type": "code",
   "execution_count": 21,
   "metadata": {},
   "outputs": [
    {
     "name": "stdout",
     "output_type": "stream",
     "text": [
      "  1. business_id\r\n",
      "\t<class 'str'>\r\n",
      "\tNulls: False\r\n",
      "\tUnique values: 99\r\n",
      "\tMax length: 9\r\n",
      "  2. name\r\n",
      "\t<class 'str'>\r\n",
      "\tNulls: False\r\n",
      "\tUnique values: 94\r\n",
      "\t5 most frequent values:\r\n",
      "\t\tEDIBLE ARRANGEMENTS:\t4\r\n",
      "\t\tSTARBUCKS COFFEE CO:\t2\r\n",
      "\t\tSTARBUCKS:\t2\r\n",
      "\t\tTHE REFINERY:\t1\r\n",
      "\t\tRALPHS #166 STARBUCKS:\t1\r\n",
      "\tMax length: 38\r\n",
      "  3. address\r\n",
      "\t<class 'str'>\r\n",
      "\tNulls: False\r\n",
      "\tUnique values: 97\r\n",
      "\t5 most frequent values:\r\n",
      "\t\t111 RAGING WATERS DR:\t2\r\n",
      "\t\t285 W HUNTINGTON DR:\t2\r\n",
      "\t\t10143 S ATLANTIC AVE:\t1\r\n",
      "\t\t18400 AVALON BLVD STE 300:\t1\r\n",
      "\t\t16280 S PARAMOUNT BLVD STE C:\t1\r\n",
      "\tMax length: 34\r\n",
      "  4. city\r\n",
      "\t<class 'str'>\r\n",
      "\tNulls: False\r\n",
      "\tUnique values: 46\r\n",
      "\t5 most frequent values:\r\n",
      "\t\tLOS ANGELES:\t29\r\n",
      "\t\tSANTA MONICA:\t8\r\n",
      "\t\tSAN DIMAS:\t3\r\n",
      "\t\tTORRANCE:\t3\r\n",
      "\t\tARCADIA:\t3\r\n",
      "\tMax length: 22\r\n",
      "  5. state\r\n",
      "\t<class 'str'>\r\n",
      "\tNulls: False\r\n",
      "\tValues: CA\r\n",
      "  6. postal_code\r\n",
      "\t<class 'str'>\r\n",
      "\tNulls: False\r\n",
      "\tUnique values: 74\r\n",
      "\t5 most frequent values:\r\n",
      "\t\t91007:\t3\r\n",
      "\t\t90403:\t3\r\n",
      "\t\t90024:\t3\r\n",
      "\t\t90049:\t3\r\n",
      "\t\t90027:\t2\r\n",
      "\tMax length: 10\r\n",
      "  7. latitude\r\n",
      "\t<class 'float'>\r\n",
      "\tNulls: False\r\n",
      "\tMin: 33.73431161\r\n",
      "\tMax: 34.44756653\r\n",
      "\tSum: 3370.287324339999\r\n",
      "\tMean: 34.043306306464636\r\n",
      "\tMedian: 34.05205823\r\n",
      "\tStandard Deviation: 0.1347324600661507\r\n",
      "\tUnique values: 97\r\n",
      "\t5 most frequent values:\r\n",
      "\t\t34.09556253:\t2\r\n",
      "\t\t34.13971315:\t2\r\n",
      "\t\t34.09747005:\t1\r\n",
      "\t\t34.05926686:\t1\r\n",
      "\t\t34.02933793:\t1\r\n",
      "  8. longitude\r\n",
      "\t<class 'float'>\r\n",
      "\tNulls: False\r\n",
      "\tMin: -118.8045058\r\n",
      "\tMax: -117.7762793\r\n",
      "\tSum: -11712.4507681\r\n",
      "\tMean: -118.30758351616161\r\n",
      "\tMedian: -118.32782\r\n",
      "\tStandard Deviation: 0.20906804660029052\r\n",
      "\tUnique values: 97\r\n",
      "\t5 most frequent values:\r\n",
      "\t\t-118.0453042:\t2\r\n",
      "\t\t-117.8100137:\t2\r\n",
      "\t\t-118.4432391:\t1\r\n",
      "\t\t-118.509191:\t1\r\n",
      "\t\t-118.0399777:\t1\r\n",
      "  9. phone_number\r\n",
      "\t<class 'str'>\r\n",
      "\tNulls: True\r\n",
      "\tUnique values: 36\r\n",
      "\tMax length: 12\r\n",
      "\r\n",
      "Row count: 99\r\n"
     ]
    }
   ],
   "source": [
    "!head -n 100 businesses2.csv | csvstat"
   ]
  },
  {
   "cell_type": "markdown",
   "metadata": {},
   "source": [
    "Based on these values, We expect the \"businesses\" table with the followig values."
   ]
  },
  {
   "cell_type": "code",
   "execution_count": 22,
   "metadata": {},
   "outputs": [
    {
     "name": "stdout",
     "output_type": "stream",
     "text": [
      "Done.\n",
      "Done.\n"
     ]
    },
    {
     "data": {
      "text/plain": [
       "[]"
      ]
     },
     "execution_count": 22,
     "metadata": {},
     "output_type": "execute_result"
    }
   ],
   "source": [
    "%%sql\n",
    "DROP TABLE IF EXISTS businesses;\n",
    "\n",
    "CREATE TABLE businesses (\n",
    "    business_id VARCHAR(20) NOT NULL,\n",
    "    name VARCHAR(100) NOT NULL,\n",
    "    address VARCHAR(100) NOT NULL,\n",
    "    city VARCHAR(100) NOT NULL,\n",
    "    state VARCHAR(10) NOT NULL,\n",
    "    postal_code VARCHAR(100) NOT NULL,\n",
    "    latitude NUMERIC,\n",
    "    longitude NUMERIC,\n",
    "    phone_number VARCHAR(100)\n",
    ");"
   ]
  },
  {
   "cell_type": "markdown",
   "metadata": {},
   "source": [
    "Now we'll load the data directly using `COPY` command.  "
   ]
  },
  {
   "cell_type": "code",
   "execution_count": 25,
   "metadata": {
    "collapsed": true
   },
   "outputs": [],
   "source": [
    "!cp businesses2.csv /tmp/businesses2.csv"
   ]
  },
  {
   "cell_type": "code",
   "execution_count": 27,
   "metadata": {},
   "outputs": [
    {
     "name": "stdout",
     "output_type": "stream",
     "text": [
      "28771 rows affected.\n"
     ]
    },
    {
     "data": {
      "text/plain": [
       "[]"
      ]
     },
     "execution_count": 27,
     "metadata": {},
     "output_type": "execute_result"
    }
   ],
   "source": [
    "%%sql\n",
    "COPY businesses FROM '/tmp/businesses2.csv'\n",
    "CSV\n",
    "HEADER;"
   ]
  },
  {
   "cell_type": "code",
   "execution_count": 28,
   "metadata": {},
   "outputs": [
    {
     "name": "stdout",
     "output_type": "stream",
     "text": [
      "1 rows affected.\n"
     ]
    },
    {
     "data": {
      "text/html": [
       "<table>\n",
       "    <tr>\n",
       "        <th>count</th>\n",
       "    </tr>\n",
       "    <tr>\n",
       "        <td>28771</td>\n",
       "    </tr>\n",
       "</table>"
      ],
      "text/plain": [
       "[(28771,)]"
      ]
     },
     "execution_count": 28,
     "metadata": {},
     "output_type": "execute_result"
    }
   ],
   "source": [
    "%%sql\n",
    "SELECT COUNT(*) FROM businesses;"
   ]
  },
  {
   "cell_type": "markdown",
   "metadata": {},
   "source": [
    "The following step is to verify that all data has been imported into the \"businesses\" table. "
   ]
  },
  {
   "cell_type": "code",
   "execution_count": 31,
   "metadata": {},
   "outputs": [
    {
     "name": "stdout",
     "output_type": "stream",
     "text": [
      "28771\r\n"
     ]
    }
   ],
   "source": [
    "!xsv count businesses2.csv"
   ]
  },
  {
   "cell_type": "code",
   "execution_count": 32,
   "metadata": {},
   "outputs": [
    {
     "name": "stdout",
     "output_type": "stream",
     "text": [
      "10 rows affected.\n"
     ]
    },
    {
     "data": {
      "text/html": [
       "<table>\n",
       "    <tr>\n",
       "        <th>business_id</th>\n",
       "        <th>name</th>\n",
       "        <th>address</th>\n",
       "        <th>city</th>\n",
       "        <th>state</th>\n",
       "        <th>postal_code</th>\n",
       "        <th>latitude</th>\n",
       "        <th>longitude</th>\n",
       "        <th>phone_number</th>\n",
       "    </tr>\n",
       "    <tr>\n",
       "        <td>PR0000206</td>\n",
       "        <td>JOSYLN SENIOR CENTER</td>\n",
       "        <td>210 N CHAPEL AVE </td>\n",
       "        <td>ALHAMBRA</td>\n",
       "        <td>CA</td>\n",
       "        <td>91801</td>\n",
       "        <td>34.09852551</td>\n",
       "        <td>-118.124767</td>\n",
       "        <td>626-960-2995</td>\n",
       "    </tr>\n",
       "    <tr>\n",
       "        <td>PR0000213</td>\n",
       "        <td>STARBUCKS COFFEE #9685</td>\n",
       "        <td>145 N CITRUS AVE </td>\n",
       "        <td>COVINA</td>\n",
       "        <td>CA</td>\n",
       "        <td>91723</td>\n",
       "        <td>34.08732692</td>\n",
       "        <td>-117.8904602</td>\n",
       "        <td>None</td>\n",
       "    </tr>\n",
       "    <tr>\n",
       "        <td>PR0000250</td>\n",
       "        <td>VFW POST NO. 6110</td>\n",
       "        <td>16555 SIERRA HWY </td>\n",
       "        <td>CANYON COUNTRY</td>\n",
       "        <td>CA</td>\n",
       "        <td>91351-1338</td>\n",
       "        <td>34.44756653</td>\n",
       "        <td>-118.4262071</td>\n",
       "        <td>661-252-9989</td>\n",
       "    </tr>\n",
       "    <tr>\n",
       "        <td>PR0000273</td>\n",
       "        <td>STABUCKS @ VONS #2066</td>\n",
       "        <td>18439 VENTURA BLVD </td>\n",
       "        <td>TARZANA</td>\n",
       "        <td>CA</td>\n",
       "        <td>91356</td>\n",
       "        <td>34.16838141</td>\n",
       "        <td>-118.53457</td>\n",
       "        <td>None</td>\n",
       "    </tr>\n",
       "    <tr>\n",
       "        <td>PR0000278</td>\n",
       "        <td>COCOHODO TORRANCE</td>\n",
       "        <td>2734 SEPULVEDA BLVD </td>\n",
       "        <td>TORRANCE</td>\n",
       "        <td>CA</td>\n",
       "        <td>90505</td>\n",
       "        <td>33.82248757</td>\n",
       "        <td>-118.3331782</td>\n",
       "        <td>310-530-3875</td>\n",
       "    </tr>\n",
       "    <tr>\n",
       "        <td>PR0000307</td>\n",
       "        <td>KING&#x27;S BAKERY</td>\n",
       "        <td>127 N GARFIELD AVE STE J</td>\n",
       "        <td>MONTEREY PARK</td>\n",
       "        <td>CA</td>\n",
       "        <td>91754</td>\n",
       "        <td>34.06332786</td>\n",
       "        <td>-118.123686</td>\n",
       "        <td>None</td>\n",
       "    </tr>\n",
       "    <tr>\n",
       "        <td>PR0000332</td>\n",
       "        <td>PAPA JOHN&#x27;S 2247</td>\n",
       "        <td>5457 E SOUTH ST </td>\n",
       "        <td>LAKEWOOD</td>\n",
       "        <td>CA</td>\n",
       "        <td>90712</td>\n",
       "        <td>33.86073276</td>\n",
       "        <td>-118.1260192</td>\n",
       "        <td>562-925-5856</td>\n",
       "    </tr>\n",
       "    <tr>\n",
       "        <td>PR0000335</td>\n",
       "        <td>4 SEASONS HOTEL-THE BAR</td>\n",
       "        <td>2 DOLE DR</td>\n",
       "        <td>WESTLAKE VILLAGE</td>\n",
       "        <td>CA</td>\n",
       "        <td>91362</td>\n",
       "        <td>34.15136847</td>\n",
       "        <td>-118.8045058</td>\n",
       "        <td>None</td>\n",
       "    </tr>\n",
       "    <tr>\n",
       "        <td>PR0000380</td>\n",
       "        <td>BENNYS 19TH HOLE SALOON</td>\n",
       "        <td>16829 PRAIRIE AVE </td>\n",
       "        <td>LAWNDALE</td>\n",
       "        <td>CA</td>\n",
       "        <td>90260</td>\n",
       "        <td>33.87795215</td>\n",
       "        <td>-118.3439873</td>\n",
       "        <td>None</td>\n",
       "    </tr>\n",
       "    <tr>\n",
       "        <td>PR0000462</td>\n",
       "        <td>TERRACE CINEMAS 6</td>\n",
       "        <td>28901 S WESTERN AVE </td>\n",
       "        <td>RANCHO PALOS VERDES</td>\n",
       "        <td>CA</td>\n",
       "        <td>90275</td>\n",
       "        <td>33.75635356</td>\n",
       "        <td>-118.3103982</td>\n",
       "        <td>310-831-1919</td>\n",
       "    </tr>\n",
       "</table>"
      ],
      "text/plain": [
       "[('PR0000206', 'JOSYLN SENIOR CENTER', '210 N CHAPEL AVE ', 'ALHAMBRA', 'CA', '91801', Decimal('34.09852551'), Decimal('-118.124767'), '626-960-2995'),\n",
       " ('PR0000213', 'STARBUCKS COFFEE #9685', '145 N CITRUS AVE ', 'COVINA', 'CA', '91723', Decimal('34.08732692'), Decimal('-117.8904602'), None),\n",
       " ('PR0000250', 'VFW POST NO. 6110', '16555 SIERRA HWY ', 'CANYON COUNTRY', 'CA', '91351-1338', Decimal('34.44756653'), Decimal('-118.4262071'), '661-252-9989'),\n",
       " ('PR0000273', 'STABUCKS @ VONS #2066', '18439 VENTURA BLVD ', 'TARZANA', 'CA', '91356', Decimal('34.16838141'), Decimal('-118.53457'), None),\n",
       " ('PR0000278', 'COCOHODO TORRANCE', '2734 SEPULVEDA BLVD ', 'TORRANCE', 'CA', '90505', Decimal('33.82248757'), Decimal('-118.3331782'), '310-530-3875'),\n",
       " ('PR0000307', \"KING'S BAKERY\", '127 N GARFIELD AVE STE J', 'MONTEREY PARK', 'CA', '91754', Decimal('34.06332786'), Decimal('-118.123686'), None),\n",
       " ('PR0000332', \"PAPA JOHN'S 2247\", '5457 E SOUTH ST ', 'LAKEWOOD', 'CA', '90712', Decimal('33.86073276'), Decimal('-118.1260192'), '562-925-5856'),\n",
       " ('PR0000335', '4 SEASONS HOTEL-THE BAR', '2 DOLE DR', 'WESTLAKE VILLAGE', 'CA', '91362', Decimal('34.15136847'), Decimal('-118.8045058'), None),\n",
       " ('PR0000380', 'BENNYS 19TH HOLE SALOON', '16829 PRAIRIE AVE ', 'LAWNDALE', 'CA', '90260', Decimal('33.87795215'), Decimal('-118.3439873'), None),\n",
       " ('PR0000462', 'TERRACE CINEMAS 6', '28901 S WESTERN AVE ', 'RANCHO PALOS VERDES', 'CA', '90275', Decimal('33.75635356'), Decimal('-118.3103982'), '310-831-1919')]"
      ]
     },
     "execution_count": 32,
     "metadata": {},
     "output_type": "execute_result"
    }
   ],
   "source": [
    "%%sql\n",
    "SELECT * FROM businesses\n",
    "LIMIT 10"
   ]
  },
  {
   "cell_type": "markdown",
   "metadata": {},
   "source": [
    "The following step is to drop columns that do not have useful information to our analysis."
   ]
  },
  {
   "cell_type": "code",
   "execution_count": 33,
   "metadata": {},
   "outputs": [
    {
     "name": "stdout",
     "output_type": "stream",
     "text": [
      "Done.\n"
     ]
    },
    {
     "data": {
      "text/plain": [
       "[]"
      ]
     },
     "execution_count": 33,
     "metadata": {},
     "output_type": "execute_result"
    }
   ],
   "source": [
    "%%sql\n",
    "ALTER TABLE businesses\n",
    "DROP COLUMN state,\n",
    "DROP COLUMN phone_number;"
   ]
  },
  {
   "cell_type": "code",
   "execution_count": 34,
   "metadata": {},
   "outputs": [
    {
     "name": "stdout",
     "output_type": "stream",
     "text": [
      "10 rows affected.\n"
     ]
    },
    {
     "data": {
      "text/html": [
       "<table>\n",
       "    <tr>\n",
       "        <th>business_id</th>\n",
       "        <th>name</th>\n",
       "        <th>address</th>\n",
       "        <th>city</th>\n",
       "        <th>postal_code</th>\n",
       "        <th>latitude</th>\n",
       "        <th>longitude</th>\n",
       "    </tr>\n",
       "    <tr>\n",
       "        <td>PR0000206</td>\n",
       "        <td>JOSYLN SENIOR CENTER</td>\n",
       "        <td>210 N CHAPEL AVE </td>\n",
       "        <td>ALHAMBRA</td>\n",
       "        <td>91801</td>\n",
       "        <td>34.09852551</td>\n",
       "        <td>-118.124767</td>\n",
       "    </tr>\n",
       "    <tr>\n",
       "        <td>PR0000213</td>\n",
       "        <td>STARBUCKS COFFEE #9685</td>\n",
       "        <td>145 N CITRUS AVE </td>\n",
       "        <td>COVINA</td>\n",
       "        <td>91723</td>\n",
       "        <td>34.08732692</td>\n",
       "        <td>-117.8904602</td>\n",
       "    </tr>\n",
       "    <tr>\n",
       "        <td>PR0000250</td>\n",
       "        <td>VFW POST NO. 6110</td>\n",
       "        <td>16555 SIERRA HWY </td>\n",
       "        <td>CANYON COUNTRY</td>\n",
       "        <td>91351-1338</td>\n",
       "        <td>34.44756653</td>\n",
       "        <td>-118.4262071</td>\n",
       "    </tr>\n",
       "    <tr>\n",
       "        <td>PR0000273</td>\n",
       "        <td>STABUCKS @ VONS #2066</td>\n",
       "        <td>18439 VENTURA BLVD </td>\n",
       "        <td>TARZANA</td>\n",
       "        <td>91356</td>\n",
       "        <td>34.16838141</td>\n",
       "        <td>-118.53457</td>\n",
       "    </tr>\n",
       "    <tr>\n",
       "        <td>PR0000278</td>\n",
       "        <td>COCOHODO TORRANCE</td>\n",
       "        <td>2734 SEPULVEDA BLVD </td>\n",
       "        <td>TORRANCE</td>\n",
       "        <td>90505</td>\n",
       "        <td>33.82248757</td>\n",
       "        <td>-118.3331782</td>\n",
       "    </tr>\n",
       "    <tr>\n",
       "        <td>PR0000307</td>\n",
       "        <td>KING&#x27;S BAKERY</td>\n",
       "        <td>127 N GARFIELD AVE STE J</td>\n",
       "        <td>MONTEREY PARK</td>\n",
       "        <td>91754</td>\n",
       "        <td>34.06332786</td>\n",
       "        <td>-118.123686</td>\n",
       "    </tr>\n",
       "    <tr>\n",
       "        <td>PR0000332</td>\n",
       "        <td>PAPA JOHN&#x27;S 2247</td>\n",
       "        <td>5457 E SOUTH ST </td>\n",
       "        <td>LAKEWOOD</td>\n",
       "        <td>90712</td>\n",
       "        <td>33.86073276</td>\n",
       "        <td>-118.1260192</td>\n",
       "    </tr>\n",
       "    <tr>\n",
       "        <td>PR0000335</td>\n",
       "        <td>4 SEASONS HOTEL-THE BAR</td>\n",
       "        <td>2 DOLE DR</td>\n",
       "        <td>WESTLAKE VILLAGE</td>\n",
       "        <td>91362</td>\n",
       "        <td>34.15136847</td>\n",
       "        <td>-118.8045058</td>\n",
       "    </tr>\n",
       "    <tr>\n",
       "        <td>PR0000380</td>\n",
       "        <td>BENNYS 19TH HOLE SALOON</td>\n",
       "        <td>16829 PRAIRIE AVE </td>\n",
       "        <td>LAWNDALE</td>\n",
       "        <td>90260</td>\n",
       "        <td>33.87795215</td>\n",
       "        <td>-118.3439873</td>\n",
       "    </tr>\n",
       "    <tr>\n",
       "        <td>PR0000462</td>\n",
       "        <td>TERRACE CINEMAS 6</td>\n",
       "        <td>28901 S WESTERN AVE </td>\n",
       "        <td>RANCHO PALOS VERDES</td>\n",
       "        <td>90275</td>\n",
       "        <td>33.75635356</td>\n",
       "        <td>-118.3103982</td>\n",
       "    </tr>\n",
       "</table>"
      ],
      "text/plain": [
       "[('PR0000206', 'JOSYLN SENIOR CENTER', '210 N CHAPEL AVE ', 'ALHAMBRA', '91801', Decimal('34.09852551'), Decimal('-118.124767')),\n",
       " ('PR0000213', 'STARBUCKS COFFEE #9685', '145 N CITRUS AVE ', 'COVINA', '91723', Decimal('34.08732692'), Decimal('-117.8904602')),\n",
       " ('PR0000250', 'VFW POST NO. 6110', '16555 SIERRA HWY ', 'CANYON COUNTRY', '91351-1338', Decimal('34.44756653'), Decimal('-118.4262071')),\n",
       " ('PR0000273', 'STABUCKS @ VONS #2066', '18439 VENTURA BLVD ', 'TARZANA', '91356', Decimal('34.16838141'), Decimal('-118.53457')),\n",
       " ('PR0000278', 'COCOHODO TORRANCE', '2734 SEPULVEDA BLVD ', 'TORRANCE', '90505', Decimal('33.82248757'), Decimal('-118.3331782')),\n",
       " ('PR0000307', \"KING'S BAKERY\", '127 N GARFIELD AVE STE J', 'MONTEREY PARK', '91754', Decimal('34.06332786'), Decimal('-118.123686')),\n",
       " ('PR0000332', \"PAPA JOHN'S 2247\", '5457 E SOUTH ST ', 'LAKEWOOD', '90712', Decimal('33.86073276'), Decimal('-118.1260192')),\n",
       " ('PR0000335', '4 SEASONS HOTEL-THE BAR', '2 DOLE DR', 'WESTLAKE VILLAGE', '91362', Decimal('34.15136847'), Decimal('-118.8045058')),\n",
       " ('PR0000380', 'BENNYS 19TH HOLE SALOON', '16829 PRAIRIE AVE ', 'LAWNDALE', '90260', Decimal('33.87795215'), Decimal('-118.3439873')),\n",
       " ('PR0000462', 'TERRACE CINEMAS 6', '28901 S WESTERN AVE ', 'RANCHO PALOS VERDES', '90275', Decimal('33.75635356'), Decimal('-118.3103982'))]"
      ]
     },
     "execution_count": 34,
     "metadata": {},
     "output_type": "execute_result"
    }
   ],
   "source": [
    "%%sql\n",
    "SELECT * FROM businesses\n",
    "LIMIT 10"
   ]
  },
  {
   "cell_type": "markdown",
   "metadata": {},
   "source": [
    "Second, we create \"inspections\" table."
   ]
  },
  {
   "cell_type": "code",
   "execution_count": 36,
   "metadata": {},
   "outputs": [
    {
     "name": "stdout",
     "output_type": "stream",
     "text": [
      "  1. business_id\r\n",
      "\t<class 'str'>\r\n",
      "\tNulls: False\r\n",
      "\tUnique values: 92\r\n",
      "\t5 most frequent values:\r\n",
      "\t\tPR0002000:\t3\r\n",
      "\t\tPR0005769:\t2\r\n",
      "\t\tPR0003877:\t2\r\n",
      "\t\tPR0013583:\t2\r\n",
      "\t\tPR0014182:\t2\r\n",
      "\tMax length: 9\r\n",
      "  2. score\r\n",
      "\t<class 'int'>\r\n",
      "\tNulls: False\r\n",
      "\tMin: 82\r\n",
      "\tMax: 100\r\n",
      "\tSum: 9499\r\n",
      "\tMean: 95.94949494949495\r\n",
      "\tMedian: 96\r\n",
      "\tStandard Deviation: 3.192079014027171\r\n",
      "\tUnique values: 12\r\n",
      "\t5 most frequent values:\r\n",
      "\t\t99:\t15\r\n",
      "\t\t100:\t12\r\n",
      "\t\t97:\t12\r\n",
      "\t\t96:\t11\r\n",
      "\t\t95:\t10\r\n",
      "  3. date\r\n",
      "\t<class 'int'>\r\n",
      "\tNulls: False\r\n",
      "\tMin: 20150623\r\n",
      "\tMax: 20171128\r\n",
      "\tSum: 1996126706\r\n",
      "\tMean: 20162896.020202022\r\n",
      "\tMedian: 20161018\r\n",
      "\tStandard Deviation: 7494.627996616825\r\n",
      "\tUnique values: 92\r\n",
      "\t5 most frequent values:\r\n",
      "\t\t20161007:\t2\r\n",
      "\t\t20171128:\t2\r\n",
      "\t\t20151007:\t2\r\n",
      "\t\t20170503:\t2\r\n",
      "\t\t20160325:\t2\r\n",
      "  4. description\r\n",
      "\t<class 'NoneType'>\r\n",
      "\tNulls: True\r\n",
      "\tValues: \r\n",
      "  5. type\r\n",
      "\t<class 'str'>\r\n",
      "\tNulls: False\r\n",
      "\tValues: Routine\r\n",
      "\r\n",
      "Row count: 99\r\n"
     ]
    }
   ],
   "source": [
    "!head -n 100 inspections.csv | csvstat"
   ]
  },
  {
   "cell_type": "markdown",
   "metadata": {},
   "source": [
    "Based on these values, We expect the \"inspections\" table with the followig values."
   ]
  },
  {
   "cell_type": "code",
   "execution_count": 37,
   "metadata": {},
   "outputs": [
    {
     "name": "stdout",
     "output_type": "stream",
     "text": [
      "Done.\n",
      "Done.\n"
     ]
    },
    {
     "data": {
      "text/plain": [
       "[]"
      ]
     },
     "execution_count": 37,
     "metadata": {},
     "output_type": "execute_result"
    }
   ],
   "source": [
    "%%sql\n",
    "DROP TABLE IF EXISTS inspections;\n",
    "\n",
    "CREATE TABLE inspections (\n",
    "    business_id VARCHAR(20) NOT NULL,\n",
    "    score INT NOT NULL,\n",
    "    date DATE NOT NULL,\n",
    "    description VARCHAR,\n",
    "type1 VARCHAR(10) NOT NULL);"
   ]
  },
  {
   "cell_type": "markdown",
   "metadata": {},
   "source": [
    "Now we'll load the data directly using `COPY` command.  "
   ]
  },
  {
   "cell_type": "code",
   "execution_count": 38,
   "metadata": {
    "collapsed": true
   },
   "outputs": [],
   "source": [
    "!cp inspections.csv /tmp/inspections.csv"
   ]
  },
  {
   "cell_type": "code",
   "execution_count": 39,
   "metadata": {},
   "outputs": [
    {
     "name": "stdout",
     "output_type": "stream",
     "text": [
      "138410 rows affected.\n"
     ]
    },
    {
     "data": {
      "text/plain": [
       "[]"
      ]
     },
     "execution_count": 39,
     "metadata": {},
     "output_type": "execute_result"
    }
   ],
   "source": [
    "%%sql\n",
    "COPY inspections FROM '/tmp/inspections.csv'\n",
    "CSV\n",
    "HEADER;"
   ]
  },
  {
   "cell_type": "code",
   "execution_count": 40,
   "metadata": {},
   "outputs": [
    {
     "name": "stdout",
     "output_type": "stream",
     "text": [
      "1 rows affected.\n"
     ]
    },
    {
     "data": {
      "text/html": [
       "<table>\n",
       "    <tr>\n",
       "        <th>count</th>\n",
       "    </tr>\n",
       "    <tr>\n",
       "        <td>138410</td>\n",
       "    </tr>\n",
       "</table>"
      ],
      "text/plain": [
       "[(138410,)]"
      ]
     },
     "execution_count": 40,
     "metadata": {},
     "output_type": "execute_result"
    }
   ],
   "source": [
    "%%sql\n",
    "SELECT COUNT(*) FROM inspections;"
   ]
  },
  {
   "cell_type": "markdown",
   "metadata": {},
   "source": [
    "The following step is to verify that all data has been imported into the \"inspections\" table. "
   ]
  },
  {
   "cell_type": "code",
   "execution_count": 41,
   "metadata": {},
   "outputs": [
    {
     "name": "stdout",
     "output_type": "stream",
     "text": [
      "138410\r\n"
     ]
    }
   ],
   "source": [
    "!xsv count inspections.csv"
   ]
  },
  {
   "cell_type": "code",
   "execution_count": 42,
   "metadata": {},
   "outputs": [
    {
     "name": "stdout",
     "output_type": "stream",
     "text": [
      "10 rows affected.\n"
     ]
    },
    {
     "data": {
      "text/html": [
       "<table>\n",
       "    <tr>\n",
       "        <th>business_id</th>\n",
       "        <th>score</th>\n",
       "        <th>date</th>\n",
       "        <th>description</th>\n",
       "        <th>type1</th>\n",
       "    </tr>\n",
       "    <tr>\n",
       "        <td>PR0014182</td>\n",
       "        <td>95</td>\n",
       "        <td>2017-02-07</td>\n",
       "        <td></td>\n",
       "        <td>Routine</td>\n",
       "    </tr>\n",
       "    <tr>\n",
       "        <td>PR0005730</td>\n",
       "        <td>99</td>\n",
       "        <td>2016-12-16</td>\n",
       "        <td></td>\n",
       "        <td>Routine</td>\n",
       "    </tr>\n",
       "    <tr>\n",
       "        <td>PR0003877</td>\n",
       "        <td>96</td>\n",
       "        <td>2017-01-05</td>\n",
       "        <td></td>\n",
       "        <td>Routine</td>\n",
       "    </tr>\n",
       "    <tr>\n",
       "        <td>PR0002710</td>\n",
       "        <td>92</td>\n",
       "        <td>2016-04-01</td>\n",
       "        <td></td>\n",
       "        <td>Routine</td>\n",
       "    </tr>\n",
       "    <tr>\n",
       "        <td>PR0015938</td>\n",
       "        <td>95</td>\n",
       "        <td>2017-01-11</td>\n",
       "        <td></td>\n",
       "        <td>Routine</td>\n",
       "    </tr>\n",
       "    <tr>\n",
       "        <td>PR0002248</td>\n",
       "        <td>100</td>\n",
       "        <td>2015-08-05</td>\n",
       "        <td></td>\n",
       "        <td>Routine</td>\n",
       "    </tr>\n",
       "    <tr>\n",
       "        <td>PR0003383</td>\n",
       "        <td>99</td>\n",
       "        <td>2017-08-18</td>\n",
       "        <td></td>\n",
       "        <td>Routine</td>\n",
       "    </tr>\n",
       "    <tr>\n",
       "        <td>PR0014634</td>\n",
       "        <td>98</td>\n",
       "        <td>2015-06-23</td>\n",
       "        <td></td>\n",
       "        <td>Routine</td>\n",
       "    </tr>\n",
       "    <tr>\n",
       "        <td>PR0005552</td>\n",
       "        <td>96</td>\n",
       "        <td>2015-10-23</td>\n",
       "        <td></td>\n",
       "        <td>Routine</td>\n",
       "    </tr>\n",
       "    <tr>\n",
       "        <td>PR0010531</td>\n",
       "        <td>100</td>\n",
       "        <td>2016-06-06</td>\n",
       "        <td></td>\n",
       "        <td>Routine</td>\n",
       "    </tr>\n",
       "</table>"
      ],
      "text/plain": [
       "[('PR0014182', 95, datetime.date(2017, 2, 7), '', 'Routine'),\n",
       " ('PR0005730', 99, datetime.date(2016, 12, 16), '', 'Routine'),\n",
       " ('PR0003877', 96, datetime.date(2017, 1, 5), '', 'Routine'),\n",
       " ('PR0002710', 92, datetime.date(2016, 4, 1), '', 'Routine'),\n",
       " ('PR0015938', 95, datetime.date(2017, 1, 11), '', 'Routine'),\n",
       " ('PR0002248', 100, datetime.date(2015, 8, 5), '', 'Routine'),\n",
       " ('PR0003383', 99, datetime.date(2017, 8, 18), '', 'Routine'),\n",
       " ('PR0014634', 98, datetime.date(2015, 6, 23), '', 'Routine'),\n",
       " ('PR0005552', 96, datetime.date(2015, 10, 23), '', 'Routine'),\n",
       " ('PR0010531', 100, datetime.date(2016, 6, 6), '', 'Routine')]"
      ]
     },
     "execution_count": 42,
     "metadata": {},
     "output_type": "execute_result"
    }
   ],
   "source": [
    "%%sql\n",
    "SELECT * FROM inspections\n",
    "LIMIT 10"
   ]
  },
  {
   "cell_type": "markdown",
   "metadata": {},
   "source": [
    "The following step is to drop columns that do not have useful information to our analysis."
   ]
  },
  {
   "cell_type": "code",
   "execution_count": 43,
   "metadata": {},
   "outputs": [
    {
     "name": "stdout",
     "output_type": "stream",
     "text": [
      "Done.\n"
     ]
    },
    {
     "data": {
      "text/plain": [
       "[]"
      ]
     },
     "execution_count": 43,
     "metadata": {},
     "output_type": "execute_result"
    }
   ],
   "source": [
    "%%sql\n",
    "ALTER TABLE inspections\n",
    "DROP COLUMN type1,\n",
    "DROP COLUMN description;"
   ]
  },
  {
   "cell_type": "code",
   "execution_count": 44,
   "metadata": {},
   "outputs": [
    {
     "name": "stdout",
     "output_type": "stream",
     "text": [
      "10 rows affected.\n"
     ]
    },
    {
     "data": {
      "text/html": [
       "<table>\n",
       "    <tr>\n",
       "        <th>business_id</th>\n",
       "        <th>score</th>\n",
       "        <th>date</th>\n",
       "    </tr>\n",
       "    <tr>\n",
       "        <td>PR0014182</td>\n",
       "        <td>95</td>\n",
       "        <td>2017-02-07</td>\n",
       "    </tr>\n",
       "    <tr>\n",
       "        <td>PR0005730</td>\n",
       "        <td>99</td>\n",
       "        <td>2016-12-16</td>\n",
       "    </tr>\n",
       "    <tr>\n",
       "        <td>PR0003877</td>\n",
       "        <td>96</td>\n",
       "        <td>2017-01-05</td>\n",
       "    </tr>\n",
       "    <tr>\n",
       "        <td>PR0002710</td>\n",
       "        <td>92</td>\n",
       "        <td>2016-04-01</td>\n",
       "    </tr>\n",
       "    <tr>\n",
       "        <td>PR0015938</td>\n",
       "        <td>95</td>\n",
       "        <td>2017-01-11</td>\n",
       "    </tr>\n",
       "    <tr>\n",
       "        <td>PR0002248</td>\n",
       "        <td>100</td>\n",
       "        <td>2015-08-05</td>\n",
       "    </tr>\n",
       "    <tr>\n",
       "        <td>PR0003383</td>\n",
       "        <td>99</td>\n",
       "        <td>2017-08-18</td>\n",
       "    </tr>\n",
       "    <tr>\n",
       "        <td>PR0014634</td>\n",
       "        <td>98</td>\n",
       "        <td>2015-06-23</td>\n",
       "    </tr>\n",
       "    <tr>\n",
       "        <td>PR0005552</td>\n",
       "        <td>96</td>\n",
       "        <td>2015-10-23</td>\n",
       "    </tr>\n",
       "    <tr>\n",
       "        <td>PR0010531</td>\n",
       "        <td>100</td>\n",
       "        <td>2016-06-06</td>\n",
       "    </tr>\n",
       "</table>"
      ],
      "text/plain": [
       "[('PR0014182', 95, datetime.date(2017, 2, 7)),\n",
       " ('PR0005730', 99, datetime.date(2016, 12, 16)),\n",
       " ('PR0003877', 96, datetime.date(2017, 1, 5)),\n",
       " ('PR0002710', 92, datetime.date(2016, 4, 1)),\n",
       " ('PR0015938', 95, datetime.date(2017, 1, 11)),\n",
       " ('PR0002248', 100, datetime.date(2015, 8, 5)),\n",
       " ('PR0003383', 99, datetime.date(2017, 8, 18)),\n",
       " ('PR0014634', 98, datetime.date(2015, 6, 23)),\n",
       " ('PR0005552', 96, datetime.date(2015, 10, 23)),\n",
       " ('PR0010531', 100, datetime.date(2016, 6, 6))]"
      ]
     },
     "execution_count": 44,
     "metadata": {},
     "output_type": "execute_result"
    }
   ],
   "source": [
    "%%sql\n",
    "SELECT * FROM inspections\n",
    "LIMIT 10"
   ]
  },
  {
   "cell_type": "markdown",
   "metadata": {},
   "source": [
    "Third, we create \"violations\" table."
   ]
  },
  {
   "cell_type": "code",
   "execution_count": 45,
   "metadata": {
    "scrolled": true
   },
   "outputs": [
    {
     "name": "stdout",
     "output_type": "stream",
     "text": [
      "  1. business_id\r\n",
      "\t<class 'str'>\r\n",
      "\tNulls: False\r\n",
      "\tUnique values: 34\r\n",
      "\t5 most frequent values:\r\n",
      "\t\tPR0014954:\t6\r\n",
      "\t\tPR0011662:\t6\r\n",
      "\t\tPR0013208:\t5\r\n",
      "\t\tPR0010207:\t5\r\n",
      "\t\tPR0010538:\t5\r\n",
      "\tMax length: 9\r\n",
      "  2. date\r\n",
      "\t<class 'int'>\r\n",
      "\tNulls: False\r\n",
      "\tMin: 20150608\r\n",
      "\tMax: 20150630\r\n",
      "\tSum: 1994911503\r\n",
      "\tMean: 20150621.242424242\r\n",
      "\tMedian: 20150623\r\n",
      "\tStandard Deviation: 6.226516948902309\r\n",
      "\tUnique values: 15\r\n",
      "\t5 most frequent values:\r\n",
      "\t\t20150618:\t15\r\n",
      "\t\t20150624:\t15\r\n",
      "\t\t20150609:\t13\r\n",
      "\t\t20150622:\t8\r\n",
      "\t\t20150625:\t8\r\n",
      "  3. code\r\n",
      "\t<class 'str'>\r\n",
      "\tNulls: False\r\n",
      "\tUnique values: 24\r\n",
      "\t5 most frequent values:\r\n",
      "\t\tF044:\t17\r\n",
      "\t\tF033:\t14\r\n",
      "\t\tF040:\t6\r\n",
      "\t\tF037:\t6\r\n",
      "\t\tF035:\t6\r\n",
      "\tMax length: 4\r\n",
      "  4. description\r\n",
      "\t<class 'str'>\r\n",
      "\tNulls: False\r\n",
      "\tUnique values: 24\r\n",
      "\t5 most frequent values:\r\n",
      "\t\tStandard Not Met: Floors, walls and ceilings: properly built, maintained in good repair and clean:\t17\r\n",
      "\t\tStandard Not Met: Nonfood-contact surfaces clean and in good repair:\t14\r\n",
      "\t\tStandard Not Met: Equipment/Utensils - approved; installed; clean; good repair, capacity:\t6\r\n",
      "\t\tStandard Not Met: Adequate ventilation and lighting; designated areas, use:\t6\r\n",
      "\t\tStandard Not Met: Hot and cold water available:\t6\r\n",
      "\tMax length: 99\r\n",
      "\r\n",
      "Row count: 99\r\n"
     ]
    }
   ],
   "source": [
    "!head -n 100 violations.csv | csvstat"
   ]
  },
  {
   "cell_type": "markdown",
   "metadata": {},
   "source": [
    "Based on these values, We expect the \"violations\" table with the followig values."
   ]
  },
  {
   "cell_type": "code",
   "execution_count": 46,
   "metadata": {},
   "outputs": [
    {
     "name": "stdout",
     "output_type": "stream",
     "text": [
      "Done.\n",
      "Done.\n"
     ]
    },
    {
     "data": {
      "text/plain": [
       "[]"
      ]
     },
     "execution_count": 46,
     "metadata": {},
     "output_type": "execute_result"
    }
   ],
   "source": [
    "%%sql\n",
    "DROP TABLE IF EXISTS violations;\n",
    "\n",
    "CREATE TABLE violations (\n",
    "    business_id VARCHAR(20) NOT NULL,\n",
    "    date DATE NOT NULL,\n",
    "    code VARCHAR(10) NOT NULL,\n",
    "    description VARCHAR NOT NULL\n",
    ");"
   ]
  },
  {
   "cell_type": "markdown",
   "metadata": {},
   "source": [
    "Now we'll load the data directly using `COPY` command.  "
   ]
  },
  {
   "cell_type": "code",
   "execution_count": 47,
   "metadata": {
    "collapsed": true
   },
   "outputs": [],
   "source": [
    "!cp violations.csv /tmp/violations.csv"
   ]
  },
  {
   "cell_type": "code",
   "execution_count": 48,
   "metadata": {},
   "outputs": [
    {
     "name": "stdout",
     "output_type": "stream",
     "text": [
      "670440 rows affected.\n"
     ]
    },
    {
     "data": {
      "text/plain": [
       "[]"
      ]
     },
     "execution_count": 48,
     "metadata": {},
     "output_type": "execute_result"
    }
   ],
   "source": [
    "%%sql\n",
    "COPY violations FROM '/tmp/violations.csv'\n",
    "CSV\n",
    "HEADER;"
   ]
  },
  {
   "cell_type": "code",
   "execution_count": 49,
   "metadata": {},
   "outputs": [
    {
     "name": "stdout",
     "output_type": "stream",
     "text": [
      "1 rows affected.\n"
     ]
    },
    {
     "data": {
      "text/html": [
       "<table>\n",
       "    <tr>\n",
       "        <th>count</th>\n",
       "    </tr>\n",
       "    <tr>\n",
       "        <td>670440</td>\n",
       "    </tr>\n",
       "</table>"
      ],
      "text/plain": [
       "[(670440,)]"
      ]
     },
     "execution_count": 49,
     "metadata": {},
     "output_type": "execute_result"
    }
   ],
   "source": [
    "%%sql\n",
    "SELECT COUNT(*) FROM violations;"
   ]
  },
  {
   "cell_type": "markdown",
   "metadata": {},
   "source": [
    "The following step is to verify that all data has been imported into the \"violations\" table. "
   ]
  },
  {
   "cell_type": "code",
   "execution_count": 50,
   "metadata": {},
   "outputs": [
    {
     "name": "stdout",
     "output_type": "stream",
     "text": [
      "670440\r\n"
     ]
    }
   ],
   "source": [
    "!xsv count violations.csv"
   ]
  },
  {
   "cell_type": "code",
   "execution_count": 51,
   "metadata": {},
   "outputs": [
    {
     "name": "stdout",
     "output_type": "stream",
     "text": [
      "10 rows affected.\n"
     ]
    },
    {
     "data": {
      "text/html": [
       "<table>\n",
       "    <tr>\n",
       "        <th>business_id</th>\n",
       "        <th>date</th>\n",
       "        <th>code</th>\n",
       "        <th>description</th>\n",
       "    </tr>\n",
       "    <tr>\n",
       "        <td>PR0005705</td>\n",
       "        <td>2015-06-08</td>\n",
       "        <td>F040</td>\n",
       "        <td>Standard Not Met: Plumbing: Plumbing in good repair, proper backflow devices</td>\n",
       "    </tr>\n",
       "    <tr>\n",
       "        <td>PR0008515</td>\n",
       "        <td>2015-06-09</td>\n",
       "        <td>F052</td>\n",
       "        <td>Standard Not Met: Food safety certification</td>\n",
       "    </tr>\n",
       "    <tr>\n",
       "        <td>PR0011662</td>\n",
       "        <td>2015-06-09</td>\n",
       "        <td>F044</td>\n",
       "        <td>Standard Not Met: Floors, walls and ceilings: properly built, maintained in good repair and clean</td>\n",
       "    </tr>\n",
       "    <tr>\n",
       "        <td>PR0011662</td>\n",
       "        <td>2015-06-09</td>\n",
       "        <td>F040</td>\n",
       "        <td>Standard Not Met: Plumbing: Plumbing in good repair, proper backflow devices</td>\n",
       "    </tr>\n",
       "    <tr>\n",
       "        <td>PR0011662</td>\n",
       "        <td>2015-06-09</td>\n",
       "        <td>F050</td>\n",
       "        <td>Standard Not Met: Permit Suspension</td>\n",
       "    </tr>\n",
       "    <tr>\n",
       "        <td>PR0011662</td>\n",
       "        <td>2015-06-09</td>\n",
       "        <td>F023</td>\n",
       "        <td>Standard Not Met: No rodents, insects, birds, or animals</td>\n",
       "    </tr>\n",
       "    <tr>\n",
       "        <td>PR0011662</td>\n",
       "        <td>2015-06-09</td>\n",
       "        <td>F006</td>\n",
       "        <td>Standard Not Met: Adequate handwashing facilities supplied &amp; accessible</td>\n",
       "    </tr>\n",
       "    <tr>\n",
       "        <td>PR0011662</td>\n",
       "        <td>2015-06-09</td>\n",
       "        <td>F014</td>\n",
       "        <td>Standard Not Met: Food contact surfaces: clean and sanitized</td>\n",
       "    </tr>\n",
       "    <tr>\n",
       "        <td>PR0002788</td>\n",
       "        <td>2015-06-09</td>\n",
       "        <td>F006</td>\n",
       "        <td>Standard Not Met: Adequate handwashing facilities supplied &amp; accessible</td>\n",
       "    </tr>\n",
       "    <tr>\n",
       "        <td>PR0002788</td>\n",
       "        <td>2015-06-09</td>\n",
       "        <td>F039</td>\n",
       "        <td>Standard Not Met: Wiping cloths: properly used and stored</td>\n",
       "    </tr>\n",
       "</table>"
      ],
      "text/plain": [
       "[('PR0005705', datetime.date(2015, 6, 8), 'F040', 'Standard Not Met: Plumbing: Plumbing in good repair, proper backflow devices'),\n",
       " ('PR0008515', datetime.date(2015, 6, 9), 'F052', 'Standard Not Met: Food safety certification'),\n",
       " ('PR0011662', datetime.date(2015, 6, 9), 'F044', 'Standard Not Met: Floors, walls and ceilings: properly built, maintained in good repair and clean'),\n",
       " ('PR0011662', datetime.date(2015, 6, 9), 'F040', 'Standard Not Met: Plumbing: Plumbing in good repair, proper backflow devices'),\n",
       " ('PR0011662', datetime.date(2015, 6, 9), 'F050', 'Standard Not Met: Permit Suspension'),\n",
       " ('PR0011662', datetime.date(2015, 6, 9), 'F023', 'Standard Not Met: No rodents, insects, birds, or animals'),\n",
       " ('PR0011662', datetime.date(2015, 6, 9), 'F006', 'Standard Not Met: Adequate handwashing facilities supplied & accessible'),\n",
       " ('PR0011662', datetime.date(2015, 6, 9), 'F014', 'Standard Not Met: Food contact surfaces: clean and sanitized'),\n",
       " ('PR0002788', datetime.date(2015, 6, 9), 'F006', 'Standard Not Met: Adequate handwashing facilities supplied & accessible'),\n",
       " ('PR0002788', datetime.date(2015, 6, 9), 'F039', 'Standard Not Met: Wiping cloths: properly used and stored')]"
      ]
     },
     "execution_count": 51,
     "metadata": {},
     "output_type": "execute_result"
    }
   ],
   "source": [
    "%%sql\n",
    "SELECT * FROM violations\n",
    "LIMIT 10"
   ]
  },
  {
   "cell_type": "code",
   "execution_count": null,
   "metadata": {
    "collapsed": true
   },
   "outputs": [],
   "source": []
  },
  {
   "cell_type": "code",
   "execution_count": null,
   "metadata": {
    "collapsed": true
   },
   "outputs": [],
   "source": []
  },
  {
   "cell_type": "code",
   "execution_count": null,
   "metadata": {
    "collapsed": true
   },
   "outputs": [],
   "source": []
  },
  {
   "cell_type": "code",
   "execution_count": null,
   "metadata": {
    "collapsed": true
   },
   "outputs": [],
   "source": []
  },
  {
   "cell_type": "code",
   "execution_count": null,
   "metadata": {
    "collapsed": true
   },
   "outputs": [],
   "source": []
  },
  {
   "cell_type": "code",
   "execution_count": null,
   "metadata": {
    "collapsed": true
   },
   "outputs": [],
   "source": []
  },
  {
   "cell_type": "code",
   "execution_count": null,
   "metadata": {
    "collapsed": true
   },
   "outputs": [],
   "source": []
  },
  {
   "cell_type": "markdown",
   "metadata": {
    "collapsed": true
   },
   "source": [
    "# Part 2 Wrangling"
   ]
  },
  {
   "cell_type": "markdown",
   "metadata": {},
   "source": [
    "First, after browsing the dataset, we realized that for “inspections” table, there are different scores for the same restaurant on the same date. In order to solve this problem, we create a new table “inspections_clean” with the average score for the same restaurant on the same date."
   ]
  },
  {
   "cell_type": "code",
   "execution_count": 52,
   "metadata": {},
   "outputs": [
    {
     "name": "stdout",
     "output_type": "stream",
     "text": [
      "Done.\n",
      "Done.\n"
     ]
    },
    {
     "data": {
      "text/plain": [
       "[]"
      ]
     },
     "execution_count": 52,
     "metadata": {},
     "output_type": "execute_result"
    }
   ],
   "source": [
    "%%sql\n",
    "DROP TABLE IF EXISTS inspections_clean;\n",
    "\n",
    "CREATE TABLE inspections_clean (\n",
    "    business_id VARCHAR(20) NOT NULL,\n",
    "    date DATE NOT NULL,\n",
    "    avg_score INT NOT NULL);"
   ]
  },
  {
   "cell_type": "code",
   "execution_count": 53,
   "metadata": {},
   "outputs": [
    {
     "name": "stdout",
     "output_type": "stream",
     "text": [
      "138299 rows affected.\n"
     ]
    },
    {
     "data": {
      "text/plain": [
       "[]"
      ]
     },
     "execution_count": 53,
     "metadata": {},
     "output_type": "execute_result"
    }
   ],
   "source": [
    "%%sql\n",
    "INSERT INTO inspections_clean\n",
    "SELECT business_id, date, AVG (score) AS avg_score\n",
    "FROM inspections\n",
    "GROUP BY business_id, date"
   ]
  },
  {
   "cell_type": "code",
   "execution_count": 54,
   "metadata": {},
   "outputs": [
    {
     "name": "stdout",
     "output_type": "stream",
     "text": [
      "10 rows affected.\n"
     ]
    },
    {
     "data": {
      "text/html": [
       "<table>\n",
       "    <tr>\n",
       "        <th>business_id</th>\n",
       "        <th>date</th>\n",
       "        <th>avg_score</th>\n",
       "    </tr>\n",
       "    <tr>\n",
       "        <td>PR0026143</td>\n",
       "        <td>2017-08-16</td>\n",
       "        <td>91</td>\n",
       "    </tr>\n",
       "    <tr>\n",
       "        <td>PR0044074</td>\n",
       "        <td>2016-06-30</td>\n",
       "        <td>98</td>\n",
       "    </tr>\n",
       "    <tr>\n",
       "        <td>PR0170361</td>\n",
       "        <td>2017-03-07</td>\n",
       "        <td>92</td>\n",
       "    </tr>\n",
       "    <tr>\n",
       "        <td>PR0157388</td>\n",
       "        <td>2015-11-12</td>\n",
       "        <td>97</td>\n",
       "    </tr>\n",
       "    <tr>\n",
       "        <td>PR0032337</td>\n",
       "        <td>2015-10-29</td>\n",
       "        <td>85</td>\n",
       "    </tr>\n",
       "    <tr>\n",
       "        <td>PR0176932</td>\n",
       "        <td>2017-09-12</td>\n",
       "        <td>93</td>\n",
       "    </tr>\n",
       "    <tr>\n",
       "        <td>PR0180865</td>\n",
       "        <td>2016-07-20</td>\n",
       "        <td>90</td>\n",
       "    </tr>\n",
       "    <tr>\n",
       "        <td>PR0022927</td>\n",
       "        <td>2016-01-11</td>\n",
       "        <td>94</td>\n",
       "    </tr>\n",
       "    <tr>\n",
       "        <td>PR0021106</td>\n",
       "        <td>2015-10-22</td>\n",
       "        <td>94</td>\n",
       "    </tr>\n",
       "    <tr>\n",
       "        <td>PR0148608</td>\n",
       "        <td>2016-08-10</td>\n",
       "        <td>94</td>\n",
       "    </tr>\n",
       "</table>"
      ],
      "text/plain": [
       "[('PR0026143', datetime.date(2017, 8, 16), 91),\n",
       " ('PR0044074', datetime.date(2016, 6, 30), 98),\n",
       " ('PR0170361', datetime.date(2017, 3, 7), 92),\n",
       " ('PR0157388', datetime.date(2015, 11, 12), 97),\n",
       " ('PR0032337', datetime.date(2015, 10, 29), 85),\n",
       " ('PR0176932', datetime.date(2017, 9, 12), 93),\n",
       " ('PR0180865', datetime.date(2016, 7, 20), 90),\n",
       " ('PR0022927', datetime.date(2016, 1, 11), 94),\n",
       " ('PR0021106', datetime.date(2015, 10, 22), 94),\n",
       " ('PR0148608', datetime.date(2016, 8, 10), 94)]"
      ]
     },
     "execution_count": 54,
     "metadata": {},
     "output_type": "execute_result"
    }
   ],
   "source": [
    "%%sql\n",
    "SELECT *\n",
    "FROM inspections_clean\n",
    "LIMIT 10; "
   ]
  },
  {
   "cell_type": "markdown",
   "metadata": {},
   "source": [
    "The following step is to verify that there is only one score for each restaurant on each inspection date. "
   ]
  },
  {
   "cell_type": "code",
   "execution_count": 55,
   "metadata": {},
   "outputs": [
    {
     "name": "stdout",
     "output_type": "stream",
     "text": [
      "10 rows affected.\n"
     ]
    },
    {
     "data": {
      "text/html": [
       "<table>\n",
       "    <tr>\n",
       "        <th>business_id</th>\n",
       "        <th>date</th>\n",
       "        <th>count</th>\n",
       "    </tr>\n",
       "    <tr>\n",
       "        <td>PR0044074</td>\n",
       "        <td>2016-06-30</td>\n",
       "        <td>1</td>\n",
       "    </tr>\n",
       "    <tr>\n",
       "        <td>PR0170361</td>\n",
       "        <td>2017-03-07</td>\n",
       "        <td>1</td>\n",
       "    </tr>\n",
       "    <tr>\n",
       "        <td>PR0157388</td>\n",
       "        <td>2015-11-12</td>\n",
       "        <td>1</td>\n",
       "    </tr>\n",
       "    <tr>\n",
       "        <td>PR0032337</td>\n",
       "        <td>2015-10-29</td>\n",
       "        <td>1</td>\n",
       "    </tr>\n",
       "    <tr>\n",
       "        <td>PR0176932</td>\n",
       "        <td>2017-09-12</td>\n",
       "        <td>1</td>\n",
       "    </tr>\n",
       "    <tr>\n",
       "        <td>PR0180865</td>\n",
       "        <td>2016-07-20</td>\n",
       "        <td>1</td>\n",
       "    </tr>\n",
       "    <tr>\n",
       "        <td>PR0022927</td>\n",
       "        <td>2016-01-11</td>\n",
       "        <td>1</td>\n",
       "    </tr>\n",
       "    <tr>\n",
       "        <td>PR0021106</td>\n",
       "        <td>2015-10-22</td>\n",
       "        <td>1</td>\n",
       "    </tr>\n",
       "    <tr>\n",
       "        <td>PR0148608</td>\n",
       "        <td>2016-08-10</td>\n",
       "        <td>1</td>\n",
       "    </tr>\n",
       "    <tr>\n",
       "        <td>PR0026143</td>\n",
       "        <td>2017-08-16</td>\n",
       "        <td>1</td>\n",
       "    </tr>\n",
       "</table>"
      ],
      "text/plain": [
       "[('PR0044074', datetime.date(2016, 6, 30), 1),\n",
       " ('PR0170361', datetime.date(2017, 3, 7), 1),\n",
       " ('PR0157388', datetime.date(2015, 11, 12), 1),\n",
       " ('PR0032337', datetime.date(2015, 10, 29), 1),\n",
       " ('PR0176932', datetime.date(2017, 9, 12), 1),\n",
       " ('PR0180865', datetime.date(2016, 7, 20), 1),\n",
       " ('PR0022927', datetime.date(2016, 1, 11), 1),\n",
       " ('PR0021106', datetime.date(2015, 10, 22), 1),\n",
       " ('PR0148608', datetime.date(2016, 8, 10), 1),\n",
       " ('PR0026143', datetime.date(2017, 8, 16), 1)]"
      ]
     },
     "execution_count": 55,
     "metadata": {},
     "output_type": "execute_result"
    }
   ],
   "source": [
    "%%sql\n",
    "SELECT business_id, date, count(*) AS COUNT\n",
    "FROM inspections_clean\n",
    "GROUP BY business_id, date\n",
    "ORDER BY COUNT DESC\n",
    "LIMIT 10;"
   ]
  },
  {
   "cell_type": "markdown",
   "metadata": {},
   "source": [
    "Second, we add a new column \"grade\" on the \"inspections_clean\" table to define the average score by reference to the \"legend.csv\". "
   ]
  },
  {
   "cell_type": "code",
   "execution_count": 56,
   "metadata": {},
   "outputs": [
    {
     "name": "stdout",
     "output_type": "stream",
     "text": [
      "Done.\n",
      "130785 rows affected.\n",
      "6995 rows affected.\n",
      "490 rows affected.\n",
      "29 rows affected.\n"
     ]
    },
    {
     "data": {
      "text/plain": [
       "[]"
      ]
     },
     "execution_count": 56,
     "metadata": {},
     "output_type": "execute_result"
    }
   ],
   "source": [
    "%%sql\n",
    "ALTER TABLE inspections_clean\n",
    "ADD grade VARCHAR(5);\n",
    "\n",
    "UPDATE inspections_clean\n",
    "SET grade = 'A'\n",
    "WHERE avg_score>=90;\n",
    "\n",
    "UPDATE inspections_clean\n",
    "SET grade = 'B'\n",
    "WHERE avg_score<=89\n",
    "AND avg_score>=80;\n",
    "\n",
    "UPDATE inspections_clean\n",
    "SET grade = 'C'\n",
    "WHERE avg_score<=79\n",
    "AND avg_score>=70;\n",
    "\n",
    "UPDATE inspections_clean\n",
    "SET grade = 'F'\n",
    "WHERE avg_score<=69; "
   ]
  },
  {
   "cell_type": "code",
   "execution_count": 57,
   "metadata": {},
   "outputs": [
    {
     "name": "stdout",
     "output_type": "stream",
     "text": [
      "10 rows affected.\n"
     ]
    },
    {
     "data": {
      "text/html": [
       "<table>\n",
       "    <tr>\n",
       "        <th>business_id</th>\n",
       "        <th>date</th>\n",
       "        <th>avg_score</th>\n",
       "        <th>grade</th>\n",
       "    </tr>\n",
       "    <tr>\n",
       "        <td>PR0032337</td>\n",
       "        <td>2015-10-29</td>\n",
       "        <td>85</td>\n",
       "        <td>B</td>\n",
       "    </tr>\n",
       "    <tr>\n",
       "        <td>PR0017201</td>\n",
       "        <td>2017-10-12</td>\n",
       "        <td>81</td>\n",
       "        <td>B</td>\n",
       "    </tr>\n",
       "    <tr>\n",
       "        <td>PR0022192</td>\n",
       "        <td>2017-05-12</td>\n",
       "        <td>86</td>\n",
       "        <td>B</td>\n",
       "    </tr>\n",
       "    <tr>\n",
       "        <td>PR0040430</td>\n",
       "        <td>2017-06-28</td>\n",
       "        <td>86</td>\n",
       "        <td>B</td>\n",
       "    </tr>\n",
       "    <tr>\n",
       "        <td>PR0172424</td>\n",
       "        <td>2017-06-21</td>\n",
       "        <td>85</td>\n",
       "        <td>B</td>\n",
       "    </tr>\n",
       "    <tr>\n",
       "        <td>PR0036788</td>\n",
       "        <td>2016-06-14</td>\n",
       "        <td>82</td>\n",
       "        <td>B</td>\n",
       "    </tr>\n",
       "    <tr>\n",
       "        <td>PR0029279</td>\n",
       "        <td>2015-10-09</td>\n",
       "        <td>82</td>\n",
       "        <td>B</td>\n",
       "    </tr>\n",
       "    <tr>\n",
       "        <td>PR0016519</td>\n",
       "        <td>2015-07-02</td>\n",
       "        <td>84</td>\n",
       "        <td>B</td>\n",
       "    </tr>\n",
       "    <tr>\n",
       "        <td>PR0021510</td>\n",
       "        <td>2017-11-13</td>\n",
       "        <td>80</td>\n",
       "        <td>B</td>\n",
       "    </tr>\n",
       "    <tr>\n",
       "        <td>PR0003557</td>\n",
       "        <td>2016-05-19</td>\n",
       "        <td>86</td>\n",
       "        <td>B</td>\n",
       "    </tr>\n",
       "</table>"
      ],
      "text/plain": [
       "[('PR0032337', datetime.date(2015, 10, 29), 85, 'B'),\n",
       " ('PR0017201', datetime.date(2017, 10, 12), 81, 'B'),\n",
       " ('PR0022192', datetime.date(2017, 5, 12), 86, 'B'),\n",
       " ('PR0040430', datetime.date(2017, 6, 28), 86, 'B'),\n",
       " ('PR0172424', datetime.date(2017, 6, 21), 85, 'B'),\n",
       " ('PR0036788', datetime.date(2016, 6, 14), 82, 'B'),\n",
       " ('PR0029279', datetime.date(2015, 10, 9), 82, 'B'),\n",
       " ('PR0016519', datetime.date(2015, 7, 2), 84, 'B'),\n",
       " ('PR0021510', datetime.date(2017, 11, 13), 80, 'B'),\n",
       " ('PR0003557', datetime.date(2016, 5, 19), 86, 'B')]"
      ]
     },
     "execution_count": 57,
     "metadata": {},
     "output_type": "execute_result"
    }
   ],
   "source": [
    "%%sql\n",
    "SELECT *\n",
    "FROM inspections_clean\n",
    "LIMIT 10; "
   ]
  },
  {
   "cell_type": "markdown",
   "metadata": {},
   "source": [
    "Third, we found that there are restaurants which got 100 average score but still have violations in the “violations” table and restaurants which did not get 100 average score but did not have violations in the “violations” table. In order to avoid null value for the following analysis when joining tables, we decided to drop rows that have the above situations in the \"inspections_clean\" table. From the following results, we could see there are only 30 rows. Compared to the total large inspections, we think it won’t influence our result. "
   ]
  },
  {
   "cell_type": "code",
   "execution_count": 58,
   "metadata": {},
   "outputs": [
    {
     "name": "stdout",
     "output_type": "stream",
     "text": [
      "Done.\n",
      "Done.\n"
     ]
    },
    {
     "data": {
      "text/plain": [
       "[]"
      ]
     },
     "execution_count": 58,
     "metadata": {},
     "output_type": "execute_result"
    }
   ],
   "source": [
    "%%sql\n",
    "DROP TABLE IF EXISTS deletes;\n",
    "\n",
    "CREATE TABLE deletes(\n",
    "id VARCHAR(100),\n",
    "date DATE)"
   ]
  },
  {
   "cell_type": "code",
   "execution_count": 59,
   "metadata": {},
   "outputs": [
    {
     "name": "stdout",
     "output_type": "stream",
     "text": [
      "19 rows affected.\n"
     ]
    },
    {
     "data": {
      "text/plain": [
       "[]"
      ]
     },
     "execution_count": 59,
     "metadata": {},
     "output_type": "execute_result"
    }
   ],
   "source": [
    "%%sql\n",
    "INSERT INTO deletes\n",
    "SELECT inspections_clean.business_id, inspections_clean.date\n",
    "FROM inspections_clean\n",
    "FULL JOIN violations\n",
    "ON inspections_clean.business_id = violations.business_id\n",
    "AND inspections_clean.date = violations.date\n",
    "WHERE inspections_clean.avg_score = 100\n",
    "AND violations.code IS NOT NULL\n",
    "GROUP BY inspections_clean.business_id,inspections_clean.date\n",
    "ORDER BY date"
   ]
  },
  {
   "cell_type": "code",
   "execution_count": 60,
   "metadata": {},
   "outputs": [
    {
     "name": "stdout",
     "output_type": "stream",
     "text": [
      "11 rows affected.\n"
     ]
    },
    {
     "data": {
      "text/plain": [
       "[]"
      ]
     },
     "execution_count": 60,
     "metadata": {},
     "output_type": "execute_result"
    }
   ],
   "source": [
    "%%sql\n",
    "INSERT INTO deletes\n",
    "SELECT inspections_clean.business_id, inspections_clean.date\n",
    "FROM inspections_clean\n",
    "FULL JOIN violations\n",
    "ON inspections_clean.business_id = violations.business_id\n",
    "AND inspections_clean.date = violations.date\n",
    "WHERE inspections_clean.avg_score != 100\n",
    "AND violations.code IS NULL\n",
    "GROUP BY inspections_clean.business_id,inspections_clean.date\n",
    "ORDER BY date"
   ]
  },
  {
   "cell_type": "code",
   "execution_count": 61,
   "metadata": {
    "scrolled": true
   },
   "outputs": [
    {
     "name": "stdout",
     "output_type": "stream",
     "text": [
      "30 rows affected.\n"
     ]
    },
    {
     "data": {
      "text/html": [
       "<table>\n",
       "    <tr>\n",
       "        <th>id</th>\n",
       "        <th>date</th>\n",
       "    </tr>\n",
       "    <tr>\n",
       "        <td>PR0002006</td>\n",
       "        <td>2017-11-03</td>\n",
       "    </tr>\n",
       "    <tr>\n",
       "        <td>PR0005240</td>\n",
       "        <td>2017-06-21</td>\n",
       "    </tr>\n",
       "    <tr>\n",
       "        <td>PR0005284</td>\n",
       "        <td>2016-06-21</td>\n",
       "    </tr>\n",
       "    <tr>\n",
       "        <td>PR0005284</td>\n",
       "        <td>2017-11-30</td>\n",
       "    </tr>\n",
       "    <tr>\n",
       "        <td>PR0005769</td>\n",
       "        <td>2017-06-23</td>\n",
       "    </tr>\n",
       "    <tr>\n",
       "        <td>PR0014860</td>\n",
       "        <td>2016-05-18</td>\n",
       "    </tr>\n",
       "    <tr>\n",
       "        <td>PR0022488</td>\n",
       "        <td>2016-10-03</td>\n",
       "    </tr>\n",
       "    <tr>\n",
       "        <td>PR0026191</td>\n",
       "        <td>2017-06-15</td>\n",
       "    </tr>\n",
       "    <tr>\n",
       "        <td>PR0027520</td>\n",
       "        <td>2015-08-20</td>\n",
       "    </tr>\n",
       "    <tr>\n",
       "        <td>PR0031937</td>\n",
       "        <td>2016-04-21</td>\n",
       "    </tr>\n",
       "    <tr>\n",
       "        <td>PR0032332</td>\n",
       "        <td>2017-02-17</td>\n",
       "    </tr>\n",
       "    <tr>\n",
       "        <td>PR0033190</td>\n",
       "        <td>2015-08-06</td>\n",
       "    </tr>\n",
       "    <tr>\n",
       "        <td>PR0036304</td>\n",
       "        <td>2017-09-21</td>\n",
       "    </tr>\n",
       "    <tr>\n",
       "        <td>PR0037754</td>\n",
       "        <td>2015-06-15</td>\n",
       "    </tr>\n",
       "    <tr>\n",
       "        <td>PR0040845</td>\n",
       "        <td>2015-10-26</td>\n",
       "    </tr>\n",
       "    <tr>\n",
       "        <td>PR0041037</td>\n",
       "        <td>2017-06-23</td>\n",
       "    </tr>\n",
       "    <tr>\n",
       "        <td>PR0121796</td>\n",
       "        <td>2016-08-16</td>\n",
       "    </tr>\n",
       "    <tr>\n",
       "        <td>PR0129019</td>\n",
       "        <td>2016-05-13</td>\n",
       "    </tr>\n",
       "    <tr>\n",
       "        <td>PR0144412</td>\n",
       "        <td>2017-07-19</td>\n",
       "    </tr>\n",
       "    <tr>\n",
       "        <td>PR0147900</td>\n",
       "        <td>2016-11-09</td>\n",
       "    </tr>\n",
       "    <tr>\n",
       "        <td>PR0148525</td>\n",
       "        <td>2017-03-28</td>\n",
       "    </tr>\n",
       "    <tr>\n",
       "        <td>PR0151239</td>\n",
       "        <td>2016-05-12</td>\n",
       "    </tr>\n",
       "    <tr>\n",
       "        <td>PR0157815</td>\n",
       "        <td>2015-06-14</td>\n",
       "    </tr>\n",
       "    <tr>\n",
       "        <td>PR0166594</td>\n",
       "        <td>2017-10-27</td>\n",
       "    </tr>\n",
       "    <tr>\n",
       "        <td>PR0167115</td>\n",
       "        <td>2015-08-03</td>\n",
       "    </tr>\n",
       "    <tr>\n",
       "        <td>PR0170967</td>\n",
       "        <td>2016-01-28</td>\n",
       "    </tr>\n",
       "    <tr>\n",
       "        <td>PR0177045</td>\n",
       "        <td>2016-05-12</td>\n",
       "    </tr>\n",
       "    <tr>\n",
       "        <td>PR0180416</td>\n",
       "        <td>2017-04-10</td>\n",
       "    </tr>\n",
       "    <tr>\n",
       "        <td>PR0189869</td>\n",
       "        <td>2017-10-30</td>\n",
       "    </tr>\n",
       "    <tr>\n",
       "        <td>PR0197303</td>\n",
       "        <td>2017-07-06</td>\n",
       "    </tr>\n",
       "</table>"
      ],
      "text/plain": [
       "[('PR0002006', datetime.date(2017, 11, 3)),\n",
       " ('PR0005240', datetime.date(2017, 6, 21)),\n",
       " ('PR0005284', datetime.date(2016, 6, 21)),\n",
       " ('PR0005284', datetime.date(2017, 11, 30)),\n",
       " ('PR0005769', datetime.date(2017, 6, 23)),\n",
       " ('PR0014860', datetime.date(2016, 5, 18)),\n",
       " ('PR0022488', datetime.date(2016, 10, 3)),\n",
       " ('PR0026191', datetime.date(2017, 6, 15)),\n",
       " ('PR0027520', datetime.date(2015, 8, 20)),\n",
       " ('PR0031937', datetime.date(2016, 4, 21)),\n",
       " ('PR0032332', datetime.date(2017, 2, 17)),\n",
       " ('PR0033190', datetime.date(2015, 8, 6)),\n",
       " ('PR0036304', datetime.date(2017, 9, 21)),\n",
       " ('PR0037754', datetime.date(2015, 6, 15)),\n",
       " ('PR0040845', datetime.date(2015, 10, 26)),\n",
       " ('PR0041037', datetime.date(2017, 6, 23)),\n",
       " ('PR0121796', datetime.date(2016, 8, 16)),\n",
       " ('PR0129019', datetime.date(2016, 5, 13)),\n",
       " ('PR0144412', datetime.date(2017, 7, 19)),\n",
       " ('PR0147900', datetime.date(2016, 11, 9)),\n",
       " ('PR0148525', datetime.date(2017, 3, 28)),\n",
       " ('PR0151239', datetime.date(2016, 5, 12)),\n",
       " ('PR0157815', datetime.date(2015, 6, 14)),\n",
       " ('PR0166594', datetime.date(2017, 10, 27)),\n",
       " ('PR0167115', datetime.date(2015, 8, 3)),\n",
       " ('PR0170967', datetime.date(2016, 1, 28)),\n",
       " ('PR0177045', datetime.date(2016, 5, 12)),\n",
       " ('PR0180416', datetime.date(2017, 4, 10)),\n",
       " ('PR0189869', datetime.date(2017, 10, 30)),\n",
       " ('PR0197303', datetime.date(2017, 7, 6))]"
      ]
     },
     "execution_count": 61,
     "metadata": {},
     "output_type": "execute_result"
    }
   ],
   "source": [
    "%%sql\n",
    "SELECT *\n",
    "FROM deletes\n",
    "ORDER BY id, date;"
   ]
  },
  {
   "cell_type": "code",
   "execution_count": 62,
   "metadata": {},
   "outputs": [
    {
     "name": "stdout",
     "output_type": "stream",
     "text": [
      "30 rows affected.\n"
     ]
    },
    {
     "data": {
      "text/plain": [
       "[]"
      ]
     },
     "execution_count": 62,
     "metadata": {},
     "output_type": "execute_result"
    }
   ],
   "source": [
    "%%sql\n",
    "DELETE FROM inspections_clean\n",
    "USING deletes\n",
    "WHERE inspections_clean.business_id = deletes.id\n",
    "AND inspections_clean.date = deletes.date;"
   ]
  },
  {
   "cell_type": "markdown",
   "metadata": {},
   "source": [
    "The following code is to verify the updated result. "
   ]
  },
  {
   "cell_type": "code",
   "execution_count": 63,
   "metadata": {
    "scrolled": true
   },
   "outputs": [
    {
     "name": "stdout",
     "output_type": "stream",
     "text": [
      "1 rows affected.\n"
     ]
    },
    {
     "data": {
      "text/html": [
       "<table>\n",
       "    <tr>\n",
       "        <th>count</th>\n",
       "    </tr>\n",
       "    <tr>\n",
       "        <td>138269</td>\n",
       "    </tr>\n",
       "</table>"
      ],
      "text/plain": [
       "[(138269,)]"
      ]
     },
     "execution_count": 63,
     "metadata": {},
     "output_type": "execute_result"
    }
   ],
   "source": [
    "%%sql\n",
    "SELECT count(*)\n",
    "FROM inspections_clean;"
   ]
  },
  {
   "cell_type": "code",
   "execution_count": 64,
   "metadata": {},
   "outputs": [
    {
     "name": "stdout",
     "output_type": "stream",
     "text": [
      "10 rows affected.\n"
     ]
    },
    {
     "data": {
      "text/html": [
       "<table>\n",
       "    <tr>\n",
       "        <th>business_id</th>\n",
       "        <th>date</th>\n",
       "        <th>avg_score</th>\n",
       "        <th>grade</th>\n",
       "    </tr>\n",
       "    <tr>\n",
       "        <td>PR0032337</td>\n",
       "        <td>2015-10-29</td>\n",
       "        <td>85</td>\n",
       "        <td>B</td>\n",
       "    </tr>\n",
       "    <tr>\n",
       "        <td>PR0017201</td>\n",
       "        <td>2017-10-12</td>\n",
       "        <td>81</td>\n",
       "        <td>B</td>\n",
       "    </tr>\n",
       "    <tr>\n",
       "        <td>PR0022192</td>\n",
       "        <td>2017-05-12</td>\n",
       "        <td>86</td>\n",
       "        <td>B</td>\n",
       "    </tr>\n",
       "    <tr>\n",
       "        <td>PR0040430</td>\n",
       "        <td>2017-06-28</td>\n",
       "        <td>86</td>\n",
       "        <td>B</td>\n",
       "    </tr>\n",
       "    <tr>\n",
       "        <td>PR0172424</td>\n",
       "        <td>2017-06-21</td>\n",
       "        <td>85</td>\n",
       "        <td>B</td>\n",
       "    </tr>\n",
       "    <tr>\n",
       "        <td>PR0036788</td>\n",
       "        <td>2016-06-14</td>\n",
       "        <td>82</td>\n",
       "        <td>B</td>\n",
       "    </tr>\n",
       "    <tr>\n",
       "        <td>PR0029279</td>\n",
       "        <td>2015-10-09</td>\n",
       "        <td>82</td>\n",
       "        <td>B</td>\n",
       "    </tr>\n",
       "    <tr>\n",
       "        <td>PR0016519</td>\n",
       "        <td>2015-07-02</td>\n",
       "        <td>84</td>\n",
       "        <td>B</td>\n",
       "    </tr>\n",
       "    <tr>\n",
       "        <td>PR0021510</td>\n",
       "        <td>2017-11-13</td>\n",
       "        <td>80</td>\n",
       "        <td>B</td>\n",
       "    </tr>\n",
       "    <tr>\n",
       "        <td>PR0003557</td>\n",
       "        <td>2016-05-19</td>\n",
       "        <td>86</td>\n",
       "        <td>B</td>\n",
       "    </tr>\n",
       "</table>"
      ],
      "text/plain": [
       "[('PR0032337', datetime.date(2015, 10, 29), 85, 'B'),\n",
       " ('PR0017201', datetime.date(2017, 10, 12), 81, 'B'),\n",
       " ('PR0022192', datetime.date(2017, 5, 12), 86, 'B'),\n",
       " ('PR0040430', datetime.date(2017, 6, 28), 86, 'B'),\n",
       " ('PR0172424', datetime.date(2017, 6, 21), 85, 'B'),\n",
       " ('PR0036788', datetime.date(2016, 6, 14), 82, 'B'),\n",
       " ('PR0029279', datetime.date(2015, 10, 9), 82, 'B'),\n",
       " ('PR0016519', datetime.date(2015, 7, 2), 84, 'B'),\n",
       " ('PR0021510', datetime.date(2017, 11, 13), 80, 'B'),\n",
       " ('PR0003557', datetime.date(2016, 5, 19), 86, 'B')]"
      ]
     },
     "execution_count": 64,
     "metadata": {},
     "output_type": "execute_result"
    }
   ],
   "source": [
    "%%sql\n",
    "SELECT *\n",
    "FROM inspections_clean\n",
    "LIMIT 10;"
   ]
  },
  {
   "cell_type": "markdown",
   "metadata": {},
   "source": [
    "Then, we create a new inspections table named as \"inspections_facts\" with the inspections key in order to create bridge, that we would talk more later. "
   ]
  },
  {
   "cell_type": "code",
   "execution_count": 65,
   "metadata": {},
   "outputs": [
    {
     "name": "stdout",
     "output_type": "stream",
     "text": [
      "Done.\n",
      "Done.\n"
     ]
    },
    {
     "data": {
      "text/plain": [
       "[]"
      ]
     },
     "execution_count": 65,
     "metadata": {},
     "output_type": "execute_result"
    }
   ],
   "source": [
    "%%sql\n",
    "DROP TABLE IF EXISTS inspections_facts;\n",
    "\n",
    "CREATE TABLE inspections_facts (\n",
    "    inspection_key SERIAL PRIMARY KEY,\n",
    "    business_id VARCHAR(20) NOT NULL,\n",
    "    date DATE NOT NULL,\n",
    "    avg_score NUMERIC NOT NULL,\n",
    "    grade CHAR(1) NOT NULL\n",
    ");"
   ]
  },
  {
   "cell_type": "code",
   "execution_count": 66,
   "metadata": {},
   "outputs": [
    {
     "name": "stdout",
     "output_type": "stream",
     "text": [
      "138269 rows affected.\n"
     ]
    },
    {
     "data": {
      "text/plain": [
       "[]"
      ]
     },
     "execution_count": 66,
     "metadata": {},
     "output_type": "execute_result"
    }
   ],
   "source": [
    "%%sql\n",
    "INSERT INTO inspections_facts (business_id, date, avg_score, grade)\n",
    "SELECT *\n",
    "FROM inspections_clean;"
   ]
  },
  {
   "cell_type": "code",
   "execution_count": 67,
   "metadata": {},
   "outputs": [
    {
     "name": "stdout",
     "output_type": "stream",
     "text": [
      "10 rows affected.\n"
     ]
    },
    {
     "data": {
      "text/html": [
       "<table>\n",
       "    <tr>\n",
       "        <th>inspection_key</th>\n",
       "        <th>business_id</th>\n",
       "        <th>date</th>\n",
       "        <th>avg_score</th>\n",
       "        <th>grade</th>\n",
       "    </tr>\n",
       "    <tr>\n",
       "        <td>1</td>\n",
       "        <td>PR0032337</td>\n",
       "        <td>2015-10-29</td>\n",
       "        <td>85</td>\n",
       "        <td>B</td>\n",
       "    </tr>\n",
       "    <tr>\n",
       "        <td>2</td>\n",
       "        <td>PR0017201</td>\n",
       "        <td>2017-10-12</td>\n",
       "        <td>81</td>\n",
       "        <td>B</td>\n",
       "    </tr>\n",
       "    <tr>\n",
       "        <td>3</td>\n",
       "        <td>PR0022192</td>\n",
       "        <td>2017-05-12</td>\n",
       "        <td>86</td>\n",
       "        <td>B</td>\n",
       "    </tr>\n",
       "    <tr>\n",
       "        <td>4</td>\n",
       "        <td>PR0040430</td>\n",
       "        <td>2017-06-28</td>\n",
       "        <td>86</td>\n",
       "        <td>B</td>\n",
       "    </tr>\n",
       "    <tr>\n",
       "        <td>5</td>\n",
       "        <td>PR0172424</td>\n",
       "        <td>2017-06-21</td>\n",
       "        <td>85</td>\n",
       "        <td>B</td>\n",
       "    </tr>\n",
       "    <tr>\n",
       "        <td>6</td>\n",
       "        <td>PR0036788</td>\n",
       "        <td>2016-06-14</td>\n",
       "        <td>82</td>\n",
       "        <td>B</td>\n",
       "    </tr>\n",
       "    <tr>\n",
       "        <td>7</td>\n",
       "        <td>PR0029279</td>\n",
       "        <td>2015-10-09</td>\n",
       "        <td>82</td>\n",
       "        <td>B</td>\n",
       "    </tr>\n",
       "    <tr>\n",
       "        <td>8</td>\n",
       "        <td>PR0016519</td>\n",
       "        <td>2015-07-02</td>\n",
       "        <td>84</td>\n",
       "        <td>B</td>\n",
       "    </tr>\n",
       "    <tr>\n",
       "        <td>9</td>\n",
       "        <td>PR0021510</td>\n",
       "        <td>2017-11-13</td>\n",
       "        <td>80</td>\n",
       "        <td>B</td>\n",
       "    </tr>\n",
       "    <tr>\n",
       "        <td>10</td>\n",
       "        <td>PR0003557</td>\n",
       "        <td>2016-05-19</td>\n",
       "        <td>86</td>\n",
       "        <td>B</td>\n",
       "    </tr>\n",
       "</table>"
      ],
      "text/plain": [
       "[(1, 'PR0032337', datetime.date(2015, 10, 29), Decimal('85'), 'B'),\n",
       " (2, 'PR0017201', datetime.date(2017, 10, 12), Decimal('81'), 'B'),\n",
       " (3, 'PR0022192', datetime.date(2017, 5, 12), Decimal('86'), 'B'),\n",
       " (4, 'PR0040430', datetime.date(2017, 6, 28), Decimal('86'), 'B'),\n",
       " (5, 'PR0172424', datetime.date(2017, 6, 21), Decimal('85'), 'B'),\n",
       " (6, 'PR0036788', datetime.date(2016, 6, 14), Decimal('82'), 'B'),\n",
       " (7, 'PR0029279', datetime.date(2015, 10, 9), Decimal('82'), 'B'),\n",
       " (8, 'PR0016519', datetime.date(2015, 7, 2), Decimal('84'), 'B'),\n",
       " (9, 'PR0021510', datetime.date(2017, 11, 13), Decimal('80'), 'B'),\n",
       " (10, 'PR0003557', datetime.date(2016, 5, 19), Decimal('86'), 'B')]"
      ]
     },
     "execution_count": 67,
     "metadata": {},
     "output_type": "execute_result"
    }
   ],
   "source": [
    "%%sql\n",
    "SELECT *\n",
    "FROM inspections_facts\n",
    "LIMIT 10;"
   ]
  },
  {
   "cell_type": "code",
   "execution_count": null,
   "metadata": {
    "collapsed": true
   },
   "outputs": [],
   "source": []
  },
  {
   "cell_type": "markdown",
   "metadata": {
    "collapsed": true
   },
   "source": [
    "Next, in order to link \"businesses\" table with \"inspections_facts\" table, we create another table named \"business\" with business key."
   ]
  },
  {
   "cell_type": "code",
   "execution_count": 68,
   "metadata": {},
   "outputs": [
    {
     "name": "stdout",
     "output_type": "stream",
     "text": [
      "Done.\n",
      "Done.\n"
     ]
    },
    {
     "data": {
      "text/plain": [
       "[]"
      ]
     },
     "execution_count": 68,
     "metadata": {},
     "output_type": "execute_result"
    }
   ],
   "source": [
    "%%sql\n",
    "DROP TABLE IF EXISTS business;\n",
    "\n",
    "CREATE TABLE business (\n",
    "    business_key SERIAL PRIMARY KEY,\n",
    "    business_id VARCHAR(20) NOT NULL,\n",
    "    name VARCHAR(100),\n",
    "    address VARCHAR(100),\n",
    "    city VARCHAR(100),\n",
    "    postal_code VARCHAR(100),\n",
    "    latitude NUMERIC,\n",
    "    longitude NUMERIC\n",
    ");"
   ]
  },
  {
   "cell_type": "code",
   "execution_count": 69,
   "metadata": {},
   "outputs": [
    {
     "name": "stdout",
     "output_type": "stream",
     "text": [
      "28771 rows affected.\n"
     ]
    },
    {
     "data": {
      "text/plain": [
       "[]"
      ]
     },
     "execution_count": 69,
     "metadata": {},
     "output_type": "execute_result"
    }
   ],
   "source": [
    "%%sql\n",
    "INSERT INTO business(business_id, name, address, city, postal_code, latitude, longitude)\n",
    "SELECT *\n",
    "FROM businesses;"
   ]
  },
  {
   "cell_type": "code",
   "execution_count": 70,
   "metadata": {},
   "outputs": [
    {
     "name": "stdout",
     "output_type": "stream",
     "text": [
      "10 rows affected.\n"
     ]
    },
    {
     "data": {
      "text/html": [
       "<table>\n",
       "    <tr>\n",
       "        <th>business_key</th>\n",
       "        <th>business_id</th>\n",
       "        <th>name</th>\n",
       "        <th>address</th>\n",
       "        <th>city</th>\n",
       "        <th>postal_code</th>\n",
       "        <th>latitude</th>\n",
       "        <th>longitude</th>\n",
       "    </tr>\n",
       "    <tr>\n",
       "        <td>1</td>\n",
       "        <td>PR0000206</td>\n",
       "        <td>JOSYLN SENIOR CENTER</td>\n",
       "        <td>210 N CHAPEL AVE </td>\n",
       "        <td>ALHAMBRA</td>\n",
       "        <td>91801</td>\n",
       "        <td>34.09852551</td>\n",
       "        <td>-118.124767</td>\n",
       "    </tr>\n",
       "    <tr>\n",
       "        <td>2</td>\n",
       "        <td>PR0000213</td>\n",
       "        <td>STARBUCKS COFFEE #9685</td>\n",
       "        <td>145 N CITRUS AVE </td>\n",
       "        <td>COVINA</td>\n",
       "        <td>91723</td>\n",
       "        <td>34.08732692</td>\n",
       "        <td>-117.8904602</td>\n",
       "    </tr>\n",
       "    <tr>\n",
       "        <td>3</td>\n",
       "        <td>PR0000250</td>\n",
       "        <td>VFW POST NO. 6110</td>\n",
       "        <td>16555 SIERRA HWY </td>\n",
       "        <td>CANYON COUNTRY</td>\n",
       "        <td>91351-1338</td>\n",
       "        <td>34.44756653</td>\n",
       "        <td>-118.4262071</td>\n",
       "    </tr>\n",
       "    <tr>\n",
       "        <td>4</td>\n",
       "        <td>PR0000273</td>\n",
       "        <td>STABUCKS @ VONS #2066</td>\n",
       "        <td>18439 VENTURA BLVD </td>\n",
       "        <td>TARZANA</td>\n",
       "        <td>91356</td>\n",
       "        <td>34.16838141</td>\n",
       "        <td>-118.53457</td>\n",
       "    </tr>\n",
       "    <tr>\n",
       "        <td>5</td>\n",
       "        <td>PR0000278</td>\n",
       "        <td>COCOHODO TORRANCE</td>\n",
       "        <td>2734 SEPULVEDA BLVD </td>\n",
       "        <td>TORRANCE</td>\n",
       "        <td>90505</td>\n",
       "        <td>33.82248757</td>\n",
       "        <td>-118.3331782</td>\n",
       "    </tr>\n",
       "    <tr>\n",
       "        <td>6</td>\n",
       "        <td>PR0000307</td>\n",
       "        <td>KING&#x27;S BAKERY</td>\n",
       "        <td>127 N GARFIELD AVE STE J</td>\n",
       "        <td>MONTEREY PARK</td>\n",
       "        <td>91754</td>\n",
       "        <td>34.06332786</td>\n",
       "        <td>-118.123686</td>\n",
       "    </tr>\n",
       "    <tr>\n",
       "        <td>7</td>\n",
       "        <td>PR0000332</td>\n",
       "        <td>PAPA JOHN&#x27;S 2247</td>\n",
       "        <td>5457 E SOUTH ST </td>\n",
       "        <td>LAKEWOOD</td>\n",
       "        <td>90712</td>\n",
       "        <td>33.86073276</td>\n",
       "        <td>-118.1260192</td>\n",
       "    </tr>\n",
       "    <tr>\n",
       "        <td>8</td>\n",
       "        <td>PR0000335</td>\n",
       "        <td>4 SEASONS HOTEL-THE BAR</td>\n",
       "        <td>2 DOLE DR</td>\n",
       "        <td>WESTLAKE VILLAGE</td>\n",
       "        <td>91362</td>\n",
       "        <td>34.15136847</td>\n",
       "        <td>-118.8045058</td>\n",
       "    </tr>\n",
       "    <tr>\n",
       "        <td>9</td>\n",
       "        <td>PR0000380</td>\n",
       "        <td>BENNYS 19TH HOLE SALOON</td>\n",
       "        <td>16829 PRAIRIE AVE </td>\n",
       "        <td>LAWNDALE</td>\n",
       "        <td>90260</td>\n",
       "        <td>33.87795215</td>\n",
       "        <td>-118.3439873</td>\n",
       "    </tr>\n",
       "    <tr>\n",
       "        <td>10</td>\n",
       "        <td>PR0000462</td>\n",
       "        <td>TERRACE CINEMAS 6</td>\n",
       "        <td>28901 S WESTERN AVE </td>\n",
       "        <td>RANCHO PALOS VERDES</td>\n",
       "        <td>90275</td>\n",
       "        <td>33.75635356</td>\n",
       "        <td>-118.3103982</td>\n",
       "    </tr>\n",
       "</table>"
      ],
      "text/plain": [
       "[(1, 'PR0000206', 'JOSYLN SENIOR CENTER', '210 N CHAPEL AVE ', 'ALHAMBRA', '91801', Decimal('34.09852551'), Decimal('-118.124767')),\n",
       " (2, 'PR0000213', 'STARBUCKS COFFEE #9685', '145 N CITRUS AVE ', 'COVINA', '91723', Decimal('34.08732692'), Decimal('-117.8904602')),\n",
       " (3, 'PR0000250', 'VFW POST NO. 6110', '16555 SIERRA HWY ', 'CANYON COUNTRY', '91351-1338', Decimal('34.44756653'), Decimal('-118.4262071')),\n",
       " (4, 'PR0000273', 'STABUCKS @ VONS #2066', '18439 VENTURA BLVD ', 'TARZANA', '91356', Decimal('34.16838141'), Decimal('-118.53457')),\n",
       " (5, 'PR0000278', 'COCOHODO TORRANCE', '2734 SEPULVEDA BLVD ', 'TORRANCE', '90505', Decimal('33.82248757'), Decimal('-118.3331782')),\n",
       " (6, 'PR0000307', \"KING'S BAKERY\", '127 N GARFIELD AVE STE J', 'MONTEREY PARK', '91754', Decimal('34.06332786'), Decimal('-118.123686')),\n",
       " (7, 'PR0000332', \"PAPA JOHN'S 2247\", '5457 E SOUTH ST ', 'LAKEWOOD', '90712', Decimal('33.86073276'), Decimal('-118.1260192')),\n",
       " (8, 'PR0000335', '4 SEASONS HOTEL-THE BAR', '2 DOLE DR', 'WESTLAKE VILLAGE', '91362', Decimal('34.15136847'), Decimal('-118.8045058')),\n",
       " (9, 'PR0000380', 'BENNYS 19TH HOLE SALOON', '16829 PRAIRIE AVE ', 'LAWNDALE', '90260', Decimal('33.87795215'), Decimal('-118.3439873')),\n",
       " (10, 'PR0000462', 'TERRACE CINEMAS 6', '28901 S WESTERN AVE ', 'RANCHO PALOS VERDES', '90275', Decimal('33.75635356'), Decimal('-118.3103982'))]"
      ]
     },
     "execution_count": 70,
     "metadata": {},
     "output_type": "execute_result"
    }
   ],
   "source": [
    "%%sql\n",
    "SELECT * FROM business\n",
    "LIMIT 10"
   ]
  },
  {
   "cell_type": "markdown",
   "metadata": {},
   "source": [
    "Specially, we check whether some restaurants in the \"inspections_facts\" table are not included in the \"business\" table. The answer is yes."
   ]
  },
  {
   "cell_type": "code",
   "execution_count": 71,
   "metadata": {},
   "outputs": [
    {
     "name": "stdout",
     "output_type": "stream",
     "text": [
      "0 rows affected.\n"
     ]
    },
    {
     "data": {
      "text/html": [
       "<table>\n",
       "    <tr>\n",
       "        <th>business_id</th>\n",
       "    </tr>\n",
       "</table>"
      ],
      "text/plain": [
       "[]"
      ]
     },
     "execution_count": 71,
     "metadata": {},
     "output_type": "execute_result"
    }
   ],
   "source": [
    "%%sql\n",
    "SELECT business_id\n",
    "FROM inspections_facts\n",
    "WHERE inspections_facts.business_id NOT IN (SELECT business_id FROM business)"
   ]
  },
  {
   "cell_type": "code",
   "execution_count": 72,
   "metadata": {},
   "outputs": [
    {
     "name": "stdout",
     "output_type": "stream",
     "text": [
      "0 rows affected.\n"
     ]
    },
    {
     "data": {
      "text/plain": [
       "[]"
      ]
     },
     "execution_count": 72,
     "metadata": {},
     "output_type": "execute_result"
    }
   ],
   "source": [
    "%%sql\n",
    "INSERT INTO business (business_id)\n",
    "SELECT business_id\n",
    "FROM inspections_facts\n",
    "WHERE inspections_facts.business_id NOT IN (SELECT business_id FROM business);"
   ]
  },
  {
   "cell_type": "markdown",
   "metadata": {},
   "source": [
    "We then add a new identifiers (surrogate key) \"business_key\" back to the fact table."
   ]
  },
  {
   "cell_type": "code",
   "execution_count": 74,
   "metadata": {},
   "outputs": [
    {
     "name": "stdout",
     "output_type": "stream",
     "text": [
      "4 rows affected.\n"
     ]
    },
    {
     "data": {
      "text/html": [
       "<table>\n",
       "    <tr>\n",
       "        <th>business_key</th>\n",
       "        <th>business_id</th>\n",
       "        <th>name</th>\n",
       "        <th>address</th>\n",
       "        <th>city</th>\n",
       "        <th>postal_code</th>\n",
       "        <th>latitude</th>\n",
       "        <th>longitude</th>\n",
       "    </tr>\n",
       "    <tr>\n",
       "        <td>28771</td>\n",
       "        <td>PR0201748</td>\n",
       "        <td>LODGE ROOM &amp; CHECKER HALL</td>\n",
       "        <td>104 N AVENUE 56 2ND FL</td>\n",
       "        <td>LOS ANGELES</td>\n",
       "        <td>90042-4112</td>\n",
       "        <td>34.10908109</td>\n",
       "        <td>-118.1943762</td>\n",
       "    </tr>\n",
       "    <tr>\n",
       "        <td>28770</td>\n",
       "        <td>PR0201660</td>\n",
       "        <td>BREAKERS KOREAN  BBQ</td>\n",
       "        <td>695 S VERMONT AVE # 110</td>\n",
       "        <td>LOS ANGELES</td>\n",
       "        <td>90005-1349</td>\n",
       "        <td>34.06010333</td>\n",
       "        <td>-118.2916652</td>\n",
       "    </tr>\n",
       "    <tr>\n",
       "        <td>28769</td>\n",
       "        <td>PR0201610</td>\n",
       "        <td>VEGAS BUFFET GLENDALE</td>\n",
       "        <td>110 S BRAND BLVD</td>\n",
       "        <td>GLENDALE</td>\n",
       "        <td>91204</td>\n",
       "        <td>34.14509892</td>\n",
       "        <td>-118.2548936</td>\n",
       "    </tr>\n",
       "    <tr>\n",
       "        <td>28768</td>\n",
       "        <td>PR0201380</td>\n",
       "        <td>CARSON BUFFET</td>\n",
       "        <td>888 E DOMINGUEZ ST STE E</td>\n",
       "        <td>CARSON</td>\n",
       "        <td>90746</td>\n",
       "        <td>33.84045281</td>\n",
       "        <td>-118.2602872</td>\n",
       "    </tr>\n",
       "</table>"
      ],
      "text/plain": [
       "[(28771, 'PR0201748', 'LODGE ROOM & CHECKER HALL', '104 N AVENUE 56 2ND FL', 'LOS ANGELES', '90042-4112', Decimal('34.10908109'), Decimal('-118.1943762')),\n",
       " (28770, 'PR0201660', 'BREAKERS KOREAN  BBQ', '695 S VERMONT AVE # 110', 'LOS ANGELES', '90005-1349', Decimal('34.06010333'), Decimal('-118.2916652')),\n",
       " (28769, 'PR0201610', 'VEGAS BUFFET GLENDALE', '110 S BRAND BLVD', 'GLENDALE', '91204', Decimal('34.14509892'), Decimal('-118.2548936')),\n",
       " (28768, 'PR0201380', 'CARSON BUFFET', '888 E DOMINGUEZ ST STE E', 'CARSON', '90746', Decimal('33.84045281'), Decimal('-118.2602872'))]"
      ]
     },
     "execution_count": 74,
     "metadata": {},
     "output_type": "execute_result"
    }
   ],
   "source": [
    "%%sql\n",
    "SELECT * FROM business\n",
    "ORDER BY business_key DESC\n",
    "LIMIT 4;"
   ]
  },
  {
   "cell_type": "markdown",
   "metadata": {},
   "source": [
    "Now we update the `business_key` in the fact table with the values from \"business\" dimension table based on the \"business_id\"."
   ]
  },
  {
   "cell_type": "code",
   "execution_count": 75,
   "metadata": {},
   "outputs": [
    {
     "name": "stdout",
     "output_type": "stream",
     "text": [
      "Done.\n"
     ]
    },
    {
     "data": {
      "text/plain": [
       "[]"
      ]
     },
     "execution_count": 75,
     "metadata": {},
     "output_type": "execute_result"
    }
   ],
   "source": [
    "%%sql\n",
    "ALTER TABLE inspections_facts\n",
    "ADD COLUMN business_key INTEGER,\n",
    "ADD CONSTRAINT fk_id\n",
    "    FOREIGN KEY (business_key)\n",
    "    REFERENCES business (business_key);"
   ]
  },
  {
   "cell_type": "code",
   "execution_count": 76,
   "metadata": {},
   "outputs": [
    {
     "name": "stdout",
     "output_type": "stream",
     "text": [
      "138269 rows affected.\n"
     ]
    },
    {
     "data": {
      "text/plain": [
       "[]"
      ]
     },
     "execution_count": 76,
     "metadata": {},
     "output_type": "execute_result"
    }
   ],
   "source": [
    "%%sql\n",
    "UPDATE inspections_facts\n",
    "SET business_key = business.business_key\n",
    "FROM business\n",
    "WHERE business.business_id = inspections_facts.business_id;"
   ]
  },
  {
   "cell_type": "markdown",
   "metadata": {},
   "source": [
    "The following code is to verify that we updated all rows in the fact table."
   ]
  },
  {
   "cell_type": "code",
   "execution_count": 77,
   "metadata": {},
   "outputs": [
    {
     "name": "stdout",
     "output_type": "stream",
     "text": [
      "1 rows affected.\n"
     ]
    },
    {
     "data": {
      "text/html": [
       "<table>\n",
       "    <tr>\n",
       "        <th>count</th>\n",
       "    </tr>\n",
       "    <tr>\n",
       "        <td>138269</td>\n",
       "    </tr>\n",
       "</table>"
      ],
      "text/plain": [
       "[(138269,)]"
      ]
     },
     "execution_count": 77,
     "metadata": {},
     "output_type": "execute_result"
    }
   ],
   "source": [
    "%%sql\n",
    "SELECT count(*) FROM inspections_facts;"
   ]
  },
  {
   "cell_type": "markdown",
   "metadata": {},
   "source": [
    "We would drop the unnecessary columns in the fact table later."
   ]
  },
  {
   "cell_type": "code",
   "execution_count": 78,
   "metadata": {},
   "outputs": [
    {
     "name": "stdout",
     "output_type": "stream",
     "text": [
      "10 rows affected.\n"
     ]
    },
    {
     "data": {
      "text/html": [
       "<table>\n",
       "    <tr>\n",
       "        <th>inspection_key</th>\n",
       "        <th>business_id</th>\n",
       "        <th>date</th>\n",
       "        <th>avg_score</th>\n",
       "        <th>grade</th>\n",
       "        <th>business_key</th>\n",
       "    </tr>\n",
       "    <tr>\n",
       "        <td>1</td>\n",
       "        <td>PR0032337</td>\n",
       "        <td>2015-10-29</td>\n",
       "        <td>85</td>\n",
       "        <td>B</td>\n",
       "        <td>10736</td>\n",
       "    </tr>\n",
       "    <tr>\n",
       "        <td>2</td>\n",
       "        <td>PR0017201</td>\n",
       "        <td>2017-10-12</td>\n",
       "        <td>81</td>\n",
       "        <td>B</td>\n",
       "        <td>3473</td>\n",
       "    </tr>\n",
       "    <tr>\n",
       "        <td>3</td>\n",
       "        <td>PR0022192</td>\n",
       "        <td>2017-05-12</td>\n",
       "        <td>86</td>\n",
       "        <td>B</td>\n",
       "        <td>3898</td>\n",
       "    </tr>\n",
       "    <tr>\n",
       "        <td>4</td>\n",
       "        <td>PR0040430</td>\n",
       "        <td>2017-06-28</td>\n",
       "        <td>86</td>\n",
       "        <td>B</td>\n",
       "        <td>5351</td>\n",
       "    </tr>\n",
       "    <tr>\n",
       "        <td>5</td>\n",
       "        <td>PR0172424</td>\n",
       "        <td>2017-06-21</td>\n",
       "        <td>85</td>\n",
       "        <td>B</td>\n",
       "        <td>7170</td>\n",
       "    </tr>\n",
       "    <tr>\n",
       "        <td>6</td>\n",
       "        <td>PR0036788</td>\n",
       "        <td>2016-06-14</td>\n",
       "        <td>82</td>\n",
       "        <td>B</td>\n",
       "        <td>18853</td>\n",
       "    </tr>\n",
       "    <tr>\n",
       "        <td>7</td>\n",
       "        <td>PR0029279</td>\n",
       "        <td>2015-10-09</td>\n",
       "        <td>82</td>\n",
       "        <td>B</td>\n",
       "        <td>10536</td>\n",
       "    </tr>\n",
       "    <tr>\n",
       "        <td>8</td>\n",
       "        <td>PR0016519</td>\n",
       "        <td>2015-07-02</td>\n",
       "        <td>84</td>\n",
       "        <td>B</td>\n",
       "        <td>27470</td>\n",
       "    </tr>\n",
       "    <tr>\n",
       "        <td>9</td>\n",
       "        <td>PR0021510</td>\n",
       "        <td>2017-11-13</td>\n",
       "        <td>80</td>\n",
       "        <td>B</td>\n",
       "        <td>18018</td>\n",
       "    </tr>\n",
       "    <tr>\n",
       "        <td>10</td>\n",
       "        <td>PR0003557</td>\n",
       "        <td>2016-05-19</td>\n",
       "        <td>86</td>\n",
       "        <td>B</td>\n",
       "        <td>23051</td>\n",
       "    </tr>\n",
       "</table>"
      ],
      "text/plain": [
       "[(1, 'PR0032337', datetime.date(2015, 10, 29), Decimal('85'), 'B', 10736),\n",
       " (2, 'PR0017201', datetime.date(2017, 10, 12), Decimal('81'), 'B', 3473),\n",
       " (3, 'PR0022192', datetime.date(2017, 5, 12), Decimal('86'), 'B', 3898),\n",
       " (4, 'PR0040430', datetime.date(2017, 6, 28), Decimal('86'), 'B', 5351),\n",
       " (5, 'PR0172424', datetime.date(2017, 6, 21), Decimal('85'), 'B', 7170),\n",
       " (6, 'PR0036788', datetime.date(2016, 6, 14), Decimal('82'), 'B', 18853),\n",
       " (7, 'PR0029279', datetime.date(2015, 10, 9), Decimal('82'), 'B', 10536),\n",
       " (8, 'PR0016519', datetime.date(2015, 7, 2), Decimal('84'), 'B', 27470),\n",
       " (9, 'PR0021510', datetime.date(2017, 11, 13), Decimal('80'), 'B', 18018),\n",
       " (10, 'PR0003557', datetime.date(2016, 5, 19), Decimal('86'), 'B', 23051)]"
      ]
     },
     "execution_count": 78,
     "metadata": {},
     "output_type": "execute_result"
    }
   ],
   "source": [
    "%%sql\n",
    "SELECT * FROM inspections_facts\n",
    "LIMIT 10;"
   ]
  },
  {
   "cell_type": "code",
   "execution_count": null,
   "metadata": {
    "collapsed": true
   },
   "outputs": [],
   "source": []
  },
  {
   "cell_type": "markdown",
   "metadata": {
    "collapsed": true
   },
   "source": [
    "As mentioned earlier, we found that there are restaurants which got 100 average score but still have violations in the “violations” table and restaurants which did not get 100 average score but did not have violations in the “violations” table.In order to avoid null value for the following analysis when joining tables, we decided to also drop rows that have the above situations in the \"violations\" table. From the following results, we could see there are only 30 rows for 19 types of violations. Compared to the total large violations, we think it won’t influence our result. "
   ]
  },
  {
   "cell_type": "code",
   "execution_count": 79,
   "metadata": {
    "scrolled": true
   },
   "outputs": [
    {
     "name": "stdout",
     "output_type": "stream",
     "text": [
      "19 rows affected.\n"
     ]
    },
    {
     "data": {
      "text/html": [
       "<table>\n",
       "    <tr>\n",
       "        <th>business_id</th>\n",
       "        <th>date</th>\n",
       "    </tr>\n",
       "    <tr>\n",
       "        <td>PR0002006</td>\n",
       "        <td>2017-11-03</td>\n",
       "    </tr>\n",
       "    <tr>\n",
       "        <td>PR0005284</td>\n",
       "        <td>2016-06-21</td>\n",
       "    </tr>\n",
       "    <tr>\n",
       "        <td>PR0005284</td>\n",
       "        <td>2017-11-30</td>\n",
       "    </tr>\n",
       "    <tr>\n",
       "        <td>PR0005769</td>\n",
       "        <td>2017-06-23</td>\n",
       "    </tr>\n",
       "    <tr>\n",
       "        <td>PR0014860</td>\n",
       "        <td>2016-05-18</td>\n",
       "    </tr>\n",
       "    <tr>\n",
       "        <td>PR0022488</td>\n",
       "        <td>2016-10-03</td>\n",
       "    </tr>\n",
       "    <tr>\n",
       "        <td>PR0026191</td>\n",
       "        <td>2017-06-15</td>\n",
       "    </tr>\n",
       "    <tr>\n",
       "        <td>PR0032332</td>\n",
       "        <td>2017-02-17</td>\n",
       "    </tr>\n",
       "    <tr>\n",
       "        <td>PR0037754</td>\n",
       "        <td>2015-06-15</td>\n",
       "    </tr>\n",
       "    <tr>\n",
       "        <td>PR0040845</td>\n",
       "        <td>2015-10-26</td>\n",
       "    </tr>\n",
       "    <tr>\n",
       "        <td>PR0041037</td>\n",
       "        <td>2017-06-23</td>\n",
       "    </tr>\n",
       "    <tr>\n",
       "        <td>PR0121796</td>\n",
       "        <td>2016-08-16</td>\n",
       "    </tr>\n",
       "    <tr>\n",
       "        <td>PR0129019</td>\n",
       "        <td>2016-05-13</td>\n",
       "    </tr>\n",
       "    <tr>\n",
       "        <td>PR0144412</td>\n",
       "        <td>2017-07-19</td>\n",
       "    </tr>\n",
       "    <tr>\n",
       "        <td>PR0148525</td>\n",
       "        <td>2017-03-28</td>\n",
       "    </tr>\n",
       "    <tr>\n",
       "        <td>PR0151239</td>\n",
       "        <td>2016-05-12</td>\n",
       "    </tr>\n",
       "    <tr>\n",
       "        <td>PR0167115</td>\n",
       "        <td>2015-08-03</td>\n",
       "    </tr>\n",
       "    <tr>\n",
       "        <td>PR0177045</td>\n",
       "        <td>2016-05-12</td>\n",
       "    </tr>\n",
       "    <tr>\n",
       "        <td>PR0180416</td>\n",
       "        <td>2017-04-10</td>\n",
       "    </tr>\n",
       "</table>"
      ],
      "text/plain": [
       "[('PR0002006', datetime.date(2017, 11, 3)),\n",
       " ('PR0005284', datetime.date(2016, 6, 21)),\n",
       " ('PR0005284', datetime.date(2017, 11, 30)),\n",
       " ('PR0005769', datetime.date(2017, 6, 23)),\n",
       " ('PR0014860', datetime.date(2016, 5, 18)),\n",
       " ('PR0022488', datetime.date(2016, 10, 3)),\n",
       " ('PR0026191', datetime.date(2017, 6, 15)),\n",
       " ('PR0032332', datetime.date(2017, 2, 17)),\n",
       " ('PR0037754', datetime.date(2015, 6, 15)),\n",
       " ('PR0040845', datetime.date(2015, 10, 26)),\n",
       " ('PR0041037', datetime.date(2017, 6, 23)),\n",
       " ('PR0121796', datetime.date(2016, 8, 16)),\n",
       " ('PR0129019', datetime.date(2016, 5, 13)),\n",
       " ('PR0144412', datetime.date(2017, 7, 19)),\n",
       " ('PR0148525', datetime.date(2017, 3, 28)),\n",
       " ('PR0151239', datetime.date(2016, 5, 12)),\n",
       " ('PR0167115', datetime.date(2015, 8, 3)),\n",
       " ('PR0177045', datetime.date(2016, 5, 12)),\n",
       " ('PR0180416', datetime.date(2017, 4, 10))]"
      ]
     },
     "execution_count": 79,
     "metadata": {},
     "output_type": "execute_result"
    }
   ],
   "source": [
    "%%sql\n",
    "Select DISTINCT violations.business_id, violations.date \n",
    "FROM violations\n",
    "JOIN deletes \n",
    "ON violations.business_id = deletes.id\n",
    "AND violations.date = deletes.date;"
   ]
  },
  {
   "cell_type": "code",
   "execution_count": 80,
   "metadata": {},
   "outputs": [
    {
     "name": "stdout",
     "output_type": "stream",
     "text": [
      "30 rows affected.\n"
     ]
    },
    {
     "data": {
      "text/plain": [
       "[]"
      ]
     },
     "execution_count": 80,
     "metadata": {},
     "output_type": "execute_result"
    }
   ],
   "source": [
    "%%sql\n",
    "DELETE FROM violations\n",
    "USING deletes\n",
    "WHERE violations.business_id = deletes.id\n",
    "AND violations.date = deletes.date;"
   ]
  },
  {
   "cell_type": "markdown",
   "metadata": {},
   "source": [
    "Also, after checking the total types of violations, we found that code \"F021\" actually has more than one description (\"Standard Not Met: Hot and cold water available\" and \"Standard Not Met: Water available\"). These two descriptions are almost the same. In order to be consistent, we update all \"F021\" into \"Standard Not Met: Hot and cold water available\"."
   ]
  },
  {
   "cell_type": "code",
   "execution_count": 81,
   "metadata": {},
   "outputs": [
    {
     "name": "stdout",
     "output_type": "stream",
     "text": [
      "81 rows affected.\n"
     ]
    },
    {
     "data": {
      "text/html": [
       "<table>\n",
       "    <tr>\n",
       "        <th>code</th>\n",
       "        <th>description</th>\n",
       "    </tr>\n",
       "    <tr>\n",
       "        <td>F001</td>\n",
       "        <td>Standard Not Met: Demonstration of knowledge</td>\n",
       "    </tr>\n",
       "    <tr>\n",
       "        <td>F002</td>\n",
       "        <td>Standard Not Met: Communicable disease; reporting, restrictions &amp; exclusions</td>\n",
       "    </tr>\n",
       "    <tr>\n",
       "        <td>F003</td>\n",
       "        <td>Standard Not Met: No discharge from eyes, nose, and mouth</td>\n",
       "    </tr>\n",
       "    <tr>\n",
       "        <td>F004</td>\n",
       "        <td>Standard Not Met: Proper eating, drinking, or tobacco use</td>\n",
       "    </tr>\n",
       "    <tr>\n",
       "        <td>F005</td>\n",
       "        <td>Standard Not Met: Hands clean and properly washed; gloves used properly</td>\n",
       "    </tr>\n",
       "    <tr>\n",
       "        <td>F006</td>\n",
       "        <td>Standard Not Met: Adequate handwashing facilities supplied &amp; accessible</td>\n",
       "    </tr>\n",
       "    <tr>\n",
       "        <td>F007</td>\n",
       "        <td>Standard Not Met: Proper hot and cold holding temperatures</td>\n",
       "    </tr>\n",
       "    <tr>\n",
       "        <td>F008</td>\n",
       "        <td>Standard Not Met: Time as a public health control; procedures &amp; records</td>\n",
       "    </tr>\n",
       "    <tr>\n",
       "        <td>F009</td>\n",
       "        <td>Standard Not Met: Proper cooling methods</td>\n",
       "    </tr>\n",
       "    <tr>\n",
       "        <td>F010</td>\n",
       "        <td>Standard Not Met: Proper cooking time &amp; temperatures</td>\n",
       "    </tr>\n",
       "    <tr>\n",
       "        <td>F011</td>\n",
       "        <td>Standard Not Met: Proper reheating procedures for hot holding</td>\n",
       "    </tr>\n",
       "    <tr>\n",
       "        <td>F012</td>\n",
       "        <td>Standard Not Met: Returned and reservice food</td>\n",
       "    </tr>\n",
       "    <tr>\n",
       "        <td>F013</td>\n",
       "        <td>Standard Not Met: Food in good condition, safe and unadulterated</td>\n",
       "    </tr>\n",
       "    <tr>\n",
       "        <td>F014</td>\n",
       "        <td>Standard Not Met: Food contact surfaces: clean and sanitized</td>\n",
       "    </tr>\n",
       "    <tr>\n",
       "        <td>F015</td>\n",
       "        <td>Standard Not Met: Food obtained from approved source</td>\n",
       "    </tr>\n",
       "    <tr>\n",
       "        <td>F016</td>\n",
       "        <td>Standard Not Met: Compliance with shelf stock tags, condition, displayed</td>\n",
       "    </tr>\n",
       "    <tr>\n",
       "        <td>F017</td>\n",
       "        <td>Standard Not Met: Compliance with Gulf Oyster Regulations</td>\n",
       "    </tr>\n",
       "    <tr>\n",
       "        <td>F018</td>\n",
       "        <td>Standard Not Met: Compliance with variance, specialized process, &amp; HACCP Plan</td>\n",
       "    </tr>\n",
       "    <tr>\n",
       "        <td>F019</td>\n",
       "        <td>Standard Not Met: Consumer advisory provided for raw or undercooked foods</td>\n",
       "    </tr>\n",
       "    <tr>\n",
       "        <td>F021</td>\n",
       "        <td>Standard Not Met: Hot and cold water available</td>\n",
       "    </tr>\n",
       "    <tr>\n",
       "        <td>F021</td>\n",
       "        <td>Standard Not Met: Water available</td>\n",
       "    </tr>\n",
       "    <tr>\n",
       "        <td>F022</td>\n",
       "        <td>Standard Not Met: Sewage and wastewater properly disposed</td>\n",
       "    </tr>\n",
       "    <tr>\n",
       "        <td>F023</td>\n",
       "        <td>Standard Not Met: No rodents, insects, birds, or animals</td>\n",
       "    </tr>\n",
       "    <tr>\n",
       "        <td>F024</td>\n",
       "        <td>Standard Not Met: Person in charge present and performs duties</td>\n",
       "    </tr>\n",
       "    <tr>\n",
       "        <td>F025</td>\n",
       "        <td>Standard Not Met: Personal cleanliness and hair restraints</td>\n",
       "    </tr>\n",
       "    <tr>\n",
       "        <td>F026</td>\n",
       "        <td>Standard Not Met: Approved thawing methods used, frozen food maintained frozen</td>\n",
       "    </tr>\n",
       "    <tr>\n",
       "        <td>F027</td>\n",
       "        <td>Standard Not Met: Food separated and protected</td>\n",
       "    </tr>\n",
       "    <tr>\n",
       "        <td>F028</td>\n",
       "        <td>Standard Not Met: Fruits and vegetables washed as required</td>\n",
       "    </tr>\n",
       "    <tr>\n",
       "        <td>F029</td>\n",
       "        <td>Standard Not Met: Toxic substances properly identified, stored, used</td>\n",
       "    </tr>\n",
       "    <tr>\n",
       "        <td>F030</td>\n",
       "        <td>Standard Not Met: Food properly stored; food storage containers identified</td>\n",
       "    </tr>\n",
       "    <tr>\n",
       "        <td>F031</td>\n",
       "        <td>Standard Not Met: Consumer self service facilities properly constructed and maintained</td>\n",
       "    </tr>\n",
       "    <tr>\n",
       "        <td>F032</td>\n",
       "        <td>Standard Not Met: Food properly labeled &amp; honestly presented</td>\n",
       "    </tr>\n",
       "    <tr>\n",
       "        <td>F033</td>\n",
       "        <td>Standard Not Met: Nonfood-contact surfaces clean and in good repair</td>\n",
       "    </tr>\n",
       "    <tr>\n",
       "        <td>F034</td>\n",
       "        <td>Standard Not Met: Warewashing facilities: Adequate, maintained, properly use, test strips available</td>\n",
       "    </tr>\n",
       "    <tr>\n",
       "        <td>F035</td>\n",
       "        <td>Standard Not Met: Equipment/Utensils - approved; installed; clean; good repair, capacity</td>\n",
       "    </tr>\n",
       "    <tr>\n",
       "        <td>F036</td>\n",
       "        <td>Standard Not Met: Equipment, utensils and linens: storage and use</td>\n",
       "    </tr>\n",
       "    <tr>\n",
       "        <td>F037</td>\n",
       "        <td>Standard Not Met: Adequate ventilation and lighting; designated areas, use</td>\n",
       "    </tr>\n",
       "    <tr>\n",
       "        <td>F038</td>\n",
       "        <td>Standard Not Met: Thermometers provided and accurate</td>\n",
       "    </tr>\n",
       "    <tr>\n",
       "        <td>F039</td>\n",
       "        <td>Standard Not Met: Wiping cloths: properly used and stored</td>\n",
       "    </tr>\n",
       "    <tr>\n",
       "        <td>F040</td>\n",
       "        <td>Standard Not Met: Plumbing: Plumbing in good repair, proper backflow devices</td>\n",
       "    </tr>\n",
       "    <tr>\n",
       "        <td>F041</td>\n",
       "        <td>Standard Not Met: Garbage and refuse properly disposed; facilities maintained</td>\n",
       "    </tr>\n",
       "    <tr>\n",
       "        <td>F042</td>\n",
       "        <td>Standard Not Met: Toilet facilities: properly constructed, supplied, cleaned</td>\n",
       "    </tr>\n",
       "    <tr>\n",
       "        <td>F043</td>\n",
       "        <td>Standard Not Met: Premises; personal/cleaning items; vermin-proofing</td>\n",
       "    </tr>\n",
       "    <tr>\n",
       "        <td>F044</td>\n",
       "        <td>Standard Not Met: Floors, walls and ceilings: properly built, maintained in good repair and clean</td>\n",
       "    </tr>\n",
       "    <tr>\n",
       "        <td>F045</td>\n",
       "        <td>Standard Not Met: Sleeping quarters</td>\n",
       "    </tr>\n",
       "    <tr>\n",
       "        <td>F046</td>\n",
       "        <td>Standard Not Met: Signs posted; last inspection report available</td>\n",
       "    </tr>\n",
       "    <tr>\n",
       "        <td>F047</td>\n",
       "        <td>Standard Not Met: Plan Review required for new or remodel construction</td>\n",
       "    </tr>\n",
       "    <tr>\n",
       "        <td>F048</td>\n",
       "        <td>Standard Not Met: Permits Available</td>\n",
       "    </tr>\n",
       "    <tr>\n",
       "        <td>F049</td>\n",
       "        <td>Standard Not Met: Impoundment of unsanitary equipment or food</td>\n",
       "    </tr>\n",
       "    <tr>\n",
       "        <td>F050</td>\n",
       "        <td>Standard Not Met: Permit Suspension</td>\n",
       "    </tr>\n",
       "    <tr>\n",
       "        <td>F051</td>\n",
       "        <td>Standard Not Met: Samples Collected</td>\n",
       "    </tr>\n",
       "    <tr>\n",
       "        <td>F052</td>\n",
       "        <td>Standard Not Met: Food safety certification</td>\n",
       "    </tr>\n",
       "    <tr>\n",
       "        <td>F053</td>\n",
       "        <td>Standard Not Met: Hot Water Available</td>\n",
       "    </tr>\n",
       "    <tr>\n",
       "        <td>F054</td>\n",
       "        <td>Standard Not Met: Multiple Major Critical Violations / Increased Risk to Public Health</td>\n",
       "    </tr>\n",
       "    <tr>\n",
       "        <td>F055</td>\n",
       "        <td>Standard Not Met: Demonstration of knowledge</td>\n",
       "    </tr>\n",
       "    <tr>\n",
       "        <td>F056</td>\n",
       "        <td>Standard Not Met: Proper cooking time &amp; temperatures</td>\n",
       "    </tr>\n",
       "    <tr>\n",
       "        <td>F057</td>\n",
       "        <td>Standard Not Met: Compliance with variance, specialized process, &amp; HACCP Plan</td>\n",
       "    </tr>\n",
       "    <tr>\n",
       "        <td>F058</td>\n",
       "        <td>Standard Not Met: Consumer advisory provided for raw or undercooked foods</td>\n",
       "    </tr>\n",
       "    <tr>\n",
       "        <td>W001</td>\n",
       "        <td>Standard Not Met: Proper hot and cold holding temperatures</td>\n",
       "    </tr>\n",
       "    <tr>\n",
       "        <td>W005</td>\n",
       "        <td>Standard Not Met: Food elevated</td>\n",
       "    </tr>\n",
       "    <tr>\n",
       "        <td>W006</td>\n",
       "        <td>Standard Not Met: Food packaging protected</td>\n",
       "    </tr>\n",
       "    <tr>\n",
       "        <td>W020</td>\n",
       "        <td>Standard Not Met: Wall(s) maintained clean</td>\n",
       "    </tr>\n",
       "    <tr>\n",
       "        <td>W023</td>\n",
       "        <td>Standard Not Met: Floor maintained clean</td>\n",
       "    </tr>\n",
       "    <tr>\n",
       "        <td>W026</td>\n",
       "        <td>Standard Not Met: Ceiling maintained in good repair</td>\n",
       "    </tr>\n",
       "    <tr>\n",
       "        <td>W039</td>\n",
       "        <td>Standard Not Met: Proper storage or use of hazardous materials</td>\n",
       "    </tr>\n",
       "    <tr>\n",
       "        <td>W047</td>\n",
       "        <td>Standard Not Met: Thermometer: available, maintained in good repair</td>\n",
       "    </tr>\n",
       "    <tr>\n",
       "        <td>W050</td>\n",
       "        <td>Standard Not Met: Food properly labeled</td>\n",
       "    </tr>\n",
       "    <tr>\n",
       "        <td>W051</td>\n",
       "        <td>Standard Not Met: Walls, Floors, Ceilings: approved, maintained clean and in good repair</td>\n",
       "    </tr>\n",
       "    <tr>\n",
       "        <td>W052</td>\n",
       "        <td>Standard Not Met: Equipment, Shelving, Cabinets: approved, maintained clean and in good repair</td>\n",
       "    </tr>\n",
       "    <tr>\n",
       "        <td>WP06</td>\n",
       "        <td>Standard Not Met: Risk for Contamination - Approved Area / Vestibule</td>\n",
       "    </tr>\n",
       "    <tr>\n",
       "        <td>WP07</td>\n",
       "        <td>Standard Not Met: Food Storage - Properly Covered / Elevated / Proper Area</td>\n",
       "    </tr>\n",
       "    <tr>\n",
       "        <td>WP21</td>\n",
       "        <td>Standard Not Met: Facility Fully Enclosed</td>\n",
       "    </tr>\n",
       "    <tr>\n",
       "        <td>WP32</td>\n",
       "        <td>Standard Not Met: Drain Line / Liquid Waste - Approved Discharge / Installation / Available</td>\n",
       "    </tr>\n",
       "    <tr>\n",
       "        <td>WP34</td>\n",
       "        <td>Standard Not Met: Soap / Drying Device - Dispenser Filled / Repair / Approved Type / Clean</td>\n",
       "    </tr>\n",
       "    <tr>\n",
       "        <td>WP35</td>\n",
       "        <td>Standard Not Met: Hazardous Materials / Chemicals / Janitorial - Storage /Use</td>\n",
       "    </tr>\n",
       "    <tr>\n",
       "        <td>WP37</td>\n",
       "        <td>Standard Not Met: Interior Premises - Castoffs / Tools / Linens / Uniforms</td>\n",
       "    </tr>\n",
       "    <tr>\n",
       "        <td>WP43</td>\n",
       "        <td>Standard Not Met: Deterioration / Approved Materials</td>\n",
       "    </tr>\n",
       "    <tr>\n",
       "        <td>WP48</td>\n",
       "        <td>Standard Not Met: Condition - Repair (Utensils / Equipment / Shelving / Cabinets)</td>\n",
       "    </tr>\n",
       "    <tr>\n",
       "        <td>WP49</td>\n",
       "        <td>Standard Not Met: Utensils / Equipment - Storage</td>\n",
       "    </tr>\n",
       "    <tr>\n",
       "        <td>WP52</td>\n",
       "        <td>Standard Not Met: Lighting / Light Shields / Electrical</td>\n",
       "    </tr>\n",
       "    <tr>\n",
       "        <td>WP53</td>\n",
       "        <td>Standard Not Met: Wiping Cloths - Clean / Adequate Sanitizer /Turbid / Storage</td>\n",
       "    </tr>\n",
       "</table>"
      ],
      "text/plain": [
       "[('F001', 'Standard Not Met: Demonstration of knowledge'),\n",
       " ('F002', 'Standard Not Met: Communicable disease; reporting, restrictions & exclusions'),\n",
       " ('F003', 'Standard Not Met: No discharge from eyes, nose, and mouth'),\n",
       " ('F004', 'Standard Not Met: Proper eating, drinking, or tobacco use'),\n",
       " ('F005', 'Standard Not Met: Hands clean and properly washed; gloves used properly'),\n",
       " ('F006', 'Standard Not Met: Adequate handwashing facilities supplied & accessible'),\n",
       " ('F007', 'Standard Not Met: Proper hot and cold holding temperatures'),\n",
       " ('F008', 'Standard Not Met: Time as a public health control; procedures & records'),\n",
       " ('F009', 'Standard Not Met: Proper cooling methods'),\n",
       " ('F010', 'Standard Not Met: Proper cooking time & temperatures'),\n",
       " ('F011', 'Standard Not Met: Proper reheating procedures for hot holding'),\n",
       " ('F012', 'Standard Not Met: Returned and reservice food'),\n",
       " ('F013', 'Standard Not Met: Food in good condition, safe and unadulterated'),\n",
       " ('F014', 'Standard Not Met: Food contact surfaces: clean and sanitized'),\n",
       " ('F015', 'Standard Not Met: Food obtained from approved source'),\n",
       " ('F016', 'Standard Not Met: Compliance with shelf stock tags, condition, displayed'),\n",
       " ('F017', 'Standard Not Met: Compliance with Gulf Oyster Regulations'),\n",
       " ('F018', 'Standard Not Met: Compliance with variance, specialized process, & HACCP Plan'),\n",
       " ('F019', 'Standard Not Met: Consumer advisory provided for raw or undercooked foods'),\n",
       " ('F021', 'Standard Not Met: Hot and cold water available'),\n",
       " ('F021', 'Standard Not Met: Water available'),\n",
       " ('F022', 'Standard Not Met: Sewage and wastewater properly disposed'),\n",
       " ('F023', 'Standard Not Met: No rodents, insects, birds, or animals'),\n",
       " ('F024', 'Standard Not Met: Person in charge present and performs duties'),\n",
       " ('F025', 'Standard Not Met: Personal cleanliness and hair restraints'),\n",
       " ('F026', 'Standard Not Met: Approved thawing methods used, frozen food maintained frozen'),\n",
       " ('F027', 'Standard Not Met: Food separated and protected'),\n",
       " ('F028', 'Standard Not Met: Fruits and vegetables washed as required'),\n",
       " ('F029', 'Standard Not Met: Toxic substances properly identified, stored, used'),\n",
       " ('F030', 'Standard Not Met: Food properly stored; food storage containers identified'),\n",
       " ('F031', 'Standard Not Met: Consumer self service facilities properly constructed and maintained'),\n",
       " ('F032', 'Standard Not Met: Food properly labeled & honestly presented'),\n",
       " ('F033', 'Standard Not Met: Nonfood-contact surfaces clean and in good repair'),\n",
       " ('F034', 'Standard Not Met: Warewashing facilities: Adequate, maintained, properly use, test strips available'),\n",
       " ('F035', 'Standard Not Met: Equipment/Utensils - approved; installed; clean; good repair, capacity'),\n",
       " ('F036', 'Standard Not Met: Equipment, utensils and linens: storage and use'),\n",
       " ('F037', 'Standard Not Met: Adequate ventilation and lighting; designated areas, use'),\n",
       " ('F038', 'Standard Not Met: Thermometers provided and accurate'),\n",
       " ('F039', 'Standard Not Met: Wiping cloths: properly used and stored'),\n",
       " ('F040', 'Standard Not Met: Plumbing: Plumbing in good repair, proper backflow devices'),\n",
       " ('F041', 'Standard Not Met: Garbage and refuse properly disposed; facilities maintained'),\n",
       " ('F042', 'Standard Not Met: Toilet facilities: properly constructed, supplied, cleaned'),\n",
       " ('F043', 'Standard Not Met: Premises; personal/cleaning items; vermin-proofing'),\n",
       " ('F044', 'Standard Not Met: Floors, walls and ceilings: properly built, maintained in good repair and clean'),\n",
       " ('F045', 'Standard Not Met: Sleeping quarters'),\n",
       " ('F046', 'Standard Not Met: Signs posted; last inspection report available'),\n",
       " ('F047', 'Standard Not Met: Plan Review required for new or remodel construction'),\n",
       " ('F048', 'Standard Not Met: Permits Available'),\n",
       " ('F049', 'Standard Not Met: Impoundment of unsanitary equipment or food'),\n",
       " ('F050', 'Standard Not Met: Permit Suspension'),\n",
       " ('F051', 'Standard Not Met: Samples Collected'),\n",
       " ('F052', 'Standard Not Met: Food safety certification'),\n",
       " ('F053', 'Standard Not Met: Hot Water Available'),\n",
       " ('F054', 'Standard Not Met: Multiple Major Critical Violations / Increased Risk to Public Health'),\n",
       " ('F055', 'Standard Not Met: Demonstration of knowledge'),\n",
       " ('F056', 'Standard Not Met: Proper cooking time & temperatures'),\n",
       " ('F057', 'Standard Not Met: Compliance with variance, specialized process, & HACCP Plan'),\n",
       " ('F058', 'Standard Not Met: Consumer advisory provided for raw or undercooked foods'),\n",
       " ('W001', 'Standard Not Met: Proper hot and cold holding temperatures'),\n",
       " ('W005', 'Standard Not Met: Food elevated'),\n",
       " ('W006', 'Standard Not Met: Food packaging protected'),\n",
       " ('W020', 'Standard Not Met: Wall(s) maintained clean'),\n",
       " ('W023', 'Standard Not Met: Floor maintained clean'),\n",
       " ('W026', 'Standard Not Met: Ceiling maintained in good repair'),\n",
       " ('W039', 'Standard Not Met: Proper storage or use of hazardous materials'),\n",
       " ('W047', 'Standard Not Met: Thermometer: available, maintained in good repair'),\n",
       " ('W050', 'Standard Not Met: Food properly labeled'),\n",
       " ('W051', 'Standard Not Met: Walls, Floors, Ceilings: approved, maintained clean and in good repair'),\n",
       " ('W052', 'Standard Not Met: Equipment, Shelving, Cabinets: approved, maintained clean and in good repair'),\n",
       " ('WP06', 'Standard Not Met: Risk for Contamination - Approved Area / Vestibule'),\n",
       " ('WP07', 'Standard Not Met: Food Storage - Properly Covered / Elevated / Proper Area'),\n",
       " ('WP21', 'Standard Not Met: Facility Fully Enclosed'),\n",
       " ('WP32', 'Standard Not Met: Drain Line / Liquid Waste - Approved Discharge / Installation / Available'),\n",
       " ('WP34', 'Standard Not Met: Soap / Drying Device - Dispenser Filled / Repair / Approved Type / Clean'),\n",
       " ('WP35', 'Standard Not Met: Hazardous Materials / Chemicals / Janitorial - Storage /Use'),\n",
       " ('WP37', 'Standard Not Met: Interior Premises - Castoffs / Tools / Linens / Uniforms'),\n",
       " ('WP43', 'Standard Not Met: Deterioration / Approved Materials'),\n",
       " ('WP48', 'Standard Not Met: Condition - Repair (Utensils / Equipment / Shelving / Cabinets)'),\n",
       " ('WP49', 'Standard Not Met: Utensils / Equipment - Storage'),\n",
       " ('WP52', 'Standard Not Met: Lighting / Light Shields / Electrical'),\n",
       " ('WP53', 'Standard Not Met: Wiping Cloths - Clean / Adequate Sanitizer /Turbid / Storage')]"
      ]
     },
     "execution_count": 81,
     "metadata": {},
     "output_type": "execute_result"
    }
   ],
   "source": [
    "%%sql\n",
    "SELECT DISTINCT code, description \n",
    "FROM violations\n",
    "ORDER BY code;"
   ]
  },
  {
   "cell_type": "code",
   "execution_count": 82,
   "metadata": {},
   "outputs": [
    {
     "name": "stdout",
     "output_type": "stream",
     "text": [
      "4152 rows affected.\n"
     ]
    },
    {
     "data": {
      "text/plain": [
       "[]"
      ]
     },
     "execution_count": 82,
     "metadata": {},
     "output_type": "execute_result"
    }
   ],
   "source": [
    "%%sql\n",
    "UPDATE violations\n",
    "SET description = 'Standard Not Met: Hot and cold water available'\n",
    "WHERE code = 'F021';"
   ]
  },
  {
   "cell_type": "markdown",
   "metadata": {},
   "source": [
    "The following code is to verify the above steps."
   ]
  },
  {
   "cell_type": "code",
   "execution_count": 83,
   "metadata": {
    "scrolled": true
   },
   "outputs": [
    {
     "name": "stdout",
     "output_type": "stream",
     "text": [
      "0 rows affected.\n"
     ]
    },
    {
     "data": {
      "text/html": [
       "<table>\n",
       "    <tr>\n",
       "        <th>business_id</th>\n",
       "        <th>date</th>\n",
       "        <th>code</th>\n",
       "        <th>description</th>\n",
       "    </tr>\n",
       "</table>"
      ],
      "text/plain": [
       "[]"
      ]
     },
     "execution_count": 83,
     "metadata": {},
     "output_type": "execute_result"
    }
   ],
   "source": [
    "%%sql\n",
    "SELECT * FROM violations\n",
    "WHERE description = 'Standard Not Met: Water available';"
   ]
  },
  {
   "cell_type": "markdown",
   "metadata": {},
   "source": [
    "Now we create a new dimension table \"violation_type\" to house the unique violation code and dscription. And we are going to treat \"violations\" table as a bridge, which we would talk later. "
   ]
  },
  {
   "cell_type": "code",
   "execution_count": 84,
   "metadata": {},
   "outputs": [
    {
     "name": "stdout",
     "output_type": "stream",
     "text": [
      "Done.\n",
      "Done.\n"
     ]
    },
    {
     "data": {
      "text/plain": [
       "[]"
      ]
     },
     "execution_count": 84,
     "metadata": {},
     "output_type": "execute_result"
    }
   ],
   "source": [
    "%%sql\n",
    "DROP TABLE IF EXISTS violation_type;\n",
    "\n",
    "CREATE TABLE violation_type (\n",
    "    key SERIAL PRIMARY KEY,\n",
    "    code CHAR(4) NOT NULL,\n",
    "    description VARCHAR(200) NOT NULL\n",
    ");"
   ]
  },
  {
   "cell_type": "code",
   "execution_count": 85,
   "metadata": {},
   "outputs": [
    {
     "name": "stdout",
     "output_type": "stream",
     "text": [
      "80 rows affected.\n"
     ]
    },
    {
     "data": {
      "text/plain": [
       "[]"
      ]
     },
     "execution_count": 85,
     "metadata": {},
     "output_type": "execute_result"
    }
   ],
   "source": [
    "%%sql\n",
    "INSERT INTO violation_type (code, description)\n",
    "SELECT DISTINCT code, description \n",
    "FROM violations;"
   ]
  },
  {
   "cell_type": "code",
   "execution_count": 86,
   "metadata": {},
   "outputs": [
    {
     "name": "stdout",
     "output_type": "stream",
     "text": [
      "10 rows affected.\n"
     ]
    },
    {
     "data": {
      "text/html": [
       "<table>\n",
       "    <tr>\n",
       "        <th>key</th>\n",
       "        <th>code</th>\n",
       "        <th>description</th>\n",
       "    </tr>\n",
       "    <tr>\n",
       "        <td>1</td>\n",
       "        <td>F021</td>\n",
       "        <td>Standard Not Met: Hot and cold water available</td>\n",
       "    </tr>\n",
       "    <tr>\n",
       "        <td>2</td>\n",
       "        <td>F031</td>\n",
       "        <td>Standard Not Met: Consumer self service facilities properly constructed and maintained</td>\n",
       "    </tr>\n",
       "    <tr>\n",
       "        <td>3</td>\n",
       "        <td>F028</td>\n",
       "        <td>Standard Not Met: Fruits and vegetables washed as required</td>\n",
       "    </tr>\n",
       "    <tr>\n",
       "        <td>4</td>\n",
       "        <td>WP53</td>\n",
       "        <td>Standard Not Met: Wiping Cloths - Clean / Adequate Sanitizer /Turbid / Storage</td>\n",
       "    </tr>\n",
       "    <tr>\n",
       "        <td>5</td>\n",
       "        <td>WP34</td>\n",
       "        <td>Standard Not Met: Soap / Drying Device - Dispenser Filled / Repair / Approved Type / Clean</td>\n",
       "    </tr>\n",
       "    <tr>\n",
       "        <td>6</td>\n",
       "        <td>F035</td>\n",
       "        <td>Standard Not Met: Equipment/Utensils - approved; installed; clean; good repair, capacity</td>\n",
       "    </tr>\n",
       "    <tr>\n",
       "        <td>7</td>\n",
       "        <td>WP35</td>\n",
       "        <td>Standard Not Met: Hazardous Materials / Chemicals / Janitorial - Storage /Use</td>\n",
       "    </tr>\n",
       "    <tr>\n",
       "        <td>8</td>\n",
       "        <td>F045</td>\n",
       "        <td>Standard Not Met: Sleeping quarters</td>\n",
       "    </tr>\n",
       "    <tr>\n",
       "        <td>9</td>\n",
       "        <td>W047</td>\n",
       "        <td>Standard Not Met: Thermometer: available, maintained in good repair</td>\n",
       "    </tr>\n",
       "    <tr>\n",
       "        <td>10</td>\n",
       "        <td>W050</td>\n",
       "        <td>Standard Not Met: Food properly labeled</td>\n",
       "    </tr>\n",
       "</table>"
      ],
      "text/plain": [
       "[(1, 'F021', 'Standard Not Met: Hot and cold water available'),\n",
       " (2, 'F031', 'Standard Not Met: Consumer self service facilities properly constructed and maintained'),\n",
       " (3, 'F028', 'Standard Not Met: Fruits and vegetables washed as required'),\n",
       " (4, 'WP53', 'Standard Not Met: Wiping Cloths - Clean / Adequate Sanitizer /Turbid / Storage'),\n",
       " (5, 'WP34', 'Standard Not Met: Soap / Drying Device - Dispenser Filled / Repair / Approved Type / Clean'),\n",
       " (6, 'F035', 'Standard Not Met: Equipment/Utensils - approved; installed; clean; good repair, capacity'),\n",
       " (7, 'WP35', 'Standard Not Met: Hazardous Materials / Chemicals / Janitorial - Storage /Use'),\n",
       " (8, 'F045', 'Standard Not Met: Sleeping quarters'),\n",
       " (9, 'W047', 'Standard Not Met: Thermometer: available, maintained in good repair'),\n",
       " (10, 'W050', 'Standard Not Met: Food properly labeled')]"
      ]
     },
     "execution_count": 86,
     "metadata": {},
     "output_type": "execute_result"
    }
   ],
   "source": [
    "%%sql\n",
    "SELECT *\n",
    "FROM violation_type\n",
    "LIMIT 10;"
   ]
  },
  {
   "cell_type": "markdown",
   "metadata": {},
   "source": [
    "Bridge analysis:\n",
    "Specially, one of our dimension attributes may have more than one violation codes and its corresponding descriptions for its one-time inspection. For this reason, this is actually a multi-valued dimension. Although this concept is not covered in class, we refer to the chapter 9 of star schema and create a bridge to handle this multi-valued dimension. \n",
    "In other words, in order to link fact table with \"violation_type\" table, we only put \"vioaltion_key\" and \"inspection_key\" in the \"violations\" table as a bridge.  "
   ]
  },
  {
   "cell_type": "markdown",
   "metadata": {},
   "source": [
    "The following code is to create violation_key in the \"violations\" table and updated violation_key with value from \"violation_type\" table based on violation code. "
   ]
  },
  {
   "cell_type": "code",
   "execution_count": 87,
   "metadata": {
    "scrolled": true
   },
   "outputs": [
    {
     "name": "stdout",
     "output_type": "stream",
     "text": [
      "Done.\n"
     ]
    },
    {
     "data": {
      "text/plain": [
       "[]"
      ]
     },
     "execution_count": 87,
     "metadata": {},
     "output_type": "execute_result"
    }
   ],
   "source": [
    "%%sql\n",
    "ALTER TABLE violations\n",
    "ADD COLUMN violation_key INTEGER,\n",
    "ADD CONSTRAINT fk_code\n",
    "    FOREIGN KEY (violation_key)\n",
    "    REFERENCES violation_type (key);"
   ]
  },
  {
   "cell_type": "code",
   "execution_count": 88,
   "metadata": {},
   "outputs": [
    {
     "name": "stdout",
     "output_type": "stream",
     "text": [
      "670410 rows affected.\n"
     ]
    },
    {
     "data": {
      "text/plain": [
       "[]"
      ]
     },
     "execution_count": 88,
     "metadata": {},
     "output_type": "execute_result"
    }
   ],
   "source": [
    "%%sql\n",
    "UPDATE violations\n",
    "SET violation_key = violation_type.key\n",
    "FROM violation_type\n",
    "WHERE violations.code = violation_type.code;"
   ]
  },
  {
   "cell_type": "code",
   "execution_count": 89,
   "metadata": {},
   "outputs": [
    {
     "name": "stdout",
     "output_type": "stream",
     "text": [
      "10 rows affected.\n"
     ]
    },
    {
     "data": {
      "text/html": [
       "<table>\n",
       "    <tr>\n",
       "        <th>business_id</th>\n",
       "        <th>date</th>\n",
       "        <th>code</th>\n",
       "        <th>description</th>\n",
       "        <th>violation_key</th>\n",
       "    </tr>\n",
       "    <tr>\n",
       "        <td>PR0005705</td>\n",
       "        <td>2015-06-08</td>\n",
       "        <td>F040</td>\n",
       "        <td>Standard Not Met: Plumbing: Plumbing in good repair, proper backflow devices</td>\n",
       "        <td>22</td>\n",
       "    </tr>\n",
       "    <tr>\n",
       "        <td>PR0008515</td>\n",
       "        <td>2015-06-09</td>\n",
       "        <td>F052</td>\n",
       "        <td>Standard Not Met: Food safety certification</td>\n",
       "        <td>34</td>\n",
       "    </tr>\n",
       "    <tr>\n",
       "        <td>PR0011662</td>\n",
       "        <td>2015-06-09</td>\n",
       "        <td>F044</td>\n",
       "        <td>Standard Not Met: Floors, walls and ceilings: properly built, maintained in good repair and clean</td>\n",
       "        <td>39</td>\n",
       "    </tr>\n",
       "    <tr>\n",
       "        <td>PR0011662</td>\n",
       "        <td>2015-06-09</td>\n",
       "        <td>F050</td>\n",
       "        <td>Standard Not Met: Permit Suspension</td>\n",
       "        <td>30</td>\n",
       "    </tr>\n",
       "    <tr>\n",
       "        <td>PR0013208</td>\n",
       "        <td>2015-06-25</td>\n",
       "        <td>F044</td>\n",
       "        <td>Standard Not Met: Floors, walls and ceilings: properly built, maintained in good repair and clean</td>\n",
       "        <td>39</td>\n",
       "    </tr>\n",
       "    <tr>\n",
       "        <td>PR0009419</td>\n",
       "        <td>2015-07-20</td>\n",
       "        <td>F007</td>\n",
       "        <td>Standard Not Met: Proper hot and cold holding temperatures</td>\n",
       "        <td>11</td>\n",
       "    </tr>\n",
       "    <tr>\n",
       "        <td>PR0007347</td>\n",
       "        <td>2015-08-05</td>\n",
       "        <td>F029</td>\n",
       "        <td>Standard Not Met: Toxic substances properly identified, stored, used</td>\n",
       "        <td>65</td>\n",
       "    </tr>\n",
       "    <tr>\n",
       "        <td>PR0003462</td>\n",
       "        <td>2015-08-05</td>\n",
       "        <td>F025</td>\n",
       "        <td>Standard Not Met: Personal cleanliness and hair restraints</td>\n",
       "        <td>40</td>\n",
       "    </tr>\n",
       "    <tr>\n",
       "        <td>PR0003462</td>\n",
       "        <td>2015-08-05</td>\n",
       "        <td>F008</td>\n",
       "        <td>Standard Not Met: Time as a public health control; procedures &amp; records</td>\n",
       "        <td>55</td>\n",
       "    </tr>\n",
       "    <tr>\n",
       "        <td>PR0008157</td>\n",
       "        <td>2015-08-05</td>\n",
       "        <td>F006</td>\n",
       "        <td>Standard Not Met: Adequate handwashing facilities supplied &amp; accessible</td>\n",
       "        <td>41</td>\n",
       "    </tr>\n",
       "</table>"
      ],
      "text/plain": [
       "[('PR0005705', datetime.date(2015, 6, 8), 'F040', 'Standard Not Met: Plumbing: Plumbing in good repair, proper backflow devices', 22),\n",
       " ('PR0008515', datetime.date(2015, 6, 9), 'F052', 'Standard Not Met: Food safety certification', 34),\n",
       " ('PR0011662', datetime.date(2015, 6, 9), 'F044', 'Standard Not Met: Floors, walls and ceilings: properly built, maintained in good repair and clean', 39),\n",
       " ('PR0011662', datetime.date(2015, 6, 9), 'F050', 'Standard Not Met: Permit Suspension', 30),\n",
       " ('PR0013208', datetime.date(2015, 6, 25), 'F044', 'Standard Not Met: Floors, walls and ceilings: properly built, maintained in good repair and clean', 39),\n",
       " ('PR0009419', datetime.date(2015, 7, 20), 'F007', 'Standard Not Met: Proper hot and cold holding temperatures', 11),\n",
       " ('PR0007347', datetime.date(2015, 8, 5), 'F029', 'Standard Not Met: Toxic substances properly identified, stored, used', 65),\n",
       " ('PR0003462', datetime.date(2015, 8, 5), 'F025', 'Standard Not Met: Personal cleanliness and hair restraints', 40),\n",
       " ('PR0003462', datetime.date(2015, 8, 5), 'F008', 'Standard Not Met: Time as a public health control; procedures & records', 55),\n",
       " ('PR0008157', datetime.date(2015, 8, 5), 'F006', 'Standard Not Met: Adequate handwashing facilities supplied & accessible', 41)]"
      ]
     },
     "execution_count": 89,
     "metadata": {},
     "output_type": "execute_result"
    }
   ],
   "source": [
    "%%sql\n",
    "SELECT * FROM violations\n",
    "LIMIT 10;"
   ]
  },
  {
   "cell_type": "markdown",
   "metadata": {},
   "source": [
    "The following code is to create violation_key in the \"violations\" table and updated violation_key with value from \"violation_type\" table based on violation code. "
   ]
  },
  {
   "cell_type": "code",
   "execution_count": 90,
   "metadata": {},
   "outputs": [
    {
     "name": "stdout",
     "output_type": "stream",
     "text": [
      "Done.\n"
     ]
    },
    {
     "data": {
      "text/plain": [
       "[]"
      ]
     },
     "execution_count": 90,
     "metadata": {},
     "output_type": "execute_result"
    }
   ],
   "source": [
    "%%sql\n",
    "ALTER TABLE violations\n",
    "ADD COLUMN inspection_key INTEGER,\n",
    "ADD CONSTRAINT fk_inspection\n",
    "    FOREIGN KEY (inspection_key)\n",
    "    REFERENCES inspections_facts (inspection_key);"
   ]
  },
  {
   "cell_type": "code",
   "execution_count": 91,
   "metadata": {},
   "outputs": [
    {
     "name": "stdout",
     "output_type": "stream",
     "text": [
      "670410 rows affected.\n"
     ]
    },
    {
     "data": {
      "text/plain": [
       "[]"
      ]
     },
     "execution_count": 91,
     "metadata": {},
     "output_type": "execute_result"
    }
   ],
   "source": [
    "%%sql\n",
    "UPDATE violations\n",
    "SET inspection_key = inspections_facts.inspection_key\n",
    "FROM inspections_facts\n",
    "WHERE inspections_facts.business_id = violations.business_id\n",
    "AND inspections_facts.date = violations.date;"
   ]
  },
  {
   "cell_type": "code",
   "execution_count": 92,
   "metadata": {},
   "outputs": [
    {
     "name": "stdout",
     "output_type": "stream",
     "text": [
      "10 rows affected.\n"
     ]
    },
    {
     "data": {
      "text/html": [
       "<table>\n",
       "    <tr>\n",
       "        <th>business_id</th>\n",
       "        <th>date</th>\n",
       "        <th>code</th>\n",
       "        <th>description</th>\n",
       "        <th>violation_key</th>\n",
       "        <th>inspection_key</th>\n",
       "    </tr>\n",
       "    <tr>\n",
       "        <td>PR0005705</td>\n",
       "        <td>2015-06-08</td>\n",
       "        <td>F040</td>\n",
       "        <td>Standard Not Met: Plumbing: Plumbing in good repair, proper backflow devices</td>\n",
       "        <td>22</td>\n",
       "        <td>66232</td>\n",
       "    </tr>\n",
       "    <tr>\n",
       "        <td>PR0011662</td>\n",
       "        <td>2015-06-09</td>\n",
       "        <td>F044</td>\n",
       "        <td>Standard Not Met: Floors, walls and ceilings: properly built, maintained in good repair and clean</td>\n",
       "        <td>39</td>\n",
       "        <td>32094</td>\n",
       "    </tr>\n",
       "    <tr>\n",
       "        <td>PR0011662</td>\n",
       "        <td>2015-06-09</td>\n",
       "        <td>F050</td>\n",
       "        <td>Standard Not Met: Permit Suspension</td>\n",
       "        <td>30</td>\n",
       "        <td>32094</td>\n",
       "    </tr>\n",
       "    <tr>\n",
       "        <td>PR0008515</td>\n",
       "        <td>2015-06-09</td>\n",
       "        <td>F052</td>\n",
       "        <td>Standard Not Met: Food safety certification</td>\n",
       "        <td>34</td>\n",
       "        <td>17150</td>\n",
       "    </tr>\n",
       "    <tr>\n",
       "        <td>PR0013208</td>\n",
       "        <td>2015-06-25</td>\n",
       "        <td>F044</td>\n",
       "        <td>Standard Not Met: Floors, walls and ceilings: properly built, maintained in good repair and clean</td>\n",
       "        <td>39</td>\n",
       "        <td>97622</td>\n",
       "    </tr>\n",
       "    <tr>\n",
       "        <td>PR0009419</td>\n",
       "        <td>2015-07-20</td>\n",
       "        <td>F007</td>\n",
       "        <td>Standard Not Met: Proper hot and cold holding temperatures</td>\n",
       "        <td>11</td>\n",
       "        <td>21485</td>\n",
       "    </tr>\n",
       "    <tr>\n",
       "        <td>PR0007347</td>\n",
       "        <td>2015-08-05</td>\n",
       "        <td>F029</td>\n",
       "        <td>Standard Not Met: Toxic substances properly identified, stored, used</td>\n",
       "        <td>65</td>\n",
       "        <td>28206</td>\n",
       "    </tr>\n",
       "    <tr>\n",
       "        <td>PR0003462</td>\n",
       "        <td>2015-08-05</td>\n",
       "        <td>F025</td>\n",
       "        <td>Standard Not Met: Personal cleanliness and hair restraints</td>\n",
       "        <td>40</td>\n",
       "        <td>17184</td>\n",
       "    </tr>\n",
       "    <tr>\n",
       "        <td>PR0003462</td>\n",
       "        <td>2015-08-05</td>\n",
       "        <td>F008</td>\n",
       "        <td>Standard Not Met: Time as a public health control; procedures &amp; records</td>\n",
       "        <td>55</td>\n",
       "        <td>17184</td>\n",
       "    </tr>\n",
       "    <tr>\n",
       "        <td>PR0008157</td>\n",
       "        <td>2015-08-05</td>\n",
       "        <td>F006</td>\n",
       "        <td>Standard Not Met: Adequate handwashing facilities supplied &amp; accessible</td>\n",
       "        <td>41</td>\n",
       "        <td>95480</td>\n",
       "    </tr>\n",
       "</table>"
      ],
      "text/plain": [
       "[('PR0005705', datetime.date(2015, 6, 8), 'F040', 'Standard Not Met: Plumbing: Plumbing in good repair, proper backflow devices', 22, 66232),\n",
       " ('PR0011662', datetime.date(2015, 6, 9), 'F044', 'Standard Not Met: Floors, walls and ceilings: properly built, maintained in good repair and clean', 39, 32094),\n",
       " ('PR0011662', datetime.date(2015, 6, 9), 'F050', 'Standard Not Met: Permit Suspension', 30, 32094),\n",
       " ('PR0008515', datetime.date(2015, 6, 9), 'F052', 'Standard Not Met: Food safety certification', 34, 17150),\n",
       " ('PR0013208', datetime.date(2015, 6, 25), 'F044', 'Standard Not Met: Floors, walls and ceilings: properly built, maintained in good repair and clean', 39, 97622),\n",
       " ('PR0009419', datetime.date(2015, 7, 20), 'F007', 'Standard Not Met: Proper hot and cold holding temperatures', 11, 21485),\n",
       " ('PR0007347', datetime.date(2015, 8, 5), 'F029', 'Standard Not Met: Toxic substances properly identified, stored, used', 65, 28206),\n",
       " ('PR0003462', datetime.date(2015, 8, 5), 'F025', 'Standard Not Met: Personal cleanliness and hair restraints', 40, 17184),\n",
       " ('PR0003462', datetime.date(2015, 8, 5), 'F008', 'Standard Not Met: Time as a public health control; procedures & records', 55, 17184),\n",
       " ('PR0008157', datetime.date(2015, 8, 5), 'F006', 'Standard Not Met: Adequate handwashing facilities supplied & accessible', 41, 95480)]"
      ]
     },
     "execution_count": 92,
     "metadata": {},
     "output_type": "execute_result"
    }
   ],
   "source": [
    "%%sql\n",
    "SELECT * FROM violations\n",
    "LIMIT 10;"
   ]
  },
  {
   "cell_type": "markdown",
   "metadata": {},
   "source": [
    "The following code is to drop unnecessary columns in the \"violations\" table so that it could be treated as a bridge."
   ]
  },
  {
   "cell_type": "code",
   "execution_count": 93,
   "metadata": {},
   "outputs": [
    {
     "name": "stdout",
     "output_type": "stream",
     "text": [
      "Done.\n"
     ]
    },
    {
     "data": {
      "text/plain": [
       "[]"
      ]
     },
     "execution_count": 93,
     "metadata": {},
     "output_type": "execute_result"
    }
   ],
   "source": [
    "%%sql\n",
    "ALTER TABLE violations\n",
    "DROP COLUMN code,\n",
    "DROP COLUMN description,\n",
    "DROP business_id,\n",
    "DROP date;"
   ]
  },
  {
   "cell_type": "code",
   "execution_count": 94,
   "metadata": {},
   "outputs": [
    {
     "name": "stdout",
     "output_type": "stream",
     "text": [
      "10 rows affected.\n"
     ]
    },
    {
     "data": {
      "text/html": [
       "<table>\n",
       "    <tr>\n",
       "        <th>violation_key</th>\n",
       "        <th>inspection_key</th>\n",
       "    </tr>\n",
       "    <tr>\n",
       "        <td>22</td>\n",
       "        <td>66232</td>\n",
       "    </tr>\n",
       "    <tr>\n",
       "        <td>39</td>\n",
       "        <td>32094</td>\n",
       "    </tr>\n",
       "    <tr>\n",
       "        <td>30</td>\n",
       "        <td>32094</td>\n",
       "    </tr>\n",
       "    <tr>\n",
       "        <td>34</td>\n",
       "        <td>17150</td>\n",
       "    </tr>\n",
       "    <tr>\n",
       "        <td>39</td>\n",
       "        <td>97622</td>\n",
       "    </tr>\n",
       "    <tr>\n",
       "        <td>11</td>\n",
       "        <td>21485</td>\n",
       "    </tr>\n",
       "    <tr>\n",
       "        <td>65</td>\n",
       "        <td>28206</td>\n",
       "    </tr>\n",
       "    <tr>\n",
       "        <td>40</td>\n",
       "        <td>17184</td>\n",
       "    </tr>\n",
       "    <tr>\n",
       "        <td>55</td>\n",
       "        <td>17184</td>\n",
       "    </tr>\n",
       "    <tr>\n",
       "        <td>41</td>\n",
       "        <td>95480</td>\n",
       "    </tr>\n",
       "</table>"
      ],
      "text/plain": [
       "[(22, 66232),\n",
       " (39, 32094),\n",
       " (30, 32094),\n",
       " (34, 17150),\n",
       " (39, 97622),\n",
       " (11, 21485),\n",
       " (65, 28206),\n",
       " (40, 17184),\n",
       " (55, 17184),\n",
       " (41, 95480)]"
      ]
     },
     "execution_count": 94,
     "metadata": {},
     "output_type": "execute_result"
    }
   ],
   "source": [
    "%%sql\n",
    "SELECT * FROM violations\n",
    "LIMIT 10;"
   ]
  },
  {
   "cell_type": "markdown",
   "metadata": {},
   "source": [
    "Last, we are going to create \"date\" dimension table. "
   ]
  },
  {
   "cell_type": "code",
   "execution_count": 95,
   "metadata": {},
   "outputs": [
    {
     "name": "stdout",
     "output_type": "stream",
     "text": [
      "1 rows affected.\n"
     ]
    },
    {
     "data": {
      "text/html": [
       "<table>\n",
       "    <tr>\n",
       "        <th>day</th>\n",
       "        <th>year</th>\n",
       "        <th>month_of_year_str</th>\n",
       "        <th>month_of_year</th>\n",
       "        <th>day_of_month</th>\n",
       "        <th>day_of_week_str</th>\n",
       "        <th>day_of_week</th>\n",
       "        <th>is_weekend</th>\n",
       "        <th>is_weekday</th>\n",
       "        <th>quarter_of_year</th>\n",
       "    </tr>\n",
       "    <tr>\n",
       "        <td>2017-01-09</td>\n",
       "        <td>2017</td>\n",
       "        <td>January  </td>\n",
       "        <td>01</td>\n",
       "        <td>09</td>\n",
       "        <td>Monday   </td>\n",
       "        <td>2</td>\n",
       "        <td>false</td>\n",
       "        <td>true</td>\n",
       "        <td>1</td>\n",
       "    </tr>\n",
       "</table>"
      ],
      "text/plain": [
       "[('2017-01-09', '2017', 'January  ', '01', '09', 'Monday   ', '2', 'false', 'true', '1')]"
      ]
     },
     "execution_count": 95,
     "metadata": {},
     "output_type": "execute_result"
    }
   ],
   "source": [
    "%%sql\n",
    "SELECT DISTINCT\n",
    "    TO_CHAR(date, 'YYYY-MM-DD') AS day, \n",
    "    TO_CHAR(date, 'YYYY') AS year,\n",
    "    TO_CHAR(date, 'Month') AS month_of_year_str,\n",
    "    TO_CHAR(date, 'MM') AS month_of_year,\n",
    "    TO_CHAR(date, 'DD') AS day_of_month,\n",
    "    TO_CHAR(date, 'Day') AS day_of_week_str,\n",
    "    TO_CHAR(date, 'D') AS day_of_week,\n",
    "    CASE WHEN CAST(TO_CHAR(date, 'D') AS INTEGER) >= 6 \n",
    "        THEN 'true' \n",
    "        ELSE 'false'\n",
    "    END AS is_weekend,\n",
    "    CASE WHEN CAST(TO_CHAR(date, 'D') AS INTEGER) < 6 \n",
    "        THEN 'true' \n",
    "        ELSE 'false'\n",
    "    END AS is_weekday,\n",
    "    TO_CHAR(date, 'Q') AS quarter_of_year\n",
    "FROM inspections_facts\n",
    "LIMIT 1;"
   ]
  },
  {
   "cell_type": "markdown",
   "metadata": {},
   "source": [
    "Now we create a new dimension table \"date\" to house the unique time information."
   ]
  },
  {
   "cell_type": "code",
   "execution_count": 96,
   "metadata": {},
   "outputs": [
    {
     "name": "stdout",
     "output_type": "stream",
     "text": [
      "Done.\n",
      "Done.\n"
     ]
    },
    {
     "data": {
      "text/plain": [
       "[]"
      ]
     },
     "execution_count": 96,
     "metadata": {},
     "output_type": "execute_result"
    }
   ],
   "source": [
    "%%sql\n",
    "DROP TABLE IF EXISTS date;\n",
    "\n",
    "CREATE TABLE date (\n",
    "    key SERIAL PRIMARY KEY,\n",
    "    day CHAR(10),\n",
    "    year INTEGER,\n",
    "    month_of_year_str VARCHAR(12),\n",
    "    month_of_year INTEGER,\n",
    "    day_of_month INTEGER,\n",
    "    day_of_week_str CHAR(9),\n",
    "    day_of_week INTEGER,\n",
    "    is_weekend BOOLEAN,\n",
    "    is_weekday BOOLEAN,\n",
    "    quarter_of_year INTEGER\n",
    ");"
   ]
  },
  {
   "cell_type": "code",
   "execution_count": 97,
   "metadata": {},
   "outputs": [
    {
     "name": "stdout",
     "output_type": "stream",
     "text": [
      "737 rows affected.\n"
     ]
    },
    {
     "data": {
      "text/plain": [
       "[]"
      ]
     },
     "execution_count": 97,
     "metadata": {},
     "output_type": "execute_result"
    }
   ],
   "source": [
    "%%sql\n",
    "INSERT INTO date(day, year, month_of_year_str, month_of_year, day_of_month, day_of_week_str,day_of_week,is_weekend,is_weekday,quarter_of_year)\n",
    "SELECT DISTINCT\n",
    "    TO_CHAR(date, 'YYYY-MM-DD') AS day, \n",
    "    CAST(TO_CHAR(date, 'YYYY') AS INTEGER) AS year,\n",
    "    TO_CHAR(date, 'Month') AS month_of_year_str,\n",
    "    CAST(TO_CHAR(date, 'MM') AS INTEGER) AS month_of_year,\n",
    "    CAST(TO_CHAR(date, 'DD') AS INTEGER) AS day_of_month,\n",
    "    TO_CHAR(date, 'Day') AS day_of_week_str,\n",
    "    CAST(TO_CHAR(date, 'D') AS INTEGER) AS day_of_week,\n",
    "    CASE WHEN CAST(TO_CHAR(date, 'D') AS INTEGER) IN (1, 7) \n",
    "        THEN TRUE\n",
    "        ELSE FALSE\n",
    "    END AS is_weekend,\n",
    "    CASE WHEN CAST(TO_CHAR(date, 'D') AS INTEGER) NOT IN (1, 7) \n",
    "        THEN TRUE\n",
    "        ELSE FALSE\n",
    "    END AS is_weekday,\n",
    "    CAST(TO_CHAR(date, 'Q') AS INTEGER) AS quarter_of_year\n",
    "FROM inspections_facts"
   ]
  },
  {
   "cell_type": "code",
   "execution_count": 98,
   "metadata": {},
   "outputs": [
    {
     "name": "stdout",
     "output_type": "stream",
     "text": [
      "10 rows affected.\n"
     ]
    },
    {
     "data": {
      "text/html": [
       "<table>\n",
       "    <tr>\n",
       "        <th>key</th>\n",
       "        <th>day</th>\n",
       "        <th>year</th>\n",
       "        <th>month_of_year_str</th>\n",
       "        <th>month_of_year</th>\n",
       "        <th>day_of_month</th>\n",
       "        <th>day_of_week_str</th>\n",
       "        <th>day_of_week</th>\n",
       "        <th>is_weekend</th>\n",
       "        <th>is_weekday</th>\n",
       "        <th>quarter_of_year</th>\n",
       "    </tr>\n",
       "    <tr>\n",
       "        <td>1</td>\n",
       "        <td>2017-01-12</td>\n",
       "        <td>2017</td>\n",
       "        <td>January  </td>\n",
       "        <td>1</td>\n",
       "        <td>12</td>\n",
       "        <td>Thursday </td>\n",
       "        <td>5</td>\n",
       "        <td>False</td>\n",
       "        <td>True</td>\n",
       "        <td>1</td>\n",
       "    </tr>\n",
       "    <tr>\n",
       "        <td>2</td>\n",
       "        <td>2017-01-18</td>\n",
       "        <td>2017</td>\n",
       "        <td>January  </td>\n",
       "        <td>1</td>\n",
       "        <td>18</td>\n",
       "        <td>Wednesday</td>\n",
       "        <td>4</td>\n",
       "        <td>False</td>\n",
       "        <td>True</td>\n",
       "        <td>1</td>\n",
       "    </tr>\n",
       "    <tr>\n",
       "        <td>3</td>\n",
       "        <td>2016-11-28</td>\n",
       "        <td>2016</td>\n",
       "        <td>November </td>\n",
       "        <td>11</td>\n",
       "        <td>28</td>\n",
       "        <td>Monday   </td>\n",
       "        <td>2</td>\n",
       "        <td>False</td>\n",
       "        <td>True</td>\n",
       "        <td>4</td>\n",
       "    </tr>\n",
       "    <tr>\n",
       "        <td>4</td>\n",
       "        <td>2016-04-29</td>\n",
       "        <td>2016</td>\n",
       "        <td>April    </td>\n",
       "        <td>4</td>\n",
       "        <td>29</td>\n",
       "        <td>Friday   </td>\n",
       "        <td>6</td>\n",
       "        <td>False</td>\n",
       "        <td>True</td>\n",
       "        <td>2</td>\n",
       "    </tr>\n",
       "    <tr>\n",
       "        <td>5</td>\n",
       "        <td>2016-02-06</td>\n",
       "        <td>2016</td>\n",
       "        <td>February </td>\n",
       "        <td>2</td>\n",
       "        <td>6</td>\n",
       "        <td>Saturday </td>\n",
       "        <td>7</td>\n",
       "        <td>True</td>\n",
       "        <td>False</td>\n",
       "        <td>1</td>\n",
       "    </tr>\n",
       "    <tr>\n",
       "        <td>6</td>\n",
       "        <td>2015-12-24</td>\n",
       "        <td>2015</td>\n",
       "        <td>December </td>\n",
       "        <td>12</td>\n",
       "        <td>24</td>\n",
       "        <td>Thursday </td>\n",
       "        <td>5</td>\n",
       "        <td>False</td>\n",
       "        <td>True</td>\n",
       "        <td>4</td>\n",
       "    </tr>\n",
       "    <tr>\n",
       "        <td>7</td>\n",
       "        <td>2015-12-28</td>\n",
       "        <td>2015</td>\n",
       "        <td>December </td>\n",
       "        <td>12</td>\n",
       "        <td>28</td>\n",
       "        <td>Monday   </td>\n",
       "        <td>2</td>\n",
       "        <td>False</td>\n",
       "        <td>True</td>\n",
       "        <td>4</td>\n",
       "    </tr>\n",
       "    <tr>\n",
       "        <td>8</td>\n",
       "        <td>2016-06-21</td>\n",
       "        <td>2016</td>\n",
       "        <td>June     </td>\n",
       "        <td>6</td>\n",
       "        <td>21</td>\n",
       "        <td>Tuesday  </td>\n",
       "        <td>3</td>\n",
       "        <td>False</td>\n",
       "        <td>True</td>\n",
       "        <td>2</td>\n",
       "    </tr>\n",
       "    <tr>\n",
       "        <td>9</td>\n",
       "        <td>2016-05-02</td>\n",
       "        <td>2016</td>\n",
       "        <td>May      </td>\n",
       "        <td>5</td>\n",
       "        <td>2</td>\n",
       "        <td>Monday   </td>\n",
       "        <td>2</td>\n",
       "        <td>False</td>\n",
       "        <td>True</td>\n",
       "        <td>2</td>\n",
       "    </tr>\n",
       "    <tr>\n",
       "        <td>10</td>\n",
       "        <td>2015-11-02</td>\n",
       "        <td>2015</td>\n",
       "        <td>November </td>\n",
       "        <td>11</td>\n",
       "        <td>2</td>\n",
       "        <td>Monday   </td>\n",
       "        <td>2</td>\n",
       "        <td>False</td>\n",
       "        <td>True</td>\n",
       "        <td>4</td>\n",
       "    </tr>\n",
       "</table>"
      ],
      "text/plain": [
       "[(1, '2017-01-12', 2017, 'January  ', 1, 12, 'Thursday ', 5, False, True, 1),\n",
       " (2, '2017-01-18', 2017, 'January  ', 1, 18, 'Wednesday', 4, False, True, 1),\n",
       " (3, '2016-11-28', 2016, 'November ', 11, 28, 'Monday   ', 2, False, True, 4),\n",
       " (4, '2016-04-29', 2016, 'April    ', 4, 29, 'Friday   ', 6, False, True, 2),\n",
       " (5, '2016-02-06', 2016, 'February ', 2, 6, 'Saturday ', 7, True, False, 1),\n",
       " (6, '2015-12-24', 2015, 'December ', 12, 24, 'Thursday ', 5, False, True, 4),\n",
       " (7, '2015-12-28', 2015, 'December ', 12, 28, 'Monday   ', 2, False, True, 4),\n",
       " (8, '2016-06-21', 2016, 'June     ', 6, 21, 'Tuesday  ', 3, False, True, 2),\n",
       " (9, '2016-05-02', 2016, 'May      ', 5, 2, 'Monday   ', 2, False, True, 2),\n",
       " (10, '2015-11-02', 2015, 'November ', 11, 2, 'Monday   ', 2, False, True, 4)]"
      ]
     },
     "execution_count": 98,
     "metadata": {},
     "output_type": "execute_result"
    }
   ],
   "source": [
    "%%sql\n",
    "SELECT * FROM date\n",
    "LIMIT 10;"
   ]
  },
  {
   "cell_type": "markdown",
   "metadata": {},
   "source": [
    "We add these new identifiers (surrogate key) \"date_key\" back to the fact table."
   ]
  },
  {
   "cell_type": "code",
   "execution_count": 99,
   "metadata": {},
   "outputs": [
    {
     "name": "stdout",
     "output_type": "stream",
     "text": [
      "Done.\n"
     ]
    },
    {
     "data": {
      "text/plain": [
       "[]"
      ]
     },
     "execution_count": 99,
     "metadata": {},
     "output_type": "execute_result"
    }
   ],
   "source": [
    "%%sql\n",
    "ALTER TABLE inspections_facts \n",
    "ADD COLUMN date_key INTEGER,\n",
    "ADD CONSTRAINT fk_date\n",
    "    FOREIGN KEY (date_key)\n",
    "    REFERENCES date (key);"
   ]
  },
  {
   "cell_type": "markdown",
   "metadata": {},
   "source": [
    "Now we update the `date_key` in the fact table with the values from \"date\" dimension table based on the day value."
   ]
  },
  {
   "cell_type": "code",
   "execution_count": 100,
   "metadata": {},
   "outputs": [
    {
     "name": "stdout",
     "output_type": "stream",
     "text": [
      "138269 rows affected.\n"
     ]
    },
    {
     "data": {
      "text/plain": [
       "[]"
      ]
     },
     "execution_count": 100,
     "metadata": {},
     "output_type": "execute_result"
    }
   ],
   "source": [
    "%%sql\n",
    "UPDATE inspections_facts\n",
    "SET date_key = date.key\n",
    "FROM date\n",
    "WHERE TO_CHAR(inspections_facts.date, 'YYYY-MM-DD') = date.day;"
   ]
  },
  {
   "cell_type": "code",
   "execution_count": 101,
   "metadata": {},
   "outputs": [
    {
     "name": "stdout",
     "output_type": "stream",
     "text": [
      "10 rows affected.\n"
     ]
    },
    {
     "data": {
      "text/html": [
       "<table>\n",
       "    <tr>\n",
       "        <th>inspection_key</th>\n",
       "        <th>business_id</th>\n",
       "        <th>date</th>\n",
       "        <th>avg_score</th>\n",
       "        <th>grade</th>\n",
       "        <th>business_key</th>\n",
       "        <th>date_key</th>\n",
       "    </tr>\n",
       "    <tr>\n",
       "        <td>1332</td>\n",
       "        <td>PR0002362</td>\n",
       "        <td>2015-06-08</td>\n",
       "        <td>82</td>\n",
       "        <td>B</td>\n",
       "        <td>16875</td>\n",
       "        <td>383</td>\n",
       "    </tr>\n",
       "    <tr>\n",
       "        <td>129243</td>\n",
       "        <td>PR0025015</td>\n",
       "        <td>2015-06-08</td>\n",
       "        <td>98</td>\n",
       "        <td>A</td>\n",
       "        <td>10276</td>\n",
       "        <td>383</td>\n",
       "    </tr>\n",
       "    <tr>\n",
       "        <td>2689</td>\n",
       "        <td>PR0001565</td>\n",
       "        <td>2015-06-08</td>\n",
       "        <td>88</td>\n",
       "        <td>B</td>\n",
       "        <td>8695</td>\n",
       "        <td>383</td>\n",
       "    </tr>\n",
       "    <tr>\n",
       "        <td>132228</td>\n",
       "        <td>PR0035327</td>\n",
       "        <td>2015-06-08</td>\n",
       "        <td>92</td>\n",
       "        <td>A</td>\n",
       "        <td>10929</td>\n",
       "        <td>383</td>\n",
       "    </tr>\n",
       "    <tr>\n",
       "        <td>4659</td>\n",
       "        <td>PR0009517</td>\n",
       "        <td>2015-06-08</td>\n",
       "        <td>80</td>\n",
       "        <td>B</td>\n",
       "        <td>27307</td>\n",
       "        <td>383</td>\n",
       "    </tr>\n",
       "    <tr>\n",
       "        <td>8277</td>\n",
       "        <td>PR0003575</td>\n",
       "        <td>2015-06-08</td>\n",
       "        <td>90</td>\n",
       "        <td>A</td>\n",
       "        <td>16951</td>\n",
       "        <td>383</td>\n",
       "    </tr>\n",
       "    <tr>\n",
       "        <td>131731</td>\n",
       "        <td>PR0029530</td>\n",
       "        <td>2015-06-08</td>\n",
       "        <td>94</td>\n",
       "        <td>A</td>\n",
       "        <td>10548</td>\n",
       "        <td>383</td>\n",
       "    </tr>\n",
       "    <tr>\n",
       "        <td>8607</td>\n",
       "        <td>PR0005133</td>\n",
       "        <td>2015-06-08</td>\n",
       "        <td>98</td>\n",
       "        <td>A</td>\n",
       "        <td>23132</td>\n",
       "        <td>383</td>\n",
       "    </tr>\n",
       "    <tr>\n",
       "        <td>134436</td>\n",
       "        <td>PR0123230</td>\n",
       "        <td>2015-06-08</td>\n",
       "        <td>94</td>\n",
       "        <td>A</td>\n",
       "        <td>6205</td>\n",
       "        <td>383</td>\n",
       "    </tr>\n",
       "    <tr>\n",
       "        <td>16648</td>\n",
       "        <td>PR0048219</td>\n",
       "        <td>2015-06-08</td>\n",
       "        <td>95</td>\n",
       "        <td>A</td>\n",
       "        <td>28177</td>\n",
       "        <td>383</td>\n",
       "    </tr>\n",
       "</table>"
      ],
      "text/plain": [
       "[(1332, 'PR0002362', datetime.date(2015, 6, 8), Decimal('82'), 'B', 16875, 383),\n",
       " (129243, 'PR0025015', datetime.date(2015, 6, 8), Decimal('98'), 'A', 10276, 383),\n",
       " (2689, 'PR0001565', datetime.date(2015, 6, 8), Decimal('88'), 'B', 8695, 383),\n",
       " (132228, 'PR0035327', datetime.date(2015, 6, 8), Decimal('92'), 'A', 10929, 383),\n",
       " (4659, 'PR0009517', datetime.date(2015, 6, 8), Decimal('80'), 'B', 27307, 383),\n",
       " (8277, 'PR0003575', datetime.date(2015, 6, 8), Decimal('90'), 'A', 16951, 383),\n",
       " (131731, 'PR0029530', datetime.date(2015, 6, 8), Decimal('94'), 'A', 10548, 383),\n",
       " (8607, 'PR0005133', datetime.date(2015, 6, 8), Decimal('98'), 'A', 23132, 383),\n",
       " (134436, 'PR0123230', datetime.date(2015, 6, 8), Decimal('94'), 'A', 6205, 383),\n",
       " (16648, 'PR0048219', datetime.date(2015, 6, 8), Decimal('95'), 'A', 28177, 383)]"
      ]
     },
     "execution_count": 101,
     "metadata": {},
     "output_type": "execute_result"
    }
   ],
   "source": [
    "%%sql\n",
    "SELECT *\n",
    "FROM inspections_facts\n",
    "LIMIT 10;"
   ]
  },
  {
   "cell_type": "markdown",
   "metadata": {},
   "source": [
    "The following code is to drop unnecessary columns in the fact table."
   ]
  },
  {
   "cell_type": "code",
   "execution_count": 102,
   "metadata": {},
   "outputs": [
    {
     "name": "stdout",
     "output_type": "stream",
     "text": [
      "Done.\n"
     ]
    },
    {
     "data": {
      "text/plain": [
       "[]"
      ]
     },
     "execution_count": 102,
     "metadata": {},
     "output_type": "execute_result"
    }
   ],
   "source": [
    "%%sql\n",
    "ALTER TABLE inspections_facts\n",
    "DROP COLUMN date,\n",
    "DROP COLUMN business_id;"
   ]
  },
  {
   "cell_type": "code",
   "execution_count": null,
   "metadata": {
    "collapsed": true
   },
   "outputs": [],
   "source": []
  },
  {
   "cell_type": "markdown",
   "metadata": {},
   "source": [
    "From the below codes, it is clear to see what is included in the \"inspections_facts\" table (fact), \"business\" table (dimension), \"date\" table (dimension), \"violation_type\" table (dimension), and \"violations\" table (bridge)."
   ]
  },
  {
   "cell_type": "code",
   "execution_count": null,
   "metadata": {
    "collapsed": true
   },
   "outputs": [],
   "source": []
  },
  {
   "cell_type": "code",
   "execution_count": 103,
   "metadata": {},
   "outputs": [
    {
     "name": "stdout",
     "output_type": "stream",
     "text": [
      "10 rows affected.\n"
     ]
    },
    {
     "data": {
      "text/html": [
       "<table>\n",
       "    <tr>\n",
       "        <th>key</th>\n",
       "        <th>day</th>\n",
       "        <th>year</th>\n",
       "        <th>month_of_year_str</th>\n",
       "        <th>month_of_year</th>\n",
       "        <th>day_of_month</th>\n",
       "        <th>day_of_week_str</th>\n",
       "        <th>day_of_week</th>\n",
       "        <th>is_weekend</th>\n",
       "        <th>is_weekday</th>\n",
       "        <th>quarter_of_year</th>\n",
       "    </tr>\n",
       "    <tr>\n",
       "        <td>1</td>\n",
       "        <td>2017-01-12</td>\n",
       "        <td>2017</td>\n",
       "        <td>January  </td>\n",
       "        <td>1</td>\n",
       "        <td>12</td>\n",
       "        <td>Thursday </td>\n",
       "        <td>5</td>\n",
       "        <td>False</td>\n",
       "        <td>True</td>\n",
       "        <td>1</td>\n",
       "    </tr>\n",
       "    <tr>\n",
       "        <td>2</td>\n",
       "        <td>2017-01-18</td>\n",
       "        <td>2017</td>\n",
       "        <td>January  </td>\n",
       "        <td>1</td>\n",
       "        <td>18</td>\n",
       "        <td>Wednesday</td>\n",
       "        <td>4</td>\n",
       "        <td>False</td>\n",
       "        <td>True</td>\n",
       "        <td>1</td>\n",
       "    </tr>\n",
       "    <tr>\n",
       "        <td>3</td>\n",
       "        <td>2016-11-28</td>\n",
       "        <td>2016</td>\n",
       "        <td>November </td>\n",
       "        <td>11</td>\n",
       "        <td>28</td>\n",
       "        <td>Monday   </td>\n",
       "        <td>2</td>\n",
       "        <td>False</td>\n",
       "        <td>True</td>\n",
       "        <td>4</td>\n",
       "    </tr>\n",
       "    <tr>\n",
       "        <td>4</td>\n",
       "        <td>2016-04-29</td>\n",
       "        <td>2016</td>\n",
       "        <td>April    </td>\n",
       "        <td>4</td>\n",
       "        <td>29</td>\n",
       "        <td>Friday   </td>\n",
       "        <td>6</td>\n",
       "        <td>False</td>\n",
       "        <td>True</td>\n",
       "        <td>2</td>\n",
       "    </tr>\n",
       "    <tr>\n",
       "        <td>5</td>\n",
       "        <td>2016-02-06</td>\n",
       "        <td>2016</td>\n",
       "        <td>February </td>\n",
       "        <td>2</td>\n",
       "        <td>6</td>\n",
       "        <td>Saturday </td>\n",
       "        <td>7</td>\n",
       "        <td>True</td>\n",
       "        <td>False</td>\n",
       "        <td>1</td>\n",
       "    </tr>\n",
       "    <tr>\n",
       "        <td>6</td>\n",
       "        <td>2015-12-24</td>\n",
       "        <td>2015</td>\n",
       "        <td>December </td>\n",
       "        <td>12</td>\n",
       "        <td>24</td>\n",
       "        <td>Thursday </td>\n",
       "        <td>5</td>\n",
       "        <td>False</td>\n",
       "        <td>True</td>\n",
       "        <td>4</td>\n",
       "    </tr>\n",
       "    <tr>\n",
       "        <td>7</td>\n",
       "        <td>2015-12-28</td>\n",
       "        <td>2015</td>\n",
       "        <td>December </td>\n",
       "        <td>12</td>\n",
       "        <td>28</td>\n",
       "        <td>Monday   </td>\n",
       "        <td>2</td>\n",
       "        <td>False</td>\n",
       "        <td>True</td>\n",
       "        <td>4</td>\n",
       "    </tr>\n",
       "    <tr>\n",
       "        <td>8</td>\n",
       "        <td>2016-06-21</td>\n",
       "        <td>2016</td>\n",
       "        <td>June     </td>\n",
       "        <td>6</td>\n",
       "        <td>21</td>\n",
       "        <td>Tuesday  </td>\n",
       "        <td>3</td>\n",
       "        <td>False</td>\n",
       "        <td>True</td>\n",
       "        <td>2</td>\n",
       "    </tr>\n",
       "    <tr>\n",
       "        <td>9</td>\n",
       "        <td>2016-05-02</td>\n",
       "        <td>2016</td>\n",
       "        <td>May      </td>\n",
       "        <td>5</td>\n",
       "        <td>2</td>\n",
       "        <td>Monday   </td>\n",
       "        <td>2</td>\n",
       "        <td>False</td>\n",
       "        <td>True</td>\n",
       "        <td>2</td>\n",
       "    </tr>\n",
       "    <tr>\n",
       "        <td>10</td>\n",
       "        <td>2015-11-02</td>\n",
       "        <td>2015</td>\n",
       "        <td>November </td>\n",
       "        <td>11</td>\n",
       "        <td>2</td>\n",
       "        <td>Monday   </td>\n",
       "        <td>2</td>\n",
       "        <td>False</td>\n",
       "        <td>True</td>\n",
       "        <td>4</td>\n",
       "    </tr>\n",
       "</table>"
      ],
      "text/plain": [
       "[(1, '2017-01-12', 2017, 'January  ', 1, 12, 'Thursday ', 5, False, True, 1),\n",
       " (2, '2017-01-18', 2017, 'January  ', 1, 18, 'Wednesday', 4, False, True, 1),\n",
       " (3, '2016-11-28', 2016, 'November ', 11, 28, 'Monday   ', 2, False, True, 4),\n",
       " (4, '2016-04-29', 2016, 'April    ', 4, 29, 'Friday   ', 6, False, True, 2),\n",
       " (5, '2016-02-06', 2016, 'February ', 2, 6, 'Saturday ', 7, True, False, 1),\n",
       " (6, '2015-12-24', 2015, 'December ', 12, 24, 'Thursday ', 5, False, True, 4),\n",
       " (7, '2015-12-28', 2015, 'December ', 12, 28, 'Monday   ', 2, False, True, 4),\n",
       " (8, '2016-06-21', 2016, 'June     ', 6, 21, 'Tuesday  ', 3, False, True, 2),\n",
       " (9, '2016-05-02', 2016, 'May      ', 5, 2, 'Monday   ', 2, False, True, 2),\n",
       " (10, '2015-11-02', 2015, 'November ', 11, 2, 'Monday   ', 2, False, True, 4)]"
      ]
     },
     "execution_count": 103,
     "metadata": {},
     "output_type": "execute_result"
    }
   ],
   "source": [
    "%%sql\n",
    "SELECT *\n",
    "FROM date\n",
    "LIMIT 10;"
   ]
  },
  {
   "cell_type": "code",
   "execution_count": 104,
   "metadata": {},
   "outputs": [
    {
     "name": "stdout",
     "output_type": "stream",
     "text": [
      "10 rows affected.\n"
     ]
    },
    {
     "data": {
      "text/html": [
       "<table>\n",
       "    <tr>\n",
       "        <th>violation_key</th>\n",
       "        <th>inspection_key</th>\n",
       "    </tr>\n",
       "    <tr>\n",
       "        <td>22</td>\n",
       "        <td>66232</td>\n",
       "    </tr>\n",
       "    <tr>\n",
       "        <td>39</td>\n",
       "        <td>32094</td>\n",
       "    </tr>\n",
       "    <tr>\n",
       "        <td>30</td>\n",
       "        <td>32094</td>\n",
       "    </tr>\n",
       "    <tr>\n",
       "        <td>34</td>\n",
       "        <td>17150</td>\n",
       "    </tr>\n",
       "    <tr>\n",
       "        <td>39</td>\n",
       "        <td>97622</td>\n",
       "    </tr>\n",
       "    <tr>\n",
       "        <td>11</td>\n",
       "        <td>21485</td>\n",
       "    </tr>\n",
       "    <tr>\n",
       "        <td>65</td>\n",
       "        <td>28206</td>\n",
       "    </tr>\n",
       "    <tr>\n",
       "        <td>40</td>\n",
       "        <td>17184</td>\n",
       "    </tr>\n",
       "    <tr>\n",
       "        <td>55</td>\n",
       "        <td>17184</td>\n",
       "    </tr>\n",
       "    <tr>\n",
       "        <td>41</td>\n",
       "        <td>95480</td>\n",
       "    </tr>\n",
       "</table>"
      ],
      "text/plain": [
       "[(22, 66232),\n",
       " (39, 32094),\n",
       " (30, 32094),\n",
       " (34, 17150),\n",
       " (39, 97622),\n",
       " (11, 21485),\n",
       " (65, 28206),\n",
       " (40, 17184),\n",
       " (55, 17184),\n",
       " (41, 95480)]"
      ]
     },
     "execution_count": 104,
     "metadata": {},
     "output_type": "execute_result"
    }
   ],
   "source": [
    "%%sql\n",
    "SELECT *\n",
    "FROM violations\n",
    "LIMIT 10;"
   ]
  },
  {
   "cell_type": "code",
   "execution_count": 105,
   "metadata": {},
   "outputs": [
    {
     "name": "stdout",
     "output_type": "stream",
     "text": [
      "10 rows affected.\n"
     ]
    },
    {
     "data": {
      "text/html": [
       "<table>\n",
       "    <tr>\n",
       "        <th>key</th>\n",
       "        <th>code</th>\n",
       "        <th>description</th>\n",
       "    </tr>\n",
       "    <tr>\n",
       "        <td>1</td>\n",
       "        <td>F021</td>\n",
       "        <td>Standard Not Met: Hot and cold water available</td>\n",
       "    </tr>\n",
       "    <tr>\n",
       "        <td>2</td>\n",
       "        <td>F031</td>\n",
       "        <td>Standard Not Met: Consumer self service facilities properly constructed and maintained</td>\n",
       "    </tr>\n",
       "    <tr>\n",
       "        <td>3</td>\n",
       "        <td>F028</td>\n",
       "        <td>Standard Not Met: Fruits and vegetables washed as required</td>\n",
       "    </tr>\n",
       "    <tr>\n",
       "        <td>4</td>\n",
       "        <td>WP53</td>\n",
       "        <td>Standard Not Met: Wiping Cloths - Clean / Adequate Sanitizer /Turbid / Storage</td>\n",
       "    </tr>\n",
       "    <tr>\n",
       "        <td>5</td>\n",
       "        <td>WP34</td>\n",
       "        <td>Standard Not Met: Soap / Drying Device - Dispenser Filled / Repair / Approved Type / Clean</td>\n",
       "    </tr>\n",
       "    <tr>\n",
       "        <td>6</td>\n",
       "        <td>F035</td>\n",
       "        <td>Standard Not Met: Equipment/Utensils - approved; installed; clean; good repair, capacity</td>\n",
       "    </tr>\n",
       "    <tr>\n",
       "        <td>7</td>\n",
       "        <td>WP35</td>\n",
       "        <td>Standard Not Met: Hazardous Materials / Chemicals / Janitorial - Storage /Use</td>\n",
       "    </tr>\n",
       "    <tr>\n",
       "        <td>8</td>\n",
       "        <td>F045</td>\n",
       "        <td>Standard Not Met: Sleeping quarters</td>\n",
       "    </tr>\n",
       "    <tr>\n",
       "        <td>9</td>\n",
       "        <td>W047</td>\n",
       "        <td>Standard Not Met: Thermometer: available, maintained in good repair</td>\n",
       "    </tr>\n",
       "    <tr>\n",
       "        <td>10</td>\n",
       "        <td>W050</td>\n",
       "        <td>Standard Not Met: Food properly labeled</td>\n",
       "    </tr>\n",
       "</table>"
      ],
      "text/plain": [
       "[(1, 'F021', 'Standard Not Met: Hot and cold water available'),\n",
       " (2, 'F031', 'Standard Not Met: Consumer self service facilities properly constructed and maintained'),\n",
       " (3, 'F028', 'Standard Not Met: Fruits and vegetables washed as required'),\n",
       " (4, 'WP53', 'Standard Not Met: Wiping Cloths - Clean / Adequate Sanitizer /Turbid / Storage'),\n",
       " (5, 'WP34', 'Standard Not Met: Soap / Drying Device - Dispenser Filled / Repair / Approved Type / Clean'),\n",
       " (6, 'F035', 'Standard Not Met: Equipment/Utensils - approved; installed; clean; good repair, capacity'),\n",
       " (7, 'WP35', 'Standard Not Met: Hazardous Materials / Chemicals / Janitorial - Storage /Use'),\n",
       " (8, 'F045', 'Standard Not Met: Sleeping quarters'),\n",
       " (9, 'W047', 'Standard Not Met: Thermometer: available, maintained in good repair'),\n",
       " (10, 'W050', 'Standard Not Met: Food properly labeled')]"
      ]
     },
     "execution_count": 105,
     "metadata": {},
     "output_type": "execute_result"
    }
   ],
   "source": [
    "%%sql\n",
    "SELECT *\n",
    "FROM violation_type\n",
    "LIMIT 10;"
   ]
  },
  {
   "cell_type": "code",
   "execution_count": 106,
   "metadata": {},
   "outputs": [
    {
     "name": "stdout",
     "output_type": "stream",
     "text": [
      "10 rows affected.\n"
     ]
    },
    {
     "data": {
      "text/html": [
       "<table>\n",
       "    <tr>\n",
       "        <th>inspection_key</th>\n",
       "        <th>avg_score</th>\n",
       "        <th>grade</th>\n",
       "        <th>business_key</th>\n",
       "        <th>date_key</th>\n",
       "    </tr>\n",
       "    <tr>\n",
       "        <td>1332</td>\n",
       "        <td>82</td>\n",
       "        <td>B</td>\n",
       "        <td>16875</td>\n",
       "        <td>383</td>\n",
       "    </tr>\n",
       "    <tr>\n",
       "        <td>129243</td>\n",
       "        <td>98</td>\n",
       "        <td>A</td>\n",
       "        <td>10276</td>\n",
       "        <td>383</td>\n",
       "    </tr>\n",
       "    <tr>\n",
       "        <td>2689</td>\n",
       "        <td>88</td>\n",
       "        <td>B</td>\n",
       "        <td>8695</td>\n",
       "        <td>383</td>\n",
       "    </tr>\n",
       "    <tr>\n",
       "        <td>132228</td>\n",
       "        <td>92</td>\n",
       "        <td>A</td>\n",
       "        <td>10929</td>\n",
       "        <td>383</td>\n",
       "    </tr>\n",
       "    <tr>\n",
       "        <td>4659</td>\n",
       "        <td>80</td>\n",
       "        <td>B</td>\n",
       "        <td>27307</td>\n",
       "        <td>383</td>\n",
       "    </tr>\n",
       "    <tr>\n",
       "        <td>8277</td>\n",
       "        <td>90</td>\n",
       "        <td>A</td>\n",
       "        <td>16951</td>\n",
       "        <td>383</td>\n",
       "    </tr>\n",
       "    <tr>\n",
       "        <td>131731</td>\n",
       "        <td>94</td>\n",
       "        <td>A</td>\n",
       "        <td>10548</td>\n",
       "        <td>383</td>\n",
       "    </tr>\n",
       "    <tr>\n",
       "        <td>8607</td>\n",
       "        <td>98</td>\n",
       "        <td>A</td>\n",
       "        <td>23132</td>\n",
       "        <td>383</td>\n",
       "    </tr>\n",
       "    <tr>\n",
       "        <td>134436</td>\n",
       "        <td>94</td>\n",
       "        <td>A</td>\n",
       "        <td>6205</td>\n",
       "        <td>383</td>\n",
       "    </tr>\n",
       "    <tr>\n",
       "        <td>16648</td>\n",
       "        <td>95</td>\n",
       "        <td>A</td>\n",
       "        <td>28177</td>\n",
       "        <td>383</td>\n",
       "    </tr>\n",
       "</table>"
      ],
      "text/plain": [
       "[(1332, Decimal('82'), 'B', 16875, 383),\n",
       " (129243, Decimal('98'), 'A', 10276, 383),\n",
       " (2689, Decimal('88'), 'B', 8695, 383),\n",
       " (132228, Decimal('92'), 'A', 10929, 383),\n",
       " (4659, Decimal('80'), 'B', 27307, 383),\n",
       " (8277, Decimal('90'), 'A', 16951, 383),\n",
       " (131731, Decimal('94'), 'A', 10548, 383),\n",
       " (8607, Decimal('98'), 'A', 23132, 383),\n",
       " (134436, Decimal('94'), 'A', 6205, 383),\n",
       " (16648, Decimal('95'), 'A', 28177, 383)]"
      ]
     },
     "execution_count": 106,
     "metadata": {},
     "output_type": "execute_result"
    }
   ],
   "source": [
    "%%sql\n",
    "SELECT *\n",
    "FROM inspections_facts\n",
    "LIMIT 10;"
   ]
  },
  {
   "cell_type": "code",
   "execution_count": 107,
   "metadata": {},
   "outputs": [
    {
     "name": "stdout",
     "output_type": "stream",
     "text": [
      "10 rows affected.\n"
     ]
    },
    {
     "data": {
      "text/html": [
       "<table>\n",
       "    <tr>\n",
       "        <th>business_key</th>\n",
       "        <th>business_id</th>\n",
       "        <th>name</th>\n",
       "        <th>address</th>\n",
       "        <th>city</th>\n",
       "        <th>postal_code</th>\n",
       "        <th>latitude</th>\n",
       "        <th>longitude</th>\n",
       "    </tr>\n",
       "    <tr>\n",
       "        <td>1</td>\n",
       "        <td>PR0000206</td>\n",
       "        <td>JOSYLN SENIOR CENTER</td>\n",
       "        <td>210 N CHAPEL AVE </td>\n",
       "        <td>ALHAMBRA</td>\n",
       "        <td>91801</td>\n",
       "        <td>34.09852551</td>\n",
       "        <td>-118.124767</td>\n",
       "    </tr>\n",
       "    <tr>\n",
       "        <td>2</td>\n",
       "        <td>PR0000213</td>\n",
       "        <td>STARBUCKS COFFEE #9685</td>\n",
       "        <td>145 N CITRUS AVE </td>\n",
       "        <td>COVINA</td>\n",
       "        <td>91723</td>\n",
       "        <td>34.08732692</td>\n",
       "        <td>-117.8904602</td>\n",
       "    </tr>\n",
       "    <tr>\n",
       "        <td>3</td>\n",
       "        <td>PR0000250</td>\n",
       "        <td>VFW POST NO. 6110</td>\n",
       "        <td>16555 SIERRA HWY </td>\n",
       "        <td>CANYON COUNTRY</td>\n",
       "        <td>91351-1338</td>\n",
       "        <td>34.44756653</td>\n",
       "        <td>-118.4262071</td>\n",
       "    </tr>\n",
       "    <tr>\n",
       "        <td>4</td>\n",
       "        <td>PR0000273</td>\n",
       "        <td>STABUCKS @ VONS #2066</td>\n",
       "        <td>18439 VENTURA BLVD </td>\n",
       "        <td>TARZANA</td>\n",
       "        <td>91356</td>\n",
       "        <td>34.16838141</td>\n",
       "        <td>-118.53457</td>\n",
       "    </tr>\n",
       "    <tr>\n",
       "        <td>5</td>\n",
       "        <td>PR0000278</td>\n",
       "        <td>COCOHODO TORRANCE</td>\n",
       "        <td>2734 SEPULVEDA BLVD </td>\n",
       "        <td>TORRANCE</td>\n",
       "        <td>90505</td>\n",
       "        <td>33.82248757</td>\n",
       "        <td>-118.3331782</td>\n",
       "    </tr>\n",
       "    <tr>\n",
       "        <td>6</td>\n",
       "        <td>PR0000307</td>\n",
       "        <td>KING&#x27;S BAKERY</td>\n",
       "        <td>127 N GARFIELD AVE STE J</td>\n",
       "        <td>MONTEREY PARK</td>\n",
       "        <td>91754</td>\n",
       "        <td>34.06332786</td>\n",
       "        <td>-118.123686</td>\n",
       "    </tr>\n",
       "    <tr>\n",
       "        <td>7</td>\n",
       "        <td>PR0000332</td>\n",
       "        <td>PAPA JOHN&#x27;S 2247</td>\n",
       "        <td>5457 E SOUTH ST </td>\n",
       "        <td>LAKEWOOD</td>\n",
       "        <td>90712</td>\n",
       "        <td>33.86073276</td>\n",
       "        <td>-118.1260192</td>\n",
       "    </tr>\n",
       "    <tr>\n",
       "        <td>8</td>\n",
       "        <td>PR0000335</td>\n",
       "        <td>4 SEASONS HOTEL-THE BAR</td>\n",
       "        <td>2 DOLE DR</td>\n",
       "        <td>WESTLAKE VILLAGE</td>\n",
       "        <td>91362</td>\n",
       "        <td>34.15136847</td>\n",
       "        <td>-118.8045058</td>\n",
       "    </tr>\n",
       "    <tr>\n",
       "        <td>9</td>\n",
       "        <td>PR0000380</td>\n",
       "        <td>BENNYS 19TH HOLE SALOON</td>\n",
       "        <td>16829 PRAIRIE AVE </td>\n",
       "        <td>LAWNDALE</td>\n",
       "        <td>90260</td>\n",
       "        <td>33.87795215</td>\n",
       "        <td>-118.3439873</td>\n",
       "    </tr>\n",
       "    <tr>\n",
       "        <td>10</td>\n",
       "        <td>PR0000462</td>\n",
       "        <td>TERRACE CINEMAS 6</td>\n",
       "        <td>28901 S WESTERN AVE </td>\n",
       "        <td>RANCHO PALOS VERDES</td>\n",
       "        <td>90275</td>\n",
       "        <td>33.75635356</td>\n",
       "        <td>-118.3103982</td>\n",
       "    </tr>\n",
       "</table>"
      ],
      "text/plain": [
       "[(1, 'PR0000206', 'JOSYLN SENIOR CENTER', '210 N CHAPEL AVE ', 'ALHAMBRA', '91801', Decimal('34.09852551'), Decimal('-118.124767')),\n",
       " (2, 'PR0000213', 'STARBUCKS COFFEE #9685', '145 N CITRUS AVE ', 'COVINA', '91723', Decimal('34.08732692'), Decimal('-117.8904602')),\n",
       " (3, 'PR0000250', 'VFW POST NO. 6110', '16555 SIERRA HWY ', 'CANYON COUNTRY', '91351-1338', Decimal('34.44756653'), Decimal('-118.4262071')),\n",
       " (4, 'PR0000273', 'STABUCKS @ VONS #2066', '18439 VENTURA BLVD ', 'TARZANA', '91356', Decimal('34.16838141'), Decimal('-118.53457')),\n",
       " (5, 'PR0000278', 'COCOHODO TORRANCE', '2734 SEPULVEDA BLVD ', 'TORRANCE', '90505', Decimal('33.82248757'), Decimal('-118.3331782')),\n",
       " (6, 'PR0000307', \"KING'S BAKERY\", '127 N GARFIELD AVE STE J', 'MONTEREY PARK', '91754', Decimal('34.06332786'), Decimal('-118.123686')),\n",
       " (7, 'PR0000332', \"PAPA JOHN'S 2247\", '5457 E SOUTH ST ', 'LAKEWOOD', '90712', Decimal('33.86073276'), Decimal('-118.1260192')),\n",
       " (8, 'PR0000335', '4 SEASONS HOTEL-THE BAR', '2 DOLE DR', 'WESTLAKE VILLAGE', '91362', Decimal('34.15136847'), Decimal('-118.8045058')),\n",
       " (9, 'PR0000380', 'BENNYS 19TH HOLE SALOON', '16829 PRAIRIE AVE ', 'LAWNDALE', '90260', Decimal('33.87795215'), Decimal('-118.3439873')),\n",
       " (10, 'PR0000462', 'TERRACE CINEMAS 6', '28901 S WESTERN AVE ', 'RANCHO PALOS VERDES', '90275', Decimal('33.75635356'), Decimal('-118.3103982'))]"
      ]
     },
     "execution_count": 107,
     "metadata": {},
     "output_type": "execute_result"
    }
   ],
   "source": [
    "%%sql\n",
    "SELECT *\n",
    "FROM business\n",
    "LIMIT 10;"
   ]
  },
  {
   "cell_type": "code",
   "execution_count": null,
   "metadata": {
    "collapsed": true
   },
   "outputs": [],
   "source": []
  },
  {
   "cell_type": "code",
   "execution_count": null,
   "metadata": {
    "collapsed": true
   },
   "outputs": [],
   "source": []
  },
  {
   "cell_type": "code",
   "execution_count": null,
   "metadata": {
    "collapsed": true
   },
   "outputs": [],
   "source": []
  },
  {
   "cell_type": "code",
   "execution_count": null,
   "metadata": {
    "collapsed": true
   },
   "outputs": [],
   "source": []
  },
  {
   "cell_type": "markdown",
   "metadata": {},
   "source": [
    "### Data Analysis "
   ]
  },
  {
   "cell_type": "markdown",
   "metadata": {
    "collapsed": true
   },
   "source": [
    "**Q1:ABOUT SCORE AND GRADE**"
   ]
  },
  {
   "cell_type": "markdown",
   "metadata": {},
   "source": [
    "First, let's take a look at the average level of score across the whole LA County."
   ]
  },
  {
   "cell_type": "code",
   "execution_count": 108,
   "metadata": {},
   "outputs": [
    {
     "name": "stdout",
     "output_type": "stream",
     "text": [
      "1 rows affected.\n"
     ]
    },
    {
     "data": {
      "text/html": [
       "<table>\n",
       "    <tr>\n",
       "        <th>average_la</th>\n",
       "    </tr>\n",
       "    <tr>\n",
       "        <td>93.4981</td>\n",
       "    </tr>\n",
       "</table>"
      ],
      "text/plain": [
       "[(Decimal('93.4981'),)]"
      ]
     },
     "execution_count": 108,
     "metadata": {},
     "output_type": "execute_result"
    }
   ],
   "source": [
    "%%sql\n",
    "SELECT ROUND(AVG(inspections_facts.avg_score),4) AS Average_LA\n",
    "FROM inspections_facts"
   ]
  },
  {
   "cell_type": "markdown",
   "metadata": {},
   "source": [
    "The average score for these two years and half is about 93.50, which is between 90 to 100. So the average grade for all restaurants in LA County is A, indicating a nice overall health level of restaurants in LA county."
   ]
  },
  {
   "cell_type": "code",
   "execution_count": 109,
   "metadata": {},
   "outputs": [
    {
     "name": "stdout",
     "output_type": "stream",
     "text": [
      "169 rows affected.\n"
     ]
    },
    {
     "data": {
      "text/html": [
       "<table>\n",
       "    <tr>\n",
       "        <th>city</th>\n",
       "        <th>diff_average_score</th>\n",
       "    </tr>\n",
       "    <tr>\n",
       "        <td>ACTON</td>\n",
       "        <td>1.0434</td>\n",
       "    </tr>\n",
       "    <tr>\n",
       "        <td>AGOURA</td>\n",
       "        <td>4.8150</td>\n",
       "    </tr>\n",
       "    <tr>\n",
       "        <td>AGOURA HILLS</td>\n",
       "        <td>1.9925</td>\n",
       "    </tr>\n",
       "    <tr>\n",
       "        <td>AGUA DULCE</td>\n",
       "        <td>-0.6664</td>\n",
       "    </tr>\n",
       "    <tr>\n",
       "        <td>ALHAMBRA</td>\n",
       "        <td>-2.1111</td>\n",
       "    </tr>\n",
       "    <tr>\n",
       "        <td>ALTADENA</td>\n",
       "        <td>-0.1841</td>\n",
       "    </tr>\n",
       "    <tr>\n",
       "        <td>ARCADIA</td>\n",
       "        <td>0.9639</td>\n",
       "    </tr>\n",
       "    <tr>\n",
       "        <td>ARLETA</td>\n",
       "        <td>-0.0720</td>\n",
       "    </tr>\n",
       "    <tr>\n",
       "        <td>ARTESIA</td>\n",
       "        <td>1.0615</td>\n",
       "    </tr>\n",
       "    <tr>\n",
       "        <td>AVALON</td>\n",
       "        <td>-3.0817</td>\n",
       "    </tr>\n",
       "    <tr>\n",
       "        <td>AZUSA</td>\n",
       "        <td>0.7499</td>\n",
       "    </tr>\n",
       "    <tr>\n",
       "        <td>BALDWIN PARK</td>\n",
       "        <td>0.8733</td>\n",
       "    </tr>\n",
       "    <tr>\n",
       "        <td>BELL</td>\n",
       "        <td>0.1259</td>\n",
       "    </tr>\n",
       "    <tr>\n",
       "        <td>BELLFLOWER</td>\n",
       "        <td>-0.4522</td>\n",
       "    </tr>\n",
       "    <tr>\n",
       "        <td>BELL GARDENS</td>\n",
       "        <td>-0.4156</td>\n",
       "    </tr>\n",
       "    <tr>\n",
       "        <td>BEVERLY HILLS</td>\n",
       "        <td>-0.2261</td>\n",
       "    </tr>\n",
       "    <tr>\n",
       "        <td>BURBANK</td>\n",
       "        <td>1.4038</td>\n",
       "    </tr>\n",
       "    <tr>\n",
       "        <td>CALABASAS</td>\n",
       "        <td>1.2545</td>\n",
       "    </tr>\n",
       "    <tr>\n",
       "        <td>CANOGA PARK</td>\n",
       "        <td>0.4894</td>\n",
       "    </tr>\n",
       "    <tr>\n",
       "        <td>CANYON COUNTRY</td>\n",
       "        <td>2.7455</td>\n",
       "    </tr>\n",
       "    <tr>\n",
       "        <td>CARSON</td>\n",
       "        <td>-1.2968</td>\n",
       "    </tr>\n",
       "    <tr>\n",
       "        <td>CASTAIC</td>\n",
       "        <td>1.1117</td>\n",
       "    </tr>\n",
       "    <tr>\n",
       "        <td>CENTURY CITY</td>\n",
       "        <td>-0.9606</td>\n",
       "    </tr>\n",
       "    <tr>\n",
       "        <td>CERRITOS</td>\n",
       "        <td>-0.2989</td>\n",
       "    </tr>\n",
       "    <tr>\n",
       "        <td>CHATSWORTH</td>\n",
       "        <td>0.2933</td>\n",
       "    </tr>\n",
       "    <tr>\n",
       "        <td>CITY OF INDUSTRY</td>\n",
       "        <td>0.1479</td>\n",
       "    </tr>\n",
       "    <tr>\n",
       "        <td>CLAREMONT</td>\n",
       "        <td>2.4536</td>\n",
       "    </tr>\n",
       "    <tr>\n",
       "        <td>COMMERCE</td>\n",
       "        <td>0.0649</td>\n",
       "    </tr>\n",
       "    <tr>\n",
       "        <td>COMPTON</td>\n",
       "        <td>0.3536</td>\n",
       "    </tr>\n",
       "    <tr>\n",
       "        <td>COVINA</td>\n",
       "        <td>0.0750</td>\n",
       "    </tr>\n",
       "    <tr>\n",
       "        <td>CUDAHY</td>\n",
       "        <td>-0.6382</td>\n",
       "    </tr>\n",
       "    <tr>\n",
       "        <td>CULVER CITY</td>\n",
       "        <td>0.0368</td>\n",
       "    </tr>\n",
       "    <tr>\n",
       "        <td>DIAMOND BAR</td>\n",
       "        <td>-0.6430</td>\n",
       "    </tr>\n",
       "    <tr>\n",
       "        <td>DOWNEY</td>\n",
       "        <td>-0.3194</td>\n",
       "    </tr>\n",
       "    <tr>\n",
       "        <td>DUARTE</td>\n",
       "        <td>1.1515</td>\n",
       "    </tr>\n",
       "    <tr>\n",
       "        <td>EAGLE ROCK</td>\n",
       "        <td>-0.5327</td>\n",
       "    </tr>\n",
       "    <tr>\n",
       "        <td>EAST LOS ANGELES</td>\n",
       "        <td>2.9676</td>\n",
       "    </tr>\n",
       "    <tr>\n",
       "        <td>EL MONTE</td>\n",
       "        <td>0.6251</td>\n",
       "    </tr>\n",
       "    <tr>\n",
       "        <td>EL SEGUNDO</td>\n",
       "        <td>-0.3756</td>\n",
       "    </tr>\n",
       "    <tr>\n",
       "        <td>EL SERENO</td>\n",
       "        <td>3.7454</td>\n",
       "    </tr>\n",
       "    <tr>\n",
       "        <td>ENCINO</td>\n",
       "        <td>1.7246</td>\n",
       "    </tr>\n",
       "    <tr>\n",
       "        <td>GARDENA</td>\n",
       "        <td>-1.9809</td>\n",
       "    </tr>\n",
       "    <tr>\n",
       "        <td>GLENDALE</td>\n",
       "        <td>0.0493</td>\n",
       "    </tr>\n",
       "    <tr>\n",
       "        <td>GLENDORA</td>\n",
       "        <td>0.0034</td>\n",
       "    </tr>\n",
       "    <tr>\n",
       "        <td>GORMAN</td>\n",
       "        <td>-2.3427</td>\n",
       "    </tr>\n",
       "    <tr>\n",
       "        <td>GRANADA HILLS</td>\n",
       "        <td>1.4115</td>\n",
       "    </tr>\n",
       "    <tr>\n",
       "        <td>GREEN VALLEY</td>\n",
       "        <td>3.5315</td>\n",
       "    </tr>\n",
       "    <tr>\n",
       "        <td>HACIENDA HEIGHTS</td>\n",
       "        <td>-0.5257</td>\n",
       "    </tr>\n",
       "    <tr>\n",
       "        <td>HARBOR CITY</td>\n",
       "        <td>0.8951</td>\n",
       "    </tr>\n",
       "    <tr>\n",
       "        <td>HAWAIIAN GARDENS</td>\n",
       "        <td>-1.0067</td>\n",
       "    </tr>\n",
       "    <tr>\n",
       "        <td>HAWTHORNE</td>\n",
       "        <td>-0.1945</td>\n",
       "    </tr>\n",
       "    <tr>\n",
       "        <td>HERMOSA BEACH</td>\n",
       "        <td>-1.5965</td>\n",
       "    </tr>\n",
       "    <tr>\n",
       "        <td>HOLLYWOOD</td>\n",
       "        <td>0.9401</td>\n",
       "    </tr>\n",
       "    <tr>\n",
       "        <td>HUNTINGTON PARK</td>\n",
       "        <td>-0.8147</td>\n",
       "    </tr>\n",
       "    <tr>\n",
       "        <td>INDUSTRY</td>\n",
       "        <td>-0.3522</td>\n",
       "    </tr>\n",
       "    <tr>\n",
       "        <td>INGLEWOOD</td>\n",
       "        <td>-0.1932</td>\n",
       "    </tr>\n",
       "    <tr>\n",
       "        <td>IRWINDALE</td>\n",
       "        <td>2.0154</td>\n",
       "    </tr>\n",
       "    <tr>\n",
       "        <td>LA CANADA FLINTRIDGE</td>\n",
       "        <td>1.0862</td>\n",
       "    </tr>\n",
       "    <tr>\n",
       "        <td>LA CRESCENTA</td>\n",
       "        <td>-0.1873</td>\n",
       "    </tr>\n",
       "    <tr>\n",
       "        <td>LA HABRA</td>\n",
       "        <td>2.1411</td>\n",
       "    </tr>\n",
       "    <tr>\n",
       "        <td>LAKE BALBOA</td>\n",
       "        <td>0.5368</td>\n",
       "    </tr>\n",
       "    <tr>\n",
       "        <td>LAKE HUGHES</td>\n",
       "        <td>-0.0574</td>\n",
       "    </tr>\n",
       "    <tr>\n",
       "        <td>LAKEVIEW TERRACE</td>\n",
       "        <td>-1.3884</td>\n",
       "    </tr>\n",
       "    <tr>\n",
       "        <td>LAKEWOOD</td>\n",
       "        <td>0.1112</td>\n",
       "    </tr>\n",
       "    <tr>\n",
       "        <td>LA MIRADA</td>\n",
       "        <td>-1.5163</td>\n",
       "    </tr>\n",
       "    <tr>\n",
       "        <td>LANCASTER</td>\n",
       "        <td>-0.4277</td>\n",
       "    </tr>\n",
       "    <tr>\n",
       "        <td>LA PUENTE</td>\n",
       "        <td>0.4244</td>\n",
       "    </tr>\n",
       "    <tr>\n",
       "        <td>LA VERNE</td>\n",
       "        <td>-0.1748</td>\n",
       "    </tr>\n",
       "    <tr>\n",
       "        <td>LAWNDALE</td>\n",
       "        <td>-2.2863</td>\n",
       "    </tr>\n",
       "    <tr>\n",
       "        <td>LEBEC</td>\n",
       "        <td>-2.0607</td>\n",
       "    </tr>\n",
       "    <tr>\n",
       "        <td>LENNOX</td>\n",
       "        <td>-6.9500</td>\n",
       "    </tr>\n",
       "    <tr>\n",
       "        <td>LEONA VALLEY</td>\n",
       "        <td>-6.5489</td>\n",
       "    </tr>\n",
       "    <tr>\n",
       "        <td>LINCOLN HEIGHTS</td>\n",
       "        <td>-0.1762</td>\n",
       "    </tr>\n",
       "    <tr>\n",
       "        <td>LITTLEROCK</td>\n",
       "        <td>-0.2158</td>\n",
       "    </tr>\n",
       "    <tr>\n",
       "        <td>LLANO</td>\n",
       "        <td>1.7846</td>\n",
       "    </tr>\n",
       "    <tr>\n",
       "        <td>LOMITA</td>\n",
       "        <td>0.0760</td>\n",
       "    </tr>\n",
       "    <tr>\n",
       "        <td>LONG BEACH</td>\n",
       "        <td>-1.1745</td>\n",
       "    </tr>\n",
       "    <tr>\n",
       "        <td>LOS ANGELES</td>\n",
       "        <td>-0.4767</td>\n",
       "    </tr>\n",
       "    <tr>\n",
       "        <td>LYNWOOD</td>\n",
       "        <td>1.2428</td>\n",
       "    </tr>\n",
       "    <tr>\n",
       "        <td>MALIBU</td>\n",
       "        <td>1.2364</td>\n",
       "    </tr>\n",
       "    <tr>\n",
       "        <td>MANHATTAN BEACH</td>\n",
       "        <td>0.5637</td>\n",
       "    </tr>\n",
       "    <tr>\n",
       "        <td>MARINA DEL REY</td>\n",
       "        <td>-0.3957</td>\n",
       "    </tr>\n",
       "    <tr>\n",
       "        <td>MAYWOOD</td>\n",
       "        <td>0.7633</td>\n",
       "    </tr>\n",
       "    <tr>\n",
       "        <td>MISSION HILLS</td>\n",
       "        <td>-0.1088</td>\n",
       "    </tr>\n",
       "    <tr>\n",
       "        <td>MONROVIA</td>\n",
       "        <td>1.3263</td>\n",
       "    </tr>\n",
       "    <tr>\n",
       "        <td>MONTEBELLO</td>\n",
       "        <td>0.9709</td>\n",
       "    </tr>\n",
       "    <tr>\n",
       "        <td>MONTEREY PARK</td>\n",
       "        <td>-3.9338</td>\n",
       "    </tr>\n",
       "    <tr>\n",
       "        <td>MONTROSE</td>\n",
       "        <td>-0.1469</td>\n",
       "    </tr>\n",
       "    <tr>\n",
       "        <td>MT. WILSON</td>\n",
       "        <td>5.5280</td>\n",
       "    </tr>\n",
       "    <tr>\n",
       "        <td>NEWHALL</td>\n",
       "        <td>3.2189</td>\n",
       "    </tr>\n",
       "    <tr>\n",
       "        <td>NORTH HILLS</td>\n",
       "        <td>-0.2160</td>\n",
       "    </tr>\n",
       "    <tr>\n",
       "        <td>NORTH HOLLYWOOD</td>\n",
       "        <td>-0.0295</td>\n",
       "    </tr>\n",
       "    <tr>\n",
       "        <td>NORTHRIDGE</td>\n",
       "        <td>0.7938</td>\n",
       "    </tr>\n",
       "    <tr>\n",
       "        <td>NORTHRISGE</td>\n",
       "        <td>2.3194</td>\n",
       "    </tr>\n",
       "    <tr>\n",
       "        <td>NORWALK</td>\n",
       "        <td>-0.6234</td>\n",
       "    </tr>\n",
       "    <tr>\n",
       "        <td>PACIFIC PALISADES</td>\n",
       "        <td>1.6992</td>\n",
       "    </tr>\n",
       "    <tr>\n",
       "        <td>PACOIMA</td>\n",
       "        <td>-0.7155</td>\n",
       "    </tr>\n",
       "    <tr>\n",
       "        <td>PALMDALE</td>\n",
       "        <td>0.8945</td>\n",
       "    </tr>\n",
       "    <tr>\n",
       "        <td>PALOS VERDES ESTATES</td>\n",
       "        <td>-1.0264</td>\n",
       "    </tr>\n",
       "    <tr>\n",
       "        <td>PALOS VERDES PENINSULA</td>\n",
       "        <td>0.2424</td>\n",
       "    </tr>\n",
       "    <tr>\n",
       "        <td>PANORAMA CITY</td>\n",
       "        <td>-0.1937</td>\n",
       "    </tr>\n",
       "    <tr>\n",
       "        <td>PARAMOUNT</td>\n",
       "        <td>0.9081</td>\n",
       "    </tr>\n",
       "    <tr>\n",
       "        <td>PASADENA</td>\n",
       "        <td>1.5552</td>\n",
       "    </tr>\n",
       "    <tr>\n",
       "        <td>PEARBLOSSOM</td>\n",
       "        <td>1.6063</td>\n",
       "    </tr>\n",
       "    <tr>\n",
       "        <td>PICO RIVERA</td>\n",
       "        <td>0.9208</td>\n",
       "    </tr>\n",
       "    <tr>\n",
       "        <td>PLAYA DEL REY</td>\n",
       "        <td>-0.3050</td>\n",
       "    </tr>\n",
       "    <tr>\n",
       "        <td>PLAYA VISTA</td>\n",
       "        <td>-1.4213</td>\n",
       "    </tr>\n",
       "    <tr>\n",
       "        <td>POMONA</td>\n",
       "        <td>0.5413</td>\n",
       "    </tr>\n",
       "    <tr>\n",
       "        <td>PORTER RANCH</td>\n",
       "        <td>0.4031</td>\n",
       "    </tr>\n",
       "    <tr>\n",
       "        <td>QUARTZ HILL</td>\n",
       "        <td>-0.0744</td>\n",
       "    </tr>\n",
       "    <tr>\n",
       "        <td>RANCHO DOMINGUEZ</td>\n",
       "        <td>-0.8647</td>\n",
       "    </tr>\n",
       "    <tr>\n",
       "        <td>RANCHO PALOS VERDES</td>\n",
       "        <td>-0.5129</td>\n",
       "    </tr>\n",
       "    <tr>\n",
       "        <td>REDONDO BEACH</td>\n",
       "        <td>0.2282</td>\n",
       "    </tr>\n",
       "    <tr>\n",
       "        <td>RESEDA</td>\n",
       "        <td>0.3708</td>\n",
       "    </tr>\n",
       "    <tr>\n",
       "        <td>ROLLING HILLS</td>\n",
       "        <td>2.6759</td>\n",
       "    </tr>\n",
       "    <tr>\n",
       "        <td>ROLLING HILLS ESTATES</td>\n",
       "        <td>0.0111</td>\n",
       "    </tr>\n",
       "    <tr>\n",
       "        <td>ROSEMEAD</td>\n",
       "        <td>0.3219</td>\n",
       "    </tr>\n",
       "    <tr>\n",
       "        <td>ROWLAND HEIGHTS</td>\n",
       "        <td>-1.8224</td>\n",
       "    </tr>\n",
       "    <tr>\n",
       "        <td>SAN DIMAS</td>\n",
       "        <td>1.5297</td>\n",
       "    </tr>\n",
       "    <tr>\n",
       "        <td>SAN FERNANDO</td>\n",
       "        <td>-0.5851</td>\n",
       "    </tr>\n",
       "    <tr>\n",
       "        <td>SAN GABRIEL</td>\n",
       "        <td>-0.4648</td>\n",
       "    </tr>\n",
       "    <tr>\n",
       "        <td>SAN MARINO</td>\n",
       "        <td>-0.6677</td>\n",
       "    </tr>\n",
       "    <tr>\n",
       "        <td>SAN PEDRO</td>\n",
       "        <td>-1.1901</td>\n",
       "    </tr>\n",
       "    <tr>\n",
       "        <td>SANTA CLARITA</td>\n",
       "        <td>2.2047</td>\n",
       "    </tr>\n",
       "    <tr>\n",
       "        <td>SANTA FE SPRINGS</td>\n",
       "        <td>0.6682</td>\n",
       "    </tr>\n",
       "    <tr>\n",
       "        <td>SANTA MONICA</td>\n",
       "        <td>0.6886</td>\n",
       "    </tr>\n",
       "    <tr>\n",
       "        <td>SAUGUS</td>\n",
       "        <td>-0.1126</td>\n",
       "    </tr>\n",
       "    <tr>\n",
       "        <td>SEPULVEDA</td>\n",
       "        <td>-0.3800</td>\n",
       "    </tr>\n",
       "    <tr>\n",
       "        <td>SHADOW HILLS</td>\n",
       "        <td>2.6759</td>\n",
       "    </tr>\n",
       "    <tr>\n",
       "        <td>SHERMAN OAKS</td>\n",
       "        <td>0.1312</td>\n",
       "    </tr>\n",
       "    <tr>\n",
       "        <td>SIERRA MADRE</td>\n",
       "        <td>1.0992</td>\n",
       "    </tr>\n",
       "    <tr>\n",
       "        <td>SIGNAL HILL</td>\n",
       "        <td>-1.6642</td>\n",
       "    </tr>\n",
       "    <tr>\n",
       "        <td>SOUTH EL MONTE</td>\n",
       "        <td>-0.3766</td>\n",
       "    </tr>\n",
       "    <tr>\n",
       "        <td>SOUTH GATE</td>\n",
       "        <td>1.4035</td>\n",
       "    </tr>\n",
       "    <tr>\n",
       "        <td>SOUTH PASADENA</td>\n",
       "        <td>1.0146</td>\n",
       "    </tr>\n",
       "    <tr>\n",
       "        <td>STEVENSON RANCH</td>\n",
       "        <td>3.2665</td>\n",
       "    </tr>\n",
       "    <tr>\n",
       "        <td>STUDIO CITY</td>\n",
       "        <td>0.5268</td>\n",
       "    </tr>\n",
       "    <tr>\n",
       "        <td>SUNLAND</td>\n",
       "        <td>-0.1747</td>\n",
       "    </tr>\n",
       "    <tr>\n",
       "        <td>SUN VALLEY</td>\n",
       "        <td>-0.2079</td>\n",
       "    </tr>\n",
       "    <tr>\n",
       "        <td>SYLMAR</td>\n",
       "        <td>-0.1998</td>\n",
       "    </tr>\n",
       "    <tr>\n",
       "        <td>TARZANA</td>\n",
       "        <td>0.3720</td>\n",
       "    </tr>\n",
       "    <tr>\n",
       "        <td>TEMPLE CITY</td>\n",
       "        <td>1.6596</td>\n",
       "    </tr>\n",
       "    <tr>\n",
       "        <td>TERMINAL ISLAND</td>\n",
       "        <td>-5.1674</td>\n",
       "    </tr>\n",
       "    <tr>\n",
       "        <td>TOLUCA LAKE</td>\n",
       "        <td>2.1205</td>\n",
       "    </tr>\n",
       "    <tr>\n",
       "        <td>TOPANGA</td>\n",
       "        <td>-0.2526</td>\n",
       "    </tr>\n",
       "    <tr>\n",
       "        <td>TORRANCE</td>\n",
       "        <td>-0.5680</td>\n",
       "    </tr>\n",
       "    <tr>\n",
       "        <td>TUJUNGA</td>\n",
       "        <td>-0.3514</td>\n",
       "    </tr>\n",
       "    <tr>\n",
       "        <td>UNIVERSAL CITY</td>\n",
       "        <td>2.6176</td>\n",
       "    </tr>\n",
       "    <tr>\n",
       "        <td>VALENCIA</td>\n",
       "        <td>3.0107</td>\n",
       "    </tr>\n",
       "    <tr>\n",
       "        <td>VALLEY GLEN</td>\n",
       "        <td>1.6063</td>\n",
       "    </tr>\n",
       "    <tr>\n",
       "        <td>VALLEY VILLAGE</td>\n",
       "        <td>0.6089</td>\n",
       "    </tr>\n",
       "    <tr>\n",
       "        <td>VALYERMO</td>\n",
       "        <td>5.1715</td>\n",
       "    </tr>\n",
       "    <tr>\n",
       "        <td>VAN NUYS</td>\n",
       "        <td>0.2797</td>\n",
       "    </tr>\n",
       "    <tr>\n",
       "        <td>VENICE</td>\n",
       "        <td>-0.5183</td>\n",
       "    </tr>\n",
       "    <tr>\n",
       "        <td>VERNON</td>\n",
       "        <td>1.0716</td>\n",
       "    </tr>\n",
       "    <tr>\n",
       "        <td>WALNUT</td>\n",
       "        <td>-0.8016</td>\n",
       "    </tr>\n",
       "    <tr>\n",
       "        <td>WALNUT PARK</td>\n",
       "        <td>3.1438</td>\n",
       "    </tr>\n",
       "    <tr>\n",
       "        <td>WESTCHESTER</td>\n",
       "        <td>0.2077</td>\n",
       "    </tr>\n",
       "    <tr>\n",
       "        <td>WEST COVINA</td>\n",
       "        <td>-0.2533</td>\n",
       "    </tr>\n",
       "    <tr>\n",
       "        <td>WEST HILLS</td>\n",
       "        <td>1.3098</td>\n",
       "    </tr>\n",
       "    <tr>\n",
       "        <td>WEST HOLLYWOOD</td>\n",
       "        <td>-1.2654</td>\n",
       "    </tr>\n",
       "    <tr>\n",
       "        <td>WESTLAKE VILLAGE</td>\n",
       "        <td>2.4982</td>\n",
       "    </tr>\n",
       "    <tr>\n",
       "        <td>WEST LOS ANGELES</td>\n",
       "        <td>0.1803</td>\n",
       "    </tr>\n",
       "    <tr>\n",
       "        <td>WESTWOOD</td>\n",
       "        <td>-3.9196</td>\n",
       "    </tr>\n",
       "    <tr>\n",
       "        <td>WHITTIER</td>\n",
       "        <td>0.3432</td>\n",
       "    </tr>\n",
       "    <tr>\n",
       "        <td>WILMINGTON</td>\n",
       "        <td>-0.6608</td>\n",
       "    </tr>\n",
       "    <tr>\n",
       "        <td>WINNETKA</td>\n",
       "        <td>0.2940</td>\n",
       "    </tr>\n",
       "    <tr>\n",
       "        <td>WOODLAND HILLS</td>\n",
       "        <td>1.7653</td>\n",
       "    </tr>\n",
       "    <tr>\n",
       "        <td>WRIGHTWOOD</td>\n",
       "        <td>1.8440</td>\n",
       "    </tr>\n",
       "</table>"
      ],
      "text/plain": [
       "[('ACTON', Decimal('1.0434')),\n",
       " ('AGOURA', Decimal('4.8150')),\n",
       " ('AGOURA HILLS', Decimal('1.9925')),\n",
       " ('AGUA DULCE', Decimal('-0.6664')),\n",
       " ('ALHAMBRA', Decimal('-2.1111')),\n",
       " ('ALTADENA', Decimal('-0.1841')),\n",
       " ('ARCADIA', Decimal('0.9639')),\n",
       " ('ARLETA', Decimal('-0.0720')),\n",
       " ('ARTESIA', Decimal('1.0615')),\n",
       " ('AVALON', Decimal('-3.0817')),\n",
       " ('AZUSA', Decimal('0.7499')),\n",
       " ('BALDWIN PARK', Decimal('0.8733')),\n",
       " ('BELL', Decimal('0.1259')),\n",
       " ('BELLFLOWER', Decimal('-0.4522')),\n",
       " ('BELL GARDENS', Decimal('-0.4156')),\n",
       " ('BEVERLY HILLS', Decimal('-0.2261')),\n",
       " ('BURBANK', Decimal('1.4038')),\n",
       " ('CALABASAS', Decimal('1.2545')),\n",
       " ('CANOGA PARK', Decimal('0.4894')),\n",
       " ('CANYON COUNTRY', Decimal('2.7455')),\n",
       " ('CARSON', Decimal('-1.2968')),\n",
       " ('CASTAIC', Decimal('1.1117')),\n",
       " ('CENTURY CITY', Decimal('-0.9606')),\n",
       " ('CERRITOS', Decimal('-0.2989')),\n",
       " ('CHATSWORTH', Decimal('0.2933')),\n",
       " ('CITY OF INDUSTRY', Decimal('0.1479')),\n",
       " ('CLAREMONT', Decimal('2.4536')),\n",
       " ('COMMERCE', Decimal('0.0649')),\n",
       " ('COMPTON', Decimal('0.3536')),\n",
       " ('COVINA', Decimal('0.0750')),\n",
       " ('CUDAHY', Decimal('-0.6382')),\n",
       " ('CULVER CITY', Decimal('0.0368')),\n",
       " ('DIAMOND BAR', Decimal('-0.6430')),\n",
       " ('DOWNEY', Decimal('-0.3194')),\n",
       " ('DUARTE', Decimal('1.1515')),\n",
       " ('EAGLE ROCK', Decimal('-0.5327')),\n",
       " ('EAST LOS ANGELES', Decimal('2.9676')),\n",
       " ('EL MONTE', Decimal('0.6251')),\n",
       " ('EL SEGUNDO', Decimal('-0.3756')),\n",
       " ('EL SERENO', Decimal('3.7454')),\n",
       " ('ENCINO', Decimal('1.7246')),\n",
       " ('GARDENA', Decimal('-1.9809')),\n",
       " ('GLENDALE', Decimal('0.0493')),\n",
       " ('GLENDORA', Decimal('0.0034')),\n",
       " ('GORMAN', Decimal('-2.3427')),\n",
       " ('GRANADA HILLS', Decimal('1.4115')),\n",
       " ('GREEN VALLEY', Decimal('3.5315')),\n",
       " ('HACIENDA HEIGHTS', Decimal('-0.5257')),\n",
       " ('HARBOR CITY', Decimal('0.8951')),\n",
       " ('HAWAIIAN GARDENS', Decimal('-1.0067')),\n",
       " ('HAWTHORNE', Decimal('-0.1945')),\n",
       " ('HERMOSA BEACH', Decimal('-1.5965')),\n",
       " ('HOLLYWOOD', Decimal('0.9401')),\n",
       " ('HUNTINGTON PARK', Decimal('-0.8147')),\n",
       " ('INDUSTRY', Decimal('-0.3522')),\n",
       " ('INGLEWOOD', Decimal('-0.1932')),\n",
       " ('IRWINDALE', Decimal('2.0154')),\n",
       " ('LA CANADA FLINTRIDGE', Decimal('1.0862')),\n",
       " ('LA CRESCENTA', Decimal('-0.1873')),\n",
       " ('LA HABRA', Decimal('2.1411')),\n",
       " ('LAKE BALBOA', Decimal('0.5368')),\n",
       " ('LAKE HUGHES', Decimal('-0.0574')),\n",
       " ('LAKEVIEW TERRACE', Decimal('-1.3884')),\n",
       " ('LAKEWOOD', Decimal('0.1112')),\n",
       " ('LA MIRADA', Decimal('-1.5163')),\n",
       " ('LANCASTER', Decimal('-0.4277')),\n",
       " ('LA PUENTE', Decimal('0.4244')),\n",
       " ('LA VERNE', Decimal('-0.1748')),\n",
       " ('LAWNDALE', Decimal('-2.2863')),\n",
       " ('LEBEC', Decimal('-2.0607')),\n",
       " ('LENNOX', Decimal('-6.9500')),\n",
       " ('LEONA VALLEY', Decimal('-6.5489')),\n",
       " ('LINCOLN HEIGHTS', Decimal('-0.1762')),\n",
       " ('LITTLEROCK', Decimal('-0.2158')),\n",
       " ('LLANO', Decimal('1.7846')),\n",
       " ('LOMITA', Decimal('0.0760')),\n",
       " ('LONG BEACH', Decimal('-1.1745')),\n",
       " ('LOS ANGELES', Decimal('-0.4767')),\n",
       " ('LYNWOOD', Decimal('1.2428')),\n",
       " ('MALIBU', Decimal('1.2364')),\n",
       " ('MANHATTAN BEACH', Decimal('0.5637')),\n",
       " ('MARINA DEL REY', Decimal('-0.3957')),\n",
       " ('MAYWOOD', Decimal('0.7633')),\n",
       " ('MISSION HILLS', Decimal('-0.1088')),\n",
       " ('MONROVIA', Decimal('1.3263')),\n",
       " ('MONTEBELLO', Decimal('0.9709')),\n",
       " ('MONTEREY PARK', Decimal('-3.9338')),\n",
       " ('MONTROSE', Decimal('-0.1469')),\n",
       " ('MT. WILSON', Decimal('5.5280')),\n",
       " ('NEWHALL', Decimal('3.2189')),\n",
       " ('NORTH HILLS', Decimal('-0.2160')),\n",
       " ('NORTH HOLLYWOOD', Decimal('-0.0295')),\n",
       " ('NORTHRIDGE', Decimal('0.7938')),\n",
       " ('NORTHRISGE', Decimal('2.3194')),\n",
       " ('NORWALK', Decimal('-0.6234')),\n",
       " ('PACIFIC PALISADES', Decimal('1.6992')),\n",
       " ('PACOIMA', Decimal('-0.7155')),\n",
       " ('PALMDALE', Decimal('0.8945')),\n",
       " ('PALOS VERDES ESTATES', Decimal('-1.0264')),\n",
       " ('PALOS VERDES PENINSULA', Decimal('0.2424')),\n",
       " ('PANORAMA CITY', Decimal('-0.1937')),\n",
       " ('PARAMOUNT', Decimal('0.9081')),\n",
       " ('PASADENA', Decimal('1.5552')),\n",
       " ('PEARBLOSSOM', Decimal('1.6063')),\n",
       " ('PICO RIVERA', Decimal('0.9208')),\n",
       " ('PLAYA DEL REY', Decimal('-0.3050')),\n",
       " ('PLAYA VISTA', Decimal('-1.4213')),\n",
       " ('POMONA', Decimal('0.5413')),\n",
       " ('PORTER RANCH', Decimal('0.4031')),\n",
       " ('QUARTZ HILL', Decimal('-0.0744')),\n",
       " ('RANCHO DOMINGUEZ', Decimal('-0.8647')),\n",
       " ('RANCHO PALOS VERDES', Decimal('-0.5129')),\n",
       " ('REDONDO BEACH', Decimal('0.2282')),\n",
       " ('RESEDA', Decimal('0.3708')),\n",
       " ('ROLLING HILLS', Decimal('2.6759')),\n",
       " ('ROLLING HILLS ESTATES', Decimal('0.0111')),\n",
       " ('ROSEMEAD', Decimal('0.3219')),\n",
       " ('ROWLAND HEIGHTS', Decimal('-1.8224')),\n",
       " ('SAN DIMAS', Decimal('1.5297')),\n",
       " ('SAN FERNANDO', Decimal('-0.5851')),\n",
       " ('SAN GABRIEL', Decimal('-0.4648')),\n",
       " ('SAN MARINO', Decimal('-0.6677')),\n",
       " ('SAN PEDRO', Decimal('-1.1901')),\n",
       " ('SANTA CLARITA', Decimal('2.2047')),\n",
       " ('SANTA FE SPRINGS', Decimal('0.6682')),\n",
       " ('SANTA MONICA', Decimal('0.6886')),\n",
       " ('SAUGUS', Decimal('-0.1126')),\n",
       " ('SEPULVEDA', Decimal('-0.3800')),\n",
       " ('SHADOW HILLS', Decimal('2.6759')),\n",
       " ('SHERMAN OAKS', Decimal('0.1312')),\n",
       " ('SIERRA MADRE', Decimal('1.0992')),\n",
       " ('SIGNAL HILL', Decimal('-1.6642')),\n",
       " ('SOUTH EL MONTE', Decimal('-0.3766')),\n",
       " ('SOUTH GATE', Decimal('1.4035')),\n",
       " ('SOUTH PASADENA', Decimal('1.0146')),\n",
       " ('STEVENSON RANCH', Decimal('3.2665')),\n",
       " ('STUDIO CITY', Decimal('0.5268')),\n",
       " ('SUNLAND', Decimal('-0.1747')),\n",
       " ('SUN VALLEY', Decimal('-0.2079')),\n",
       " ('SYLMAR', Decimal('-0.1998')),\n",
       " ('TARZANA', Decimal('0.3720')),\n",
       " ('TEMPLE CITY', Decimal('1.6596')),\n",
       " ('TERMINAL ISLAND', Decimal('-5.1674')),\n",
       " ('TOLUCA LAKE', Decimal('2.1205')),\n",
       " ('TOPANGA', Decimal('-0.2526')),\n",
       " ('TORRANCE', Decimal('-0.5680')),\n",
       " ('TUJUNGA', Decimal('-0.3514')),\n",
       " ('UNIVERSAL CITY', Decimal('2.6176')),\n",
       " ('VALENCIA', Decimal('3.0107')),\n",
       " ('VALLEY GLEN', Decimal('1.6063')),\n",
       " ('VALLEY VILLAGE', Decimal('0.6089')),\n",
       " ('VALYERMO', Decimal('5.1715')),\n",
       " ('VAN NUYS', Decimal('0.2797')),\n",
       " ('VENICE', Decimal('-0.5183')),\n",
       " ('VERNON', Decimal('1.0716')),\n",
       " ('WALNUT', Decimal('-0.8016')),\n",
       " ('WALNUT PARK', Decimal('3.1438')),\n",
       " ('WESTCHESTER', Decimal('0.2077')),\n",
       " ('WEST COVINA', Decimal('-0.2533')),\n",
       " ('WEST HILLS', Decimal('1.3098')),\n",
       " ('WEST HOLLYWOOD', Decimal('-1.2654')),\n",
       " ('WESTLAKE VILLAGE', Decimal('2.4982')),\n",
       " ('WEST LOS ANGELES', Decimal('0.1803')),\n",
       " ('WESTWOOD', Decimal('-3.9196')),\n",
       " ('WHITTIER', Decimal('0.3432')),\n",
       " ('WILMINGTON', Decimal('-0.6608')),\n",
       " ('WINNETKA', Decimal('0.2940')),\n",
       " ('WOODLAND HILLS', Decimal('1.7653')),\n",
       " ('WRIGHTWOOD', Decimal('1.8440'))]"
      ]
     },
     "execution_count": 109,
     "metadata": {},
     "output_type": "execute_result"
    }
   ],
   "source": [
    "%%sql\n",
    "SELECT DISTINCT business.city, ROUND(((AVG(inspections_facts.avg_score)-(SELECT AVG(inspections_facts.avg_score) FROM inspections_facts))/ (SELECT AVG(inspections_facts.avg_score) FROM inspections_facts))*100,4) AS DIFF_Average_Score\n",
    "FROM inspections_facts\n",
    "JOIN business\n",
    "ON inspections_facts.business_key = business.business_key\n",
    "WHERE business.city IS NOT NULL\n",
    "GROUP BY business.city"
   ]
  },
  {
   "cell_type": "markdown",
   "metadata": {},
   "source": [
    "The cell above shows how far the average score of each city is away from the average score of LA county in terms of percentage, which is (city average - county average) x 100%/county average. The cells below show the top5 cities that exceed most and fall behind most compared with county average."
   ]
  },
  {
   "cell_type": "markdown",
   "metadata": {},
   "source": [
    "**the best 5 city**"
   ]
  },
  {
   "cell_type": "code",
   "execution_count": null,
   "metadata": {
    "collapsed": true
   },
   "outputs": [],
   "source": [
    "%%sql\n",
    "SELECT DISTINCT business.city, ROUND(((AVG(inspections_facts.avg_score)-(SELECT AVG(inspections_facts.avg_score) FROM inspections_facts))/ (SELECT AVG(inspections_facts.avg_score) FROM inspections_facts))*100,4) AS DIFF_Average_Score\n",
    "FROM inspections_facts\n",
    "JOIN business\n",
    "ON inspections_facts.business_key = business.business_key\n",
    "WHERE business.city IS NOT NULL\n",
    "GROUP BY business.city\n",
    "ORDER BY DIFF_average_score DESC\n",
    "LIMIT 5"
   ]
  },
  {
   "cell_type": "markdown",
   "metadata": {},
   "source": [
    "**the worst 5**"
   ]
  },
  {
   "cell_type": "code",
   "execution_count": null,
   "metadata": {
    "collapsed": true
   },
   "outputs": [],
   "source": [
    "%%sql\n",
    "SELECT DISTINCT business.city, ROUND(((AVG(inspections_facts.avg_score)-(SELECT AVG(inspections_facts.avg_score) FROM inspections_facts))/ (SELECT AVG(inspections_facts.avg_score) FROM inspections_facts))*100,4) AS DIFF_Average_Score\n",
    "FROM inspections_facts\n",
    "JOIN business\n",
    "ON inspections_facts.business_key = business.business_key\n",
    "WHERE business.city IS NOT NULL\n",
    "GROUP BY business.city\n",
    "ORDER BY DIFF_average_score ASC\n",
    "LIMIT 5"
   ]
  },
  {
   "cell_type": "markdown",
   "metadata": {},
   "source": [
    "Instead of looking at the difference between the city average and county average, we found using percentage could make the number easy to read and classify. Mt.Wilson exceed the average for 5.5%. It is a small town with small population near the San Gabriel wilderess and forest. In contrast, Lennox, a place located in southwest LA county, falls behind the average for 6.9%."
   ]
  },
  {
   "cell_type": "markdown",
   "metadata": {},
   "source": [
    "**Grade**"
   ]
  },
  {
   "cell_type": "markdown",
   "metadata": {},
   "source": [
    "All years"
   ]
  },
  {
   "cell_type": "code",
   "execution_count": null,
   "metadata": {
    "collapsed": true
   },
   "outputs": [],
   "source": [
    "%%sql\n",
    "SELECT SUM(CASE WHEN grade = 'A' THEN 1 ELSE 0 END) AS A_COUNT,\n",
    "    SUM(CASE WHEN grade = 'B' THEN 1 ELSE 0 END) AS B_COUNT,\n",
    "    SUM(CASE WHEN grade = 'C' THEN 1 ELSE 0 END) AS C_COUNT,\n",
    "    SUM(CASE WHEN grade = 'F' THEN 1 ELSE 0 END) AS F_COUNT,\n",
    "    COUNT(*) AS TOTAL\n",
    "FROM inspections_facts"
   ]
  },
  {
   "cell_type": "markdown",
   "metadata": {},
   "source": [
    "year 2015"
   ]
  },
  {
   "cell_type": "code",
   "execution_count": null,
   "metadata": {
    "collapsed": true
   },
   "outputs": [],
   "source": [
    "%%sql\n",
    "SELECT SUM(CASE WHEN grade = 'A' THEN 1 ELSE 0 END) AS A_2015,\n",
    "    SUM(CASE WHEN grade = 'B' THEN 1 ELSE 0 END) AS B_2015,\n",
    "    SUM(CASE WHEN grade = 'C' THEN 1 ELSE 0 END) AS C_2015,\n",
    "    SUM(CASE WHEN grade = 'F' THEN 1 ELSE 0 END) AS F_2015,\n",
    "    COUNT(*) AS TOTAL_2015\n",
    "FROM inspections_facts\n",
    "JOIN date\n",
    "on date.key = inspections_facts.date_key\n",
    "WHERE date.day<'2016-01-01'"
   ]
  },
  {
   "cell_type": "code",
   "execution_count": 127,
   "metadata": {},
   "outputs": [
    {
     "data": {
      "image/png": "[encoded data removed]",
      "text/plain": [
       "<IPython.core.display.Image object>"
      ]
     },
     "execution_count": 127,
     "metadata": {},
     "output_type": "execute_result"
    }
   ],
   "source": [
    "from IPython.display import Image\n",
    "Image(\"2015.png\")"
   ]
  },
  {
   "cell_type": "markdown",
   "metadata": {},
   "source": [
    "year 2016"
   ]
  },
  {
   "cell_type": "code",
   "execution_count": null,
   "metadata": {
    "collapsed": true
   },
   "outputs": [],
   "source": [
    "%%sql\n",
    "SELECT SUM(CASE WHEN grade = 'A' THEN 1 ELSE 0 END) AS A_2016,\n",
    "    SUM(CASE WHEN grade = 'B' THEN 1 ELSE 0 END) AS B_2016,\n",
    "    SUM(CASE WHEN grade = 'C' THEN 1 ELSE 0 END) AS C_2016,\n",
    "    SUM(CASE WHEN grade = 'F' THEN 1 ELSE 0 END) AS F_2016,\n",
    "    COUNT(*) AS TOTAL_2016\n",
    "FROM inspections_facts\n",
    "JOIN date\n",
    "on date.key = inspections_facts.date_key\n",
    "WHERE date.day<'2017-01-01'\n",
    "AND date.day>'2015-12-31'"
   ]
  },
  {
   "cell_type": "code",
   "execution_count": 126,
   "metadata": {},
   "outputs": [
    {
     "data": {
      "image/png": "[encoded data removed]",
      "text/plain": [
       "<IPython.core.display.Image object>"
      ]
     },
     "execution_count": 126,
     "metadata": {},
     "output_type": "execute_result"
    }
   ],
   "source": [
    "from IPython.display import Image\n",
    "Image(\"2016.png\")"
   ]
  },
  {
   "cell_type": "markdown",
   "metadata": {},
   "source": [
    "year 2017"
   ]
  },
  {
   "cell_type": "code",
   "execution_count": null,
   "metadata": {
    "collapsed": true
   },
   "outputs": [],
   "source": [
    "%%sql\n",
    "SELECT SUM(CASE WHEN grade = 'A' THEN 1 ELSE 0 END) AS A_2017,\n",
    "    SUM(CASE WHEN grade = 'B' THEN 1 ELSE 0 END) AS B_2017,\n",
    "    SUM(CASE WHEN grade = 'C' THEN 1 ELSE 0 END) AS C_2017,\n",
    "    SUM(CASE WHEN grade = 'F' THEN 1 ELSE 0 END) AS F_2017,\n",
    "    COUNT(*) AS TOTAL_2017\n",
    "FROM inspections_facts\n",
    "JOIN date\n",
    "on date.key = inspections_facts.date_key\n",
    "WHERE date.day<'2018-01-01'\n",
    "AND date.day>'2016-12-31'"
   ]
  },
  {
   "cell_type": "code",
   "execution_count": 125,
   "metadata": {},
   "outputs": [
    {
     "data": {
      "image/png": "[encoded data removed]",
      "text/plain": [
       "<IPython.core.display.Image object>"
      ]
     },
     "execution_count": 125,
     "metadata": {},
     "output_type": "execute_result"
    }
   ],
   "source": [
    "from IPython.display import Image\n",
    "Image(\"2017.png\")"
   ]
  },
  {
   "cell_type": "markdown",
   "metadata": {},
   "source": [
    "We could see from 2015 to 2017, the grade A rate rises from 94.2%(2015)to 95.3%(2016), and suddenly falls to 93.9%(2017). The grade B rate decreases from 5.4%(2015) to 4.5%(2016) and recovers to 5.4%(2017). The grade C rate declines from 0.29%(2015) to 0.17%(2016) and then suddenly increases to 0.57%(2017). For those who fail the inspection, the percentage drops from 0.011%(2015) to 0.007%(2016) and increases to 0.034%(2017). The curve of A is U shape and all other grades are reverse.\n",
    "\n",
    "In conclusion, the restaurants performance is the best in 2016 and faced a sudden drop at 2017 in all four grades. "
   ]
  },
  {
   "cell_type": "markdown",
   "metadata": {},
   "source": [
    "**Every month average change**"
   ]
  },
  {
   "cell_type": "code",
   "execution_count": null,
   "metadata": {
    "collapsed": true
   },
   "outputs": [],
   "source": [
    "%%sql\n",
    "SELECT date.year, date.month_of_year, ROUND(AVG (inspections_facts.avg_score),4) AS month_avg\n",
    "FROM inspections_facts\n",
    "JOIN date \n",
    "ON inspections_facts.date_key = date.key\n",
    "GROUP BY date.year, date.month_of_year\n",
    "ORDER BY date.year, date.month_of_year;"
   ]
  },
  {
   "cell_type": "code",
   "execution_count": 128,
   "metadata": {},
   "outputs": [
    {
     "data": {
      "image/png": "[encoded data removed]",
      "text/plain": [
       "<IPython.core.display.Image object>"
      ]
     },
     "execution_count": 128,
     "metadata": {},
     "output_type": "execute_result"
    }
   ],
   "source": [
    "from IPython.display import Image\n",
    "Image(\"fluctuation.png\")"
   ]
  },
  {
   "cell_type": "markdown",
   "metadata": {},
   "source": [
    "This fluctuation pattern is more straightforward to see from a line chart.\n",
    "\n",
    "Nearly all the data at 2016 is above or close to the average line. The score reached a peak at December 2017 and touched the bottom at August 2017. But the peak at December 2017 is meaningless because only first 6 days' data is in this dataset. So, we should consider December 2016 as the real peak. There is a great fluctuation in 2017's record and 2015's record, which has a less fierce shape. In total, score at 2016 is more stable and higher than that of 2015 and 2017."
   ]
  },
  {
   "cell_type": "markdown",
   "metadata": {},
   "source": [
    "### Q2:ABOUT VIOLATION"
   ]
  },
  {
   "cell_type": "markdown",
   "metadata": {},
   "source": [
    "**TOP 10 VIOLATION TYPES**"
   ]
  },
  {
   "cell_type": "code",
   "execution_count": 110,
   "metadata": {},
   "outputs": [
    {
     "name": "stdout",
     "output_type": "stream",
     "text": [
      "10 rows affected.\n"
     ]
    },
    {
     "data": {
      "text/html": [
       "<table>\n",
       "    <tr>\n",
       "        <th>code</th>\n",
       "        <th>description</th>\n",
       "        <th>count</th>\n",
       "    </tr>\n",
       "    <tr>\n",
       "        <td>F033</td>\n",
       "        <td>Standard Not Met: Nonfood-contact surfaces clean and in good repair</td>\n",
       "        <td>73689</td>\n",
       "    </tr>\n",
       "    <tr>\n",
       "        <td>F044</td>\n",
       "        <td>Standard Not Met: Floors, walls and ceilings: properly built, maintained in good repair and clean</td>\n",
       "        <td>73275</td>\n",
       "    </tr>\n",
       "    <tr>\n",
       "        <td>F035</td>\n",
       "        <td>Standard Not Met: Equipment/Utensils - approved; installed; clean; good repair, capacity</td>\n",
       "        <td>60793</td>\n",
       "    </tr>\n",
       "    <tr>\n",
       "        <td>F036</td>\n",
       "        <td>Standard Not Met: Equipment, utensils and linens: storage and use</td>\n",
       "        <td>39663</td>\n",
       "    </tr>\n",
       "    <tr>\n",
       "        <td>F037</td>\n",
       "        <td>Standard Not Met: Adequate ventilation and lighting; designated areas, use</td>\n",
       "        <td>37607</td>\n",
       "    </tr>\n",
       "    <tr>\n",
       "        <td>F040</td>\n",
       "        <td>Standard Not Met: Plumbing: Plumbing in good repair, proper backflow devices</td>\n",
       "        <td>37498</td>\n",
       "    </tr>\n",
       "    <tr>\n",
       "        <td>F007</td>\n",
       "        <td>Standard Not Met: Proper hot and cold holding temperatures</td>\n",
       "        <td>33242</td>\n",
       "    </tr>\n",
       "    <tr>\n",
       "        <td>F030</td>\n",
       "        <td>Standard Not Met: Food properly stored; food storage containers identified</td>\n",
       "        <td>29813</td>\n",
       "    </tr>\n",
       "    <tr>\n",
       "        <td>F043</td>\n",
       "        <td>Standard Not Met: Premises; personal/cleaning items; vermin-proofing</td>\n",
       "        <td>29470</td>\n",
       "    </tr>\n",
       "    <tr>\n",
       "        <td>F039</td>\n",
       "        <td>Standard Not Met: Wiping cloths: properly used and stored</td>\n",
       "        <td>29082</td>\n",
       "    </tr>\n",
       "</table>"
      ],
      "text/plain": [
       "[('F033', 'Standard Not Met: Nonfood-contact surfaces clean and in good repair', 73689),\n",
       " ('F044', 'Standard Not Met: Floors, walls and ceilings: properly built, maintained in good repair and clean', 73275),\n",
       " ('F035', 'Standard Not Met: Equipment/Utensils - approved; installed; clean; good repair, capacity', 60793),\n",
       " ('F036', 'Standard Not Met: Equipment, utensils and linens: storage and use', 39663),\n",
       " ('F037', 'Standard Not Met: Adequate ventilation and lighting; designated areas, use', 37607),\n",
       " ('F040', 'Standard Not Met: Plumbing: Plumbing in good repair, proper backflow devices', 37498),\n",
       " ('F007', 'Standard Not Met: Proper hot and cold holding temperatures', 33242),\n",
       " ('F030', 'Standard Not Met: Food properly stored; food storage containers identified', 29813),\n",
       " ('F043', 'Standard Not Met: Premises; personal/cleaning items; vermin-proofing', 29470),\n",
       " ('F039', 'Standard Not Met: Wiping cloths: properly used and stored', 29082)]"
      ]
     },
     "execution_count": 110,
     "metadata": {},
     "output_type": "execute_result"
    }
   ],
   "source": [
    "%%sql\n",
    "SELECT code, description, COUNT(*) count\n",
    "FROM violations\n",
    "JOIN violation_type \n",
    "ON violation_type.key = violations.violation_key\n",
    "GROUP BY code, description\n",
    "ORDER BY count DESC\n",
    "LIMIT 10;"
   ]
  },
  {
   "cell_type": "code",
   "execution_count": 129,
   "metadata": {},
   "outputs": [
    {
     "data": {
      "image/png": "[encoded data removed]",
      "text/plain": [
       "<IPython.core.display.Image object>"
      ]
     },
     "execution_count": 129,
     "metadata": {},
     "output_type": "execute_result"
    }
   ],
   "source": [
    "from IPython.display import Image\n",
    "Image(\"hist.png\")"
   ]
  },
  {
   "cell_type": "markdown",
   "metadata": {},
   "source": [
    "This is a general statistics of violation type. The most frequent being violated standard is 'Nonfood-contact surfaces clean and in good repair'. However, we want to dig deeper into whether the high count number is due to a fraction of restaurant constantly violate this or a common phenomenon."
   ]
  },
  {
   "cell_type": "code",
   "execution_count": 111,
   "metadata": {},
   "outputs": [
    {
     "name": "stdout",
     "output_type": "stream",
     "text": [
      "100 rows affected.\n"
     ]
    },
    {
     "data": {
      "text/html": [
       "<table>\n",
       "    <tr>\n",
       "        <th>business_key</th>\n",
       "        <th>name</th>\n",
       "        <th>day</th>\n",
       "        <th>inspection_key</th>\n",
       "        <th>violation_key</th>\n",
       "    </tr>\n",
       "    <tr>\n",
       "        <td>1</td>\n",
       "        <td>JOSYLN SENIOR CENTER</td>\n",
       "        <td>2016-12-21</td>\n",
       "        <td>92497</td>\n",
       "        <td>6</td>\n",
       "    </tr>\n",
       "    <tr>\n",
       "        <td>1</td>\n",
       "        <td>JOSYLN SENIOR CENTER</td>\n",
       "        <td>2016-12-21</td>\n",
       "        <td>92497</td>\n",
       "        <td>69</td>\n",
       "    </tr>\n",
       "    <tr>\n",
       "        <td>2</td>\n",
       "        <td>STARBUCKS COFFEE #9685</td>\n",
       "        <td>2016-01-06</td>\n",
       "        <td>71169</td>\n",
       "        <td>22</td>\n",
       "    </tr>\n",
       "    <tr>\n",
       "        <td>2</td>\n",
       "        <td>STARBUCKS COFFEE #9685</td>\n",
       "        <td>2016-01-06</td>\n",
       "        <td>71169</td>\n",
       "        <td>39</td>\n",
       "    </tr>\n",
       "    <tr>\n",
       "        <td>2</td>\n",
       "        <td>STARBUCKS COFFEE #9685</td>\n",
       "        <td>2017-01-18</td>\n",
       "        <td>109102</td>\n",
       "        <td>6</td>\n",
       "    </tr>\n",
       "    <tr>\n",
       "        <td>2</td>\n",
       "        <td>STARBUCKS COFFEE #9685</td>\n",
       "        <td>2017-01-18</td>\n",
       "        <td>109102</td>\n",
       "        <td>11</td>\n",
       "    </tr>\n",
       "    <tr>\n",
       "        <td>2</td>\n",
       "        <td>STARBUCKS COFFEE #9685</td>\n",
       "        <td>2017-01-18</td>\n",
       "        <td>109102</td>\n",
       "        <td>35</td>\n",
       "    </tr>\n",
       "    <tr>\n",
       "        <td>3</td>\n",
       "        <td>VFW POST NO. 6110</td>\n",
       "        <td>2015-09-10</td>\n",
       "        <td>86423</td>\n",
       "        <td>6</td>\n",
       "    </tr>\n",
       "    <tr>\n",
       "        <td>3</td>\n",
       "        <td>VFW POST NO. 6110</td>\n",
       "        <td>2015-09-10</td>\n",
       "        <td>86423</td>\n",
       "        <td>22</td>\n",
       "    </tr>\n",
       "    <tr>\n",
       "        <td>3</td>\n",
       "        <td>VFW POST NO. 6110</td>\n",
       "        <td>2015-09-10</td>\n",
       "        <td>86423</td>\n",
       "        <td>39</td>\n",
       "    </tr>\n",
       "    <tr>\n",
       "        <td>3</td>\n",
       "        <td>VFW POST NO. 6110</td>\n",
       "        <td>2015-09-10</td>\n",
       "        <td>86423</td>\n",
       "        <td>41</td>\n",
       "    </tr>\n",
       "    <tr>\n",
       "        <td>3</td>\n",
       "        <td>VFW POST NO. 6110</td>\n",
       "        <td>2015-09-10</td>\n",
       "        <td>86423</td>\n",
       "        <td>58</td>\n",
       "    </tr>\n",
       "    <tr>\n",
       "        <td>3</td>\n",
       "        <td>VFW POST NO. 6110</td>\n",
       "        <td>2015-09-10</td>\n",
       "        <td>86423</td>\n",
       "        <td>62</td>\n",
       "    </tr>\n",
       "    <tr>\n",
       "        <td>3</td>\n",
       "        <td>VFW POST NO. 6110</td>\n",
       "        <td>2015-09-10</td>\n",
       "        <td>86423</td>\n",
       "        <td>77</td>\n",
       "    </tr>\n",
       "    <tr>\n",
       "        <td>3</td>\n",
       "        <td>VFW POST NO. 6110</td>\n",
       "        <td>2017-03-06</td>\n",
       "        <td>76310</td>\n",
       "        <td>39</td>\n",
       "    </tr>\n",
       "    <tr>\n",
       "        <td>3</td>\n",
       "        <td>VFW POST NO. 6110</td>\n",
       "        <td>2017-03-06</td>\n",
       "        <td>76310</td>\n",
       "        <td>41</td>\n",
       "    </tr>\n",
       "    <tr>\n",
       "        <td>3</td>\n",
       "        <td>VFW POST NO. 6110</td>\n",
       "        <td>2017-03-06</td>\n",
       "        <td>76310</td>\n",
       "        <td>43</td>\n",
       "    </tr>\n",
       "    <tr>\n",
       "        <td>3</td>\n",
       "        <td>VFW POST NO. 6110</td>\n",
       "        <td>2017-03-06</td>\n",
       "        <td>76310</td>\n",
       "        <td>58</td>\n",
       "    </tr>\n",
       "    <tr>\n",
       "        <td>3</td>\n",
       "        <td>VFW POST NO. 6110</td>\n",
       "        <td>2017-03-06</td>\n",
       "        <td>76310</td>\n",
       "        <td>62</td>\n",
       "    </tr>\n",
       "    <tr>\n",
       "        <td>4</td>\n",
       "        <td>STABUCKS @ VONS #2066</td>\n",
       "        <td>2015-11-10</td>\n",
       "        <td>49104</td>\n",
       "        <td>35</td>\n",
       "    </tr>\n",
       "    <tr>\n",
       "        <td>4</td>\n",
       "        <td>STABUCKS @ VONS #2066</td>\n",
       "        <td>2015-11-10</td>\n",
       "        <td>49104</td>\n",
       "        <td>39</td>\n",
       "    </tr>\n",
       "    <tr>\n",
       "        <td>4</td>\n",
       "        <td>STABUCKS @ VONS #2066</td>\n",
       "        <td>2015-11-10</td>\n",
       "        <td>49104</td>\n",
       "        <td>58</td>\n",
       "    </tr>\n",
       "    <tr>\n",
       "        <td>4</td>\n",
       "        <td>STABUCKS @ VONS #2066</td>\n",
       "        <td>2016-11-07</td>\n",
       "        <td>115942</td>\n",
       "        <td>1</td>\n",
       "    </tr>\n",
       "    <tr>\n",
       "        <td>4</td>\n",
       "        <td>STABUCKS @ VONS #2066</td>\n",
       "        <td>2016-11-07</td>\n",
       "        <td>115942</td>\n",
       "        <td>22</td>\n",
       "    </tr>\n",
       "    <tr>\n",
       "        <td>4</td>\n",
       "        <td>STABUCKS @ VONS #2066</td>\n",
       "        <td>2016-11-07</td>\n",
       "        <td>115942</td>\n",
       "        <td>39</td>\n",
       "    </tr>\n",
       "    <tr>\n",
       "        <td>4</td>\n",
       "        <td>STABUCKS @ VONS #2066</td>\n",
       "        <td>2016-11-07</td>\n",
       "        <td>115942</td>\n",
       "        <td>54</td>\n",
       "    </tr>\n",
       "    <tr>\n",
       "        <td>5</td>\n",
       "        <td>COCOHODO TORRANCE</td>\n",
       "        <td>2016-05-16</td>\n",
       "        <td>45129</td>\n",
       "        <td>39</td>\n",
       "    </tr>\n",
       "    <tr>\n",
       "        <td>5</td>\n",
       "        <td>COCOHODO TORRANCE</td>\n",
       "        <td>2016-05-16</td>\n",
       "        <td>45129</td>\n",
       "        <td>54</td>\n",
       "    </tr>\n",
       "    <tr>\n",
       "        <td>5</td>\n",
       "        <td>COCOHODO TORRANCE</td>\n",
       "        <td>2016-05-16</td>\n",
       "        <td>45129</td>\n",
       "        <td>58</td>\n",
       "    </tr>\n",
       "    <tr>\n",
       "        <td>5</td>\n",
       "        <td>COCOHODO TORRANCE</td>\n",
       "        <td>2016-05-16</td>\n",
       "        <td>45129</td>\n",
       "        <td>66</td>\n",
       "    </tr>\n",
       "    <tr>\n",
       "        <td>5</td>\n",
       "        <td>COCOHODO TORRANCE</td>\n",
       "        <td>2017-07-07</td>\n",
       "        <td>60185</td>\n",
       "        <td>6</td>\n",
       "    </tr>\n",
       "    <tr>\n",
       "        <td>5</td>\n",
       "        <td>COCOHODO TORRANCE</td>\n",
       "        <td>2017-07-07</td>\n",
       "        <td>60185</td>\n",
       "        <td>22</td>\n",
       "    </tr>\n",
       "    <tr>\n",
       "        <td>5</td>\n",
       "        <td>COCOHODO TORRANCE</td>\n",
       "        <td>2017-07-07</td>\n",
       "        <td>60185</td>\n",
       "        <td>67</td>\n",
       "    </tr>\n",
       "    <tr>\n",
       "        <td>6</td>\n",
       "        <td>KING&#x27;S BAKERY</td>\n",
       "        <td>2015-07-14</td>\n",
       "        <td>7102</td>\n",
       "        <td>6</td>\n",
       "    </tr>\n",
       "    <tr>\n",
       "        <td>6</td>\n",
       "        <td>KING&#x27;S BAKERY</td>\n",
       "        <td>2015-07-14</td>\n",
       "        <td>7102</td>\n",
       "        <td>11</td>\n",
       "    </tr>\n",
       "    <tr>\n",
       "        <td>6</td>\n",
       "        <td>KING&#x27;S BAKERY</td>\n",
       "        <td>2015-07-14</td>\n",
       "        <td>7102</td>\n",
       "        <td>30</td>\n",
       "    </tr>\n",
       "    <tr>\n",
       "        <td>6</td>\n",
       "        <td>KING&#x27;S BAKERY</td>\n",
       "        <td>2015-07-14</td>\n",
       "        <td>7102</td>\n",
       "        <td>31</td>\n",
       "    </tr>\n",
       "    <tr>\n",
       "        <td>6</td>\n",
       "        <td>KING&#x27;S BAKERY</td>\n",
       "        <td>2015-07-14</td>\n",
       "        <td>7102</td>\n",
       "        <td>35</td>\n",
       "    </tr>\n",
       "    <tr>\n",
       "        <td>6</td>\n",
       "        <td>KING&#x27;S BAKERY</td>\n",
       "        <td>2015-07-14</td>\n",
       "        <td>7102</td>\n",
       "        <td>39</td>\n",
       "    </tr>\n",
       "    <tr>\n",
       "        <td>6</td>\n",
       "        <td>KING&#x27;S BAKERY</td>\n",
       "        <td>2015-07-14</td>\n",
       "        <td>7102</td>\n",
       "        <td>53</td>\n",
       "    </tr>\n",
       "    <tr>\n",
       "        <td>6</td>\n",
       "        <td>KING&#x27;S BAKERY</td>\n",
       "        <td>2015-07-14</td>\n",
       "        <td>7102</td>\n",
       "        <td>59</td>\n",
       "    </tr>\n",
       "    <tr>\n",
       "        <td>6</td>\n",
       "        <td>KING&#x27;S BAKERY</td>\n",
       "        <td>2017-03-30</td>\n",
       "        <td>128550</td>\n",
       "        <td>11</td>\n",
       "    </tr>\n",
       "    <tr>\n",
       "        <td>6</td>\n",
       "        <td>KING&#x27;S BAKERY</td>\n",
       "        <td>2017-03-30</td>\n",
       "        <td>128550</td>\n",
       "        <td>31</td>\n",
       "    </tr>\n",
       "    <tr>\n",
       "        <td>6</td>\n",
       "        <td>KING&#x27;S BAKERY</td>\n",
       "        <td>2017-03-30</td>\n",
       "        <td>128550</td>\n",
       "        <td>39</td>\n",
       "    </tr>\n",
       "    <tr>\n",
       "        <td>6</td>\n",
       "        <td>KING&#x27;S BAKERY</td>\n",
       "        <td>2017-03-30</td>\n",
       "        <td>128550</td>\n",
       "        <td>42</td>\n",
       "    </tr>\n",
       "    <tr>\n",
       "        <td>6</td>\n",
       "        <td>KING&#x27;S BAKERY</td>\n",
       "        <td>2017-03-30</td>\n",
       "        <td>128550</td>\n",
       "        <td>53</td>\n",
       "    </tr>\n",
       "    <tr>\n",
       "        <td>6</td>\n",
       "        <td>KING&#x27;S BAKERY</td>\n",
       "        <td>2017-03-30</td>\n",
       "        <td>128550</td>\n",
       "        <td>65</td>\n",
       "    </tr>\n",
       "    <tr>\n",
       "        <td>6</td>\n",
       "        <td>KING&#x27;S BAKERY</td>\n",
       "        <td>2017-11-29</td>\n",
       "        <td>84938</td>\n",
       "        <td>11</td>\n",
       "    </tr>\n",
       "    <tr>\n",
       "        <td>6</td>\n",
       "        <td>KING&#x27;S BAKERY</td>\n",
       "        <td>2017-11-29</td>\n",
       "        <td>84938</td>\n",
       "        <td>35</td>\n",
       "    </tr>\n",
       "    <tr>\n",
       "        <td>6</td>\n",
       "        <td>KING&#x27;S BAKERY</td>\n",
       "        <td>2017-11-29</td>\n",
       "        <td>84938</td>\n",
       "        <td>42</td>\n",
       "    </tr>\n",
       "    <tr>\n",
       "        <td>6</td>\n",
       "        <td>KING&#x27;S BAKERY</td>\n",
       "        <td>2017-11-29</td>\n",
       "        <td>84938</td>\n",
       "        <td>53</td>\n",
       "    </tr>\n",
       "    <tr>\n",
       "        <td>7</td>\n",
       "        <td>PAPA JOHN&#x27;S 2247</td>\n",
       "        <td>2016-04-04</td>\n",
       "        <td>137277</td>\n",
       "        <td>41</td>\n",
       "    </tr>\n",
       "    <tr>\n",
       "        <td>7</td>\n",
       "        <td>PAPA JOHN&#x27;S 2247</td>\n",
       "        <td>2016-04-04</td>\n",
       "        <td>137277</td>\n",
       "        <td>53</td>\n",
       "    </tr>\n",
       "    <tr>\n",
       "        <td>7</td>\n",
       "        <td>PAPA JOHN&#x27;S 2247</td>\n",
       "        <td>2016-04-04</td>\n",
       "        <td>137277</td>\n",
       "        <td>59</td>\n",
       "    </tr>\n",
       "    <tr>\n",
       "        <td>7</td>\n",
       "        <td>PAPA JOHN&#x27;S 2247</td>\n",
       "        <td>2016-12-16</td>\n",
       "        <td>120948</td>\n",
       "        <td>11</td>\n",
       "    </tr>\n",
       "    <tr>\n",
       "        <td>7</td>\n",
       "        <td>PAPA JOHN&#x27;S 2247</td>\n",
       "        <td>2016-12-16</td>\n",
       "        <td>120948</td>\n",
       "        <td>54</td>\n",
       "    </tr>\n",
       "    <tr>\n",
       "        <td>7</td>\n",
       "        <td>PAPA JOHN&#x27;S 2247</td>\n",
       "        <td>2016-12-16</td>\n",
       "        <td>120948</td>\n",
       "        <td>59</td>\n",
       "    </tr>\n",
       "    <tr>\n",
       "        <td>7</td>\n",
       "        <td>PAPA JOHN&#x27;S 2247</td>\n",
       "        <td>2016-12-16</td>\n",
       "        <td>120948</td>\n",
       "        <td>77</td>\n",
       "    </tr>\n",
       "    <tr>\n",
       "        <td>8</td>\n",
       "        <td>4 SEASONS HOTEL-THE BAR</td>\n",
       "        <td>2016-06-22</td>\n",
       "        <td>135703</td>\n",
       "        <td>39</td>\n",
       "    </tr>\n",
       "    <tr>\n",
       "        <td>8</td>\n",
       "        <td>4 SEASONS HOTEL-THE BAR</td>\n",
       "        <td>2016-06-22</td>\n",
       "        <td>135703</td>\n",
       "        <td>58</td>\n",
       "    </tr>\n",
       "    <tr>\n",
       "        <td>9</td>\n",
       "        <td>BENNYS 19TH HOLE SALOON</td>\n",
       "        <td>2016-06-30</td>\n",
       "        <td>57918</td>\n",
       "        <td>22</td>\n",
       "    </tr>\n",
       "    <tr>\n",
       "        <td>9</td>\n",
       "        <td>BENNYS 19TH HOLE SALOON</td>\n",
       "        <td>2016-06-30</td>\n",
       "        <td>57918</td>\n",
       "        <td>39</td>\n",
       "    </tr>\n",
       "    <tr>\n",
       "        <td>9</td>\n",
       "        <td>BENNYS 19TH HOLE SALOON</td>\n",
       "        <td>2016-06-30</td>\n",
       "        <td>57918</td>\n",
       "        <td>43</td>\n",
       "    </tr>\n",
       "    <tr>\n",
       "        <td>9</td>\n",
       "        <td>BENNYS 19TH HOLE SALOON</td>\n",
       "        <td>2016-06-30</td>\n",
       "        <td>57918</td>\n",
       "        <td>54</td>\n",
       "    </tr>\n",
       "    <tr>\n",
       "        <td>9</td>\n",
       "        <td>BENNYS 19TH HOLE SALOON</td>\n",
       "        <td>2016-06-30</td>\n",
       "        <td>57918</td>\n",
       "        <td>58</td>\n",
       "    </tr>\n",
       "    <tr>\n",
       "        <td>9</td>\n",
       "        <td>BENNYS 19TH HOLE SALOON</td>\n",
       "        <td>2016-06-30</td>\n",
       "        <td>57918</td>\n",
       "        <td>65</td>\n",
       "    </tr>\n",
       "    <tr>\n",
       "        <td>9</td>\n",
       "        <td>BENNYS 19TH HOLE SALOON</td>\n",
       "        <td>2016-06-30</td>\n",
       "        <td>57918</td>\n",
       "        <td>66</td>\n",
       "    </tr>\n",
       "    <tr>\n",
       "        <td>9</td>\n",
       "        <td>BENNYS 19TH HOLE SALOON</td>\n",
       "        <td>2017-05-16</td>\n",
       "        <td>8384</td>\n",
       "        <td>22</td>\n",
       "    </tr>\n",
       "    <tr>\n",
       "        <td>9</td>\n",
       "        <td>BENNYS 19TH HOLE SALOON</td>\n",
       "        <td>2017-05-16</td>\n",
       "        <td>8384</td>\n",
       "        <td>39</td>\n",
       "    </tr>\n",
       "    <tr>\n",
       "        <td>9</td>\n",
       "        <td>BENNYS 19TH HOLE SALOON</td>\n",
       "        <td>2017-05-16</td>\n",
       "        <td>8384</td>\n",
       "        <td>43</td>\n",
       "    </tr>\n",
       "    <tr>\n",
       "        <td>9</td>\n",
       "        <td>BENNYS 19TH HOLE SALOON</td>\n",
       "        <td>2017-05-16</td>\n",
       "        <td>8384</td>\n",
       "        <td>53</td>\n",
       "    </tr>\n",
       "    <tr>\n",
       "        <td>9</td>\n",
       "        <td>BENNYS 19TH HOLE SALOON</td>\n",
       "        <td>2017-05-16</td>\n",
       "        <td>8384</td>\n",
       "        <td>58</td>\n",
       "    </tr>\n",
       "    <tr>\n",
       "        <td>9</td>\n",
       "        <td>BENNYS 19TH HOLE SALOON</td>\n",
       "        <td>2017-05-16</td>\n",
       "        <td>8384</td>\n",
       "        <td>62</td>\n",
       "    </tr>\n",
       "    <tr>\n",
       "        <td>9</td>\n",
       "        <td>BENNYS 19TH HOLE SALOON</td>\n",
       "        <td>2017-05-16</td>\n",
       "        <td>8384</td>\n",
       "        <td>66</td>\n",
       "    </tr>\n",
       "    <tr>\n",
       "        <td>10</td>\n",
       "        <td>TERRACE CINEMAS 6</td>\n",
       "        <td>2016-04-29</td>\n",
       "        <td>97354</td>\n",
       "        <td>39</td>\n",
       "    </tr>\n",
       "    <tr>\n",
       "        <td>10</td>\n",
       "        <td>TERRACE CINEMAS 6</td>\n",
       "        <td>2016-04-29</td>\n",
       "        <td>97354</td>\n",
       "        <td>58</td>\n",
       "    </tr>\n",
       "    <tr>\n",
       "        <td>10</td>\n",
       "        <td>TERRACE CINEMAS 6</td>\n",
       "        <td>2016-04-29</td>\n",
       "        <td>97354</td>\n",
       "        <td>77</td>\n",
       "    </tr>\n",
       "    <tr>\n",
       "        <td>10</td>\n",
       "        <td>TERRACE CINEMAS 6</td>\n",
       "        <td>2017-07-14</td>\n",
       "        <td>37805</td>\n",
       "        <td>22</td>\n",
       "    </tr>\n",
       "    <tr>\n",
       "        <td>10</td>\n",
       "        <td>TERRACE CINEMAS 6</td>\n",
       "        <td>2017-07-14</td>\n",
       "        <td>37805</td>\n",
       "        <td>34</td>\n",
       "    </tr>\n",
       "    <tr>\n",
       "        <td>10</td>\n",
       "        <td>TERRACE CINEMAS 6</td>\n",
       "        <td>2017-07-14</td>\n",
       "        <td>37805</td>\n",
       "        <td>41</td>\n",
       "    </tr>\n",
       "    <tr>\n",
       "        <td>10</td>\n",
       "        <td>TERRACE CINEMAS 6</td>\n",
       "        <td>2017-07-14</td>\n",
       "        <td>37805</td>\n",
       "        <td>43</td>\n",
       "    </tr>\n",
       "    <tr>\n",
       "        <td>10</td>\n",
       "        <td>TERRACE CINEMAS 6</td>\n",
       "        <td>2017-07-14</td>\n",
       "        <td>37805</td>\n",
       "        <td>54</td>\n",
       "    </tr>\n",
       "    <tr>\n",
       "        <td>10</td>\n",
       "        <td>TERRACE CINEMAS 6</td>\n",
       "        <td>2017-07-14</td>\n",
       "        <td>37805</td>\n",
       "        <td>59</td>\n",
       "    </tr>\n",
       "    <tr>\n",
       "        <td>10</td>\n",
       "        <td>TERRACE CINEMAS 6</td>\n",
       "        <td>2017-07-14</td>\n",
       "        <td>37805</td>\n",
       "        <td>66</td>\n",
       "    </tr>\n",
       "    <tr>\n",
       "        <td>10</td>\n",
       "        <td>TERRACE CINEMAS 6</td>\n",
       "        <td>2017-07-14</td>\n",
       "        <td>37805</td>\n",
       "        <td>77</td>\n",
       "    </tr>\n",
       "    <tr>\n",
       "        <td>11</td>\n",
       "        <td>VONS-STARBUCKS #1638</td>\n",
       "        <td>2015-08-03</td>\n",
       "        <td>8300</td>\n",
       "        <td>35</td>\n",
       "    </tr>\n",
       "    <tr>\n",
       "        <td>12</td>\n",
       "        <td>BASKIN ROBBINS</td>\n",
       "        <td>2016-05-11</td>\n",
       "        <td>63877</td>\n",
       "        <td>6</td>\n",
       "    </tr>\n",
       "    <tr>\n",
       "        <td>12</td>\n",
       "        <td>BASKIN ROBBINS</td>\n",
       "        <td>2016-05-11</td>\n",
       "        <td>63877</td>\n",
       "        <td>34</td>\n",
       "    </tr>\n",
       "    <tr>\n",
       "        <td>12</td>\n",
       "        <td>BASKIN ROBBINS</td>\n",
       "        <td>2016-05-11</td>\n",
       "        <td>63877</td>\n",
       "        <td>37</td>\n",
       "    </tr>\n",
       "    <tr>\n",
       "        <td>12</td>\n",
       "        <td>BASKIN ROBBINS</td>\n",
       "        <td>2016-10-12</td>\n",
       "        <td>15444</td>\n",
       "        <td>43</td>\n",
       "    </tr>\n",
       "    <tr>\n",
       "        <td>12</td>\n",
       "        <td>BASKIN ROBBINS</td>\n",
       "        <td>2016-10-12</td>\n",
       "        <td>15444</td>\n",
       "        <td>58</td>\n",
       "    </tr>\n",
       "    <tr>\n",
       "        <td>12</td>\n",
       "        <td>BASKIN ROBBINS</td>\n",
       "        <td>2017-08-09</td>\n",
       "        <td>32885</td>\n",
       "        <td>6</td>\n",
       "    </tr>\n",
       "    <tr>\n",
       "        <td>12</td>\n",
       "        <td>BASKIN ROBBINS</td>\n",
       "        <td>2017-08-09</td>\n",
       "        <td>32885</td>\n",
       "        <td>41</td>\n",
       "    </tr>\n",
       "    <tr>\n",
       "        <td>12</td>\n",
       "        <td>BASKIN ROBBINS</td>\n",
       "        <td>2017-08-09</td>\n",
       "        <td>32885</td>\n",
       "        <td>58</td>\n",
       "    </tr>\n",
       "    <tr>\n",
       "        <td>13</td>\n",
       "        <td>STARBUCKS COFFEE #5348</td>\n",
       "        <td>2015-08-03</td>\n",
       "        <td>27183</td>\n",
       "        <td>35</td>\n",
       "    </tr>\n",
       "    <tr>\n",
       "        <td>13</td>\n",
       "        <td>STARBUCKS COFFEE #5348</td>\n",
       "        <td>2015-08-03</td>\n",
       "        <td>27183</td>\n",
       "        <td>58</td>\n",
       "    </tr>\n",
       "    <tr>\n",
       "        <td>13</td>\n",
       "        <td>STARBUCKS COFFEE #5348</td>\n",
       "        <td>2016-12-20</td>\n",
       "        <td>36071</td>\n",
       "        <td>6</td>\n",
       "    </tr>\n",
       "    <tr>\n",
       "        <td>13</td>\n",
       "        <td>STARBUCKS COFFEE #5348</td>\n",
       "        <td>2016-12-20</td>\n",
       "        <td>36071</td>\n",
       "        <td>22</td>\n",
       "    </tr>\n",
       "    <tr>\n",
       "        <td>13</td>\n",
       "        <td>STARBUCKS COFFEE #5348</td>\n",
       "        <td>2016-12-20</td>\n",
       "        <td>36071</td>\n",
       "        <td>35</td>\n",
       "    </tr>\n",
       "    <tr>\n",
       "        <td>13</td>\n",
       "        <td>STARBUCKS COFFEE #5348</td>\n",
       "        <td>2016-12-20</td>\n",
       "        <td>36071</td>\n",
       "        <td>58</td>\n",
       "    </tr>\n",
       "</table>"
      ],
      "text/plain": [
       "[(1, 'JOSYLN SENIOR CENTER', '2016-12-21', 92497, 6),\n",
       " (1, 'JOSYLN SENIOR CENTER', '2016-12-21', 92497, 69),\n",
       " (2, 'STARBUCKS COFFEE #9685', '2016-01-06', 71169, 22),\n",
       " (2, 'STARBUCKS COFFEE #9685', '2016-01-06', 71169, 39),\n",
       " (2, 'STARBUCKS COFFEE #9685', '2017-01-18', 109102, 6),\n",
       " (2, 'STARBUCKS COFFEE #9685', '2017-01-18', 109102, 11),\n",
       " (2, 'STARBUCKS COFFEE #9685', '2017-01-18', 109102, 35),\n",
       " (3, 'VFW POST NO. 6110', '2015-09-10', 86423, 6),\n",
       " (3, 'VFW POST NO. 6110', '2015-09-10', 86423, 22),\n",
       " (3, 'VFW POST NO. 6110', '2015-09-10', 86423, 39),\n",
       " (3, 'VFW POST NO. 6110', '2015-09-10', 86423, 41),\n",
       " (3, 'VFW POST NO. 6110', '2015-09-10', 86423, 58),\n",
       " (3, 'VFW POST NO. 6110', '2015-09-10', 86423, 62),\n",
       " (3, 'VFW POST NO. 6110', '2015-09-10', 86423, 77),\n",
       " (3, 'VFW POST NO. 6110', '2017-03-06', 76310, 39),\n",
       " (3, 'VFW POST NO. 6110', '2017-03-06', 76310, 41),\n",
       " (3, 'VFW POST NO. 6110', '2017-03-06', 76310, 43),\n",
       " (3, 'VFW POST NO. 6110', '2017-03-06', 76310, 58),\n",
       " (3, 'VFW POST NO. 6110', '2017-03-06', 76310, 62),\n",
       " (4, 'STABUCKS @ VONS #2066', '2015-11-10', 49104, 35),\n",
       " (4, 'STABUCKS @ VONS #2066', '2015-11-10', 49104, 39),\n",
       " (4, 'STABUCKS @ VONS #2066', '2015-11-10', 49104, 58),\n",
       " (4, 'STABUCKS @ VONS #2066', '2016-11-07', 115942, 1),\n",
       " (4, 'STABUCKS @ VONS #2066', '2016-11-07', 115942, 22),\n",
       " (4, 'STABUCKS @ VONS #2066', '2016-11-07', 115942, 39),\n",
       " (4, 'STABUCKS @ VONS #2066', '2016-11-07', 115942, 54),\n",
       " (5, 'COCOHODO TORRANCE', '2016-05-16', 45129, 39),\n",
       " (5, 'COCOHODO TORRANCE', '2016-05-16', 45129, 54),\n",
       " (5, 'COCOHODO TORRANCE', '2016-05-16', 45129, 58),\n",
       " (5, 'COCOHODO TORRANCE', '2016-05-16', 45129, 66),\n",
       " (5, 'COCOHODO TORRANCE', '2017-07-07', 60185, 6),\n",
       " (5, 'COCOHODO TORRANCE', '2017-07-07', 60185, 22),\n",
       " (5, 'COCOHODO TORRANCE', '2017-07-07', 60185, 67),\n",
       " (6, \"KING'S BAKERY\", '2015-07-14', 7102, 6),\n",
       " (6, \"KING'S BAKERY\", '2015-07-14', 7102, 11),\n",
       " (6, \"KING'S BAKERY\", '2015-07-14', 7102, 30),\n",
       " (6, \"KING'S BAKERY\", '2015-07-14', 7102, 31),\n",
       " (6, \"KING'S BAKERY\", '2015-07-14', 7102, 35),\n",
       " (6, \"KING'S BAKERY\", '2015-07-14', 7102, 39),\n",
       " (6, \"KING'S BAKERY\", '2015-07-14', 7102, 53),\n",
       " (6, \"KING'S BAKERY\", '2015-07-14', 7102, 59),\n",
       " (6, \"KING'S BAKERY\", '2017-03-30', 128550, 11),\n",
       " (6, \"KING'S BAKERY\", '2017-03-30', 128550, 31),\n",
       " (6, \"KING'S BAKERY\", '2017-03-30', 128550, 39),\n",
       " (6, \"KING'S BAKERY\", '2017-03-30', 128550, 42),\n",
       " (6, \"KING'S BAKERY\", '2017-03-30', 128550, 53),\n",
       " (6, \"KING'S BAKERY\", '2017-03-30', 128550, 65),\n",
       " (6, \"KING'S BAKERY\", '2017-11-29', 84938, 11),\n",
       " (6, \"KING'S BAKERY\", '2017-11-29', 84938, 35),\n",
       " (6, \"KING'S BAKERY\", '2017-11-29', 84938, 42),\n",
       " (6, \"KING'S BAKERY\", '2017-11-29', 84938, 53),\n",
       " (7, \"PAPA JOHN'S 2247\", '2016-04-04', 137277, 41),\n",
       " (7, \"PAPA JOHN'S 2247\", '2016-04-04', 137277, 53),\n",
       " (7, \"PAPA JOHN'S 2247\", '2016-04-04', 137277, 59),\n",
       " (7, \"PAPA JOHN'S 2247\", '2016-12-16', 120948, 11),\n",
       " (7, \"PAPA JOHN'S 2247\", '2016-12-16', 120948, 54),\n",
       " (7, \"PAPA JOHN'S 2247\", '2016-12-16', 120948, 59),\n",
       " (7, \"PAPA JOHN'S 2247\", '2016-12-16', 120948, 77),\n",
       " (8, '4 SEASONS HOTEL-THE BAR', '2016-06-22', 135703, 39),\n",
       " (8, '4 SEASONS HOTEL-THE BAR', '2016-06-22', 135703, 58),\n",
       " (9, 'BENNYS 19TH HOLE SALOON', '2016-06-30', 57918, 22),\n",
       " (9, 'BENNYS 19TH HOLE SALOON', '2016-06-30', 57918, 39),\n",
       " (9, 'BENNYS 19TH HOLE SALOON', '2016-06-30', 57918, 43),\n",
       " (9, 'BENNYS 19TH HOLE SALOON', '2016-06-30', 57918, 54),\n",
       " (9, 'BENNYS 19TH HOLE SALOON', '2016-06-30', 57918, 58),\n",
       " (9, 'BENNYS 19TH HOLE SALOON', '2016-06-30', 57918, 65),\n",
       " (9, 'BENNYS 19TH HOLE SALOON', '2016-06-30', 57918, 66),\n",
       " (9, 'BENNYS 19TH HOLE SALOON', '2017-05-16', 8384, 22),\n",
       " (9, 'BENNYS 19TH HOLE SALOON', '2017-05-16', 8384, 39),\n",
       " (9, 'BENNYS 19TH HOLE SALOON', '2017-05-16', 8384, 43),\n",
       " (9, 'BENNYS 19TH HOLE SALOON', '2017-05-16', 8384, 53),\n",
       " (9, 'BENNYS 19TH HOLE SALOON', '2017-05-16', 8384, 58),\n",
       " (9, 'BENNYS 19TH HOLE SALOON', '2017-05-16', 8384, 62),\n",
       " (9, 'BENNYS 19TH HOLE SALOON', '2017-05-16', 8384, 66),\n",
       " (10, 'TERRACE CINEMAS 6', '2016-04-29', 97354, 39),\n",
       " (10, 'TERRACE CINEMAS 6', '2016-04-29', 97354, 58),\n",
       " (10, 'TERRACE CINEMAS 6', '2016-04-29', 97354, 77),\n",
       " (10, 'TERRACE CINEMAS 6', '2017-07-14', 37805, 22),\n",
       " (10, 'TERRACE CINEMAS 6', '2017-07-14', 37805, 34),\n",
       " (10, 'TERRACE CINEMAS 6', '2017-07-14', 37805, 41),\n",
       " (10, 'TERRACE CINEMAS 6', '2017-07-14', 37805, 43),\n",
       " (10, 'TERRACE CINEMAS 6', '2017-07-14', 37805, 54),\n",
       " (10, 'TERRACE CINEMAS 6', '2017-07-14', 37805, 59),\n",
       " (10, 'TERRACE CINEMAS 6', '2017-07-14', 37805, 66),\n",
       " (10, 'TERRACE CINEMAS 6', '2017-07-14', 37805, 77),\n",
       " (11, 'VONS-STARBUCKS #1638', '2015-08-03', 8300, 35),\n",
       " (12, 'BASKIN ROBBINS', '2016-05-11', 63877, 6),\n",
       " (12, 'BASKIN ROBBINS', '2016-05-11', 63877, 34),\n",
       " (12, 'BASKIN ROBBINS', '2016-05-11', 63877, 37),\n",
       " (12, 'BASKIN ROBBINS', '2016-10-12', 15444, 43),\n",
       " (12, 'BASKIN ROBBINS', '2016-10-12', 15444, 58),\n",
       " (12, 'BASKIN ROBBINS', '2017-08-09', 32885, 6),\n",
       " (12, 'BASKIN ROBBINS', '2017-08-09', 32885, 41),\n",
       " (12, 'BASKIN ROBBINS', '2017-08-09', 32885, 58),\n",
       " (13, 'STARBUCKS COFFEE #5348', '2015-08-03', 27183, 35),\n",
       " (13, 'STARBUCKS COFFEE #5348', '2015-08-03', 27183, 58),\n",
       " (13, 'STARBUCKS COFFEE #5348', '2016-12-20', 36071, 6),\n",
       " (13, 'STARBUCKS COFFEE #5348', '2016-12-20', 36071, 22),\n",
       " (13, 'STARBUCKS COFFEE #5348', '2016-12-20', 36071, 35),\n",
       " (13, 'STARBUCKS COFFEE #5348', '2016-12-20', 36071, 58)]"
      ]
     },
     "execution_count": 111,
     "metadata": {},
     "output_type": "execute_result"
    }
   ],
   "source": [
    "%%sql\n",
    "SELECT business.business_key, business.name, date.day, violations.inspection_key, violations.violation_key\n",
    "FROM inspections_facts\n",
    "JOIN date\n",
    "ON date.key = inspections_facts.date_key\n",
    "JOIN business\n",
    "ON inspections_facts.business_key = business.business_key\n",
    "JOIN violations\n",
    "ON violations.inspection_key = inspections_facts.inspection_key\n",
    "ORDER BY business_key, day, violation_key\n",
    "LIMIT 100"
   ]
  },
  {
   "cell_type": "markdown",
   "metadata": {},
   "source": [
    "The cell above shows the violation types that each restaurant has ever violated. After roughly looking at the result, we notice that some violation types are quite common among different restaurants and some restaurants are found violating the same type continously. So we house the result above in a table called \"common\" to check these phenomenons in details."
   ]
  },
  {
   "cell_type": "code",
   "execution_count": 112,
   "metadata": {},
   "outputs": [
    {
     "name": "stdout",
     "output_type": "stream",
     "text": [
      "Done.\n",
      "Done.\n"
     ]
    },
    {
     "data": {
      "text/plain": [
       "[]"
      ]
     },
     "execution_count": 112,
     "metadata": {},
     "output_type": "execute_result"
    }
   ],
   "source": [
    "%%sql\n",
    "DROP TABLE IF EXISTS common;\n",
    "\n",
    "CREATE TABLE common(\n",
    "business_key INT NOT NULL,\n",
    "name VARCHAR(100),\n",
    "date VARCHAR(100),\n",
    "inspection_key INT,\n",
    "violation_key INT)"
   ]
  },
  {
   "cell_type": "code",
   "execution_count": 113,
   "metadata": {},
   "outputs": [
    {
     "name": "stdout",
     "output_type": "stream",
     "text": [
      "670410 rows affected.\n"
     ]
    },
    {
     "data": {
      "text/plain": [
       "[]"
      ]
     },
     "execution_count": 113,
     "metadata": {},
     "output_type": "execute_result"
    }
   ],
   "source": [
    "%%sql\n",
    "INSERT INTO common(business_key, name, date, inspection_key, violation_key)\n",
    "SELECT business.business_key, business.name, date.day, violations.inspection_key, violations.violation_key\n",
    "FROM inspections_facts\n",
    "JOIN date\n",
    "ON date.key = inspections_facts.date_key\n",
    "JOIN business\n",
    "ON inspections_facts.business_key = business.business_key\n",
    "JOIN violations\n",
    "ON violations.inspection_key = inspections_facts.inspection_key\n",
    "ORDER BY business_key, day, violation_key"
   ]
  },
  {
   "cell_type": "code",
   "execution_count": 114,
   "metadata": {},
   "outputs": [
    {
     "name": "stdout",
     "output_type": "stream",
     "text": [
      "10 rows affected.\n"
     ]
    },
    {
     "data": {
      "text/html": [
       "<table>\n",
       "    <tr>\n",
       "        <th>business_key</th>\n",
       "        <th>name</th>\n",
       "        <th>date</th>\n",
       "        <th>inspection_key</th>\n",
       "        <th>violation_key</th>\n",
       "    </tr>\n",
       "    <tr>\n",
       "        <td>1</td>\n",
       "        <td>JOSYLN SENIOR CENTER</td>\n",
       "        <td>2016-12-21</td>\n",
       "        <td>92497</td>\n",
       "        <td>6</td>\n",
       "    </tr>\n",
       "    <tr>\n",
       "        <td>1</td>\n",
       "        <td>JOSYLN SENIOR CENTER</td>\n",
       "        <td>2016-12-21</td>\n",
       "        <td>92497</td>\n",
       "        <td>69</td>\n",
       "    </tr>\n",
       "    <tr>\n",
       "        <td>2</td>\n",
       "        <td>STARBUCKS COFFEE #9685</td>\n",
       "        <td>2016-01-06</td>\n",
       "        <td>71169</td>\n",
       "        <td>22</td>\n",
       "    </tr>\n",
       "    <tr>\n",
       "        <td>2</td>\n",
       "        <td>STARBUCKS COFFEE #9685</td>\n",
       "        <td>2016-01-06</td>\n",
       "        <td>71169</td>\n",
       "        <td>39</td>\n",
       "    </tr>\n",
       "    <tr>\n",
       "        <td>2</td>\n",
       "        <td>STARBUCKS COFFEE #9685</td>\n",
       "        <td>2017-01-18</td>\n",
       "        <td>109102</td>\n",
       "        <td>6</td>\n",
       "    </tr>\n",
       "    <tr>\n",
       "        <td>2</td>\n",
       "        <td>STARBUCKS COFFEE #9685</td>\n",
       "        <td>2017-01-18</td>\n",
       "        <td>109102</td>\n",
       "        <td>11</td>\n",
       "    </tr>\n",
       "    <tr>\n",
       "        <td>2</td>\n",
       "        <td>STARBUCKS COFFEE #9685</td>\n",
       "        <td>2017-01-18</td>\n",
       "        <td>109102</td>\n",
       "        <td>35</td>\n",
       "    </tr>\n",
       "    <tr>\n",
       "        <td>3</td>\n",
       "        <td>VFW POST NO. 6110</td>\n",
       "        <td>2015-09-10</td>\n",
       "        <td>86423</td>\n",
       "        <td>6</td>\n",
       "    </tr>\n",
       "    <tr>\n",
       "        <td>3</td>\n",
       "        <td>VFW POST NO. 6110</td>\n",
       "        <td>2015-09-10</td>\n",
       "        <td>86423</td>\n",
       "        <td>22</td>\n",
       "    </tr>\n",
       "    <tr>\n",
       "        <td>3</td>\n",
       "        <td>VFW POST NO. 6110</td>\n",
       "        <td>2015-09-10</td>\n",
       "        <td>86423</td>\n",
       "        <td>39</td>\n",
       "    </tr>\n",
       "</table>"
      ],
      "text/plain": [
       "[(1, 'JOSYLN SENIOR CENTER', '2016-12-21', 92497, 6),\n",
       " (1, 'JOSYLN SENIOR CENTER', '2016-12-21', 92497, 69),\n",
       " (2, 'STARBUCKS COFFEE #9685', '2016-01-06', 71169, 22),\n",
       " (2, 'STARBUCKS COFFEE #9685', '2016-01-06', 71169, 39),\n",
       " (2, 'STARBUCKS COFFEE #9685', '2017-01-18', 109102, 6),\n",
       " (2, 'STARBUCKS COFFEE #9685', '2017-01-18', 109102, 11),\n",
       " (2, 'STARBUCKS COFFEE #9685', '2017-01-18', 109102, 35),\n",
       " (3, 'VFW POST NO. 6110', '2015-09-10', 86423, 6),\n",
       " (3, 'VFW POST NO. 6110', '2015-09-10', 86423, 22),\n",
       " (3, 'VFW POST NO. 6110', '2015-09-10', 86423, 39)]"
      ]
     },
     "execution_count": 114,
     "metadata": {},
     "output_type": "execute_result"
    }
   ],
   "source": [
    "%%sql\n",
    "SELECT * FROM common \n",
    "LIMIT 10"
   ]
  },
  {
   "cell_type": "markdown",
   "metadata": {},
   "source": [
    "The result below shows the top10 restaurants that keep violating one certain regulation for the most times. For example, the restaurant called KAISHIN MALIBU was inspected to have violated the no.69 violation type 10 times. And we notice that there are many restaurants keeping violating the violation_key 58 and 39, so these types might be the most prevalent ones."
   ]
  },
  {
   "cell_type": "code",
   "execution_count": 115,
   "metadata": {},
   "outputs": [
    {
     "name": "stdout",
     "output_type": "stream",
     "text": [
      "50 rows affected.\n"
     ]
    },
    {
     "data": {
      "text/html": [
       "<table>\n",
       "    <tr>\n",
       "        <th>business_key</th>\n",
       "        <th>name</th>\n",
       "        <th>violation_key</th>\n",
       "        <th>count</th>\n",
       "    </tr>\n",
       "    <tr>\n",
       "        <td>17707</td>\n",
       "        <td>KAISHIN MALIBU</td>\n",
       "        <td>69</td>\n",
       "        <td>10</td>\n",
       "    </tr>\n",
       "    <tr>\n",
       "        <td>25630</td>\n",
       "        <td>BAJA CALIFORNIA BAR AND GRILL</td>\n",
       "        <td>58</td>\n",
       "        <td>10</td>\n",
       "    </tr>\n",
       "    <tr>\n",
       "        <td>18652</td>\n",
       "        <td>TACOS CHIHUAHUA</td>\n",
       "        <td>58</td>\n",
       "        <td>10</td>\n",
       "    </tr>\n",
       "    <tr>\n",
       "        <td>25693</td>\n",
       "        <td>EL COMPADRE RESTAURANT</td>\n",
       "        <td>39</td>\n",
       "        <td>10</td>\n",
       "    </tr>\n",
       "    <tr>\n",
       "        <td>27953</td>\n",
       "        <td>STADIUM CLUB</td>\n",
       "        <td>39</td>\n",
       "        <td>10</td>\n",
       "    </tr>\n",
       "    <tr>\n",
       "        <td>25630</td>\n",
       "        <td>BAJA CALIFORNIA BAR AND GRILL</td>\n",
       "        <td>6</td>\n",
       "        <td>10</td>\n",
       "    </tr>\n",
       "    <tr>\n",
       "        <td>12165</td>\n",
       "        <td>A &amp; A CHINESE FOOD</td>\n",
       "        <td>58</td>\n",
       "        <td>9</td>\n",
       "    </tr>\n",
       "    <tr>\n",
       "        <td>25210</td>\n",
       "        <td>RACHANDA THAI CUISINE</td>\n",
       "        <td>58</td>\n",
       "        <td>9</td>\n",
       "    </tr>\n",
       "    <tr>\n",
       "        <td>25526</td>\n",
       "        <td>PING PONG CHINESE CUISINE</td>\n",
       "        <td>58</td>\n",
       "        <td>9</td>\n",
       "    </tr>\n",
       "    <tr>\n",
       "        <td>19232</td>\n",
       "        <td>PEPPONE</td>\n",
       "        <td>58</td>\n",
       "        <td>9</td>\n",
       "    </tr>\n",
       "    <tr>\n",
       "        <td>23815</td>\n",
       "        <td>OCTOPUS</td>\n",
       "        <td>58</td>\n",
       "        <td>9</td>\n",
       "    </tr>\n",
       "    <tr>\n",
       "        <td>17460</td>\n",
       "        <td>THE LOFT HAWAIIAN RESTAURANT</td>\n",
       "        <td>58</td>\n",
       "        <td>9</td>\n",
       "    </tr>\n",
       "    <tr>\n",
       "        <td>27258</td>\n",
       "        <td>HOOTERS RESTAURANTS</td>\n",
       "        <td>58</td>\n",
       "        <td>9</td>\n",
       "    </tr>\n",
       "    <tr>\n",
       "        <td>27771</td>\n",
       "        <td>SADDLE RANCH CHOP HOUSE</td>\n",
       "        <td>58</td>\n",
       "        <td>9</td>\n",
       "    </tr>\n",
       "    <tr>\n",
       "        <td>28414</td>\n",
       "        <td>MOO BBQ</td>\n",
       "        <td>58</td>\n",
       "        <td>9</td>\n",
       "    </tr>\n",
       "    <tr>\n",
       "        <td>12939</td>\n",
       "        <td>NEW CHINATOWN EXPRESS</td>\n",
       "        <td>58</td>\n",
       "        <td>9</td>\n",
       "    </tr>\n",
       "    <tr>\n",
       "        <td>18479</td>\n",
       "        <td>MIDORI 4</td>\n",
       "        <td>58</td>\n",
       "        <td>9</td>\n",
       "    </tr>\n",
       "    <tr>\n",
       "        <td>27776</td>\n",
       "        <td>GRAND BUFFET</td>\n",
       "        <td>58</td>\n",
       "        <td>9</td>\n",
       "    </tr>\n",
       "    <tr>\n",
       "        <td>23736</td>\n",
       "        <td>GYU-KAKU</td>\n",
       "        <td>58</td>\n",
       "        <td>9</td>\n",
       "    </tr>\n",
       "    <tr>\n",
       "        <td>19621</td>\n",
       "        <td>LARDER AT TAVERN</td>\n",
       "        <td>58</td>\n",
       "        <td>9</td>\n",
       "    </tr>\n",
       "    <tr>\n",
       "        <td>16783</td>\n",
       "        <td>CRISPY PORK GANG &amp; GRILL</td>\n",
       "        <td>58</td>\n",
       "        <td>9</td>\n",
       "    </tr>\n",
       "    <tr>\n",
       "        <td>12984</td>\n",
       "        <td>HAWAIIAN BBQ HOUSE</td>\n",
       "        <td>58</td>\n",
       "        <td>9</td>\n",
       "    </tr>\n",
       "    <tr>\n",
       "        <td>28257</td>\n",
       "        <td>PARAMOUNT COMMISSARY</td>\n",
       "        <td>58</td>\n",
       "        <td>9</td>\n",
       "    </tr>\n",
       "    <tr>\n",
       "        <td>19217</td>\n",
       "        <td>MAMITA RESTAURANT</td>\n",
       "        <td>58</td>\n",
       "        <td>9</td>\n",
       "    </tr>\n",
       "    <tr>\n",
       "        <td>25147</td>\n",
       "        <td>GERRY&#x27;S GRILL</td>\n",
       "        <td>58</td>\n",
       "        <td>9</td>\n",
       "    </tr>\n",
       "    <tr>\n",
       "        <td>25927</td>\n",
       "        <td>ROSEWOOD&#x27;S RESTAURANT</td>\n",
       "        <td>58</td>\n",
       "        <td>9</td>\n",
       "    </tr>\n",
       "    <tr>\n",
       "        <td>28300</td>\n",
       "        <td>RECITAL</td>\n",
       "        <td>58</td>\n",
       "        <td>9</td>\n",
       "    </tr>\n",
       "    <tr>\n",
       "        <td>23707</td>\n",
       "        <td>ARTE CAFE</td>\n",
       "        <td>58</td>\n",
       "        <td>9</td>\n",
       "    </tr>\n",
       "    <tr>\n",
       "        <td>18295</td>\n",
       "        <td>FRANKIES ITALIAN KITCHEN</td>\n",
       "        <td>58</td>\n",
       "        <td>9</td>\n",
       "    </tr>\n",
       "    <tr>\n",
       "        <td>20079</td>\n",
       "        <td>GREEN VILLAGE CHINESE CUISINE</td>\n",
       "        <td>58</td>\n",
       "        <td>9</td>\n",
       "    </tr>\n",
       "    <tr>\n",
       "        <td>25601</td>\n",
       "        <td>CACHANILLA, INC.</td>\n",
       "        <td>54</td>\n",
       "        <td>9</td>\n",
       "    </tr>\n",
       "    <tr>\n",
       "        <td>10236</td>\n",
       "        <td>TAQUERIA LA FONDA</td>\n",
       "        <td>53</td>\n",
       "        <td>9</td>\n",
       "    </tr>\n",
       "    <tr>\n",
       "        <td>20079</td>\n",
       "        <td>GREEN VILLAGE CHINESE CUISINE</td>\n",
       "        <td>42</td>\n",
       "        <td>9</td>\n",
       "    </tr>\n",
       "    <tr>\n",
       "        <td>18423</td>\n",
       "        <td>TUK TUK THAI RESTAURANT</td>\n",
       "        <td>39</td>\n",
       "        <td>9</td>\n",
       "    </tr>\n",
       "    <tr>\n",
       "        <td>10236</td>\n",
       "        <td>TAQUERIA LA FONDA</td>\n",
       "        <td>39</td>\n",
       "        <td>9</td>\n",
       "    </tr>\n",
       "    <tr>\n",
       "        <td>17873</td>\n",
       "        <td>SAKE SAKE</td>\n",
       "        <td>39</td>\n",
       "        <td>9</td>\n",
       "    </tr>\n",
       "    <tr>\n",
       "        <td>17046</td>\n",
       "        <td>OLIVA TRATTORIA</td>\n",
       "        <td>39</td>\n",
       "        <td>9</td>\n",
       "    </tr>\n",
       "    <tr>\n",
       "        <td>24974</td>\n",
       "        <td>EL POLLO LOCO #5922</td>\n",
       "        <td>39</td>\n",
       "        <td>9</td>\n",
       "    </tr>\n",
       "    <tr>\n",
       "        <td>25466</td>\n",
       "        <td>GREAT WALL CHINESE RESTAURANT</td>\n",
       "        <td>39</td>\n",
       "        <td>9</td>\n",
       "    </tr>\n",
       "    <tr>\n",
       "        <td>18664</td>\n",
       "        <td>SUSHI PLUS</td>\n",
       "        <td>39</td>\n",
       "        <td>9</td>\n",
       "    </tr>\n",
       "    <tr>\n",
       "        <td>12984</td>\n",
       "        <td>HAWAIIAN BBQ HOUSE</td>\n",
       "        <td>39</td>\n",
       "        <td>9</td>\n",
       "    </tr>\n",
       "    <tr>\n",
       "        <td>18706</td>\n",
       "        <td>SUSHI ON BRAND</td>\n",
       "        <td>39</td>\n",
       "        <td>9</td>\n",
       "    </tr>\n",
       "    <tr>\n",
       "        <td>12835</td>\n",
       "        <td>SUN NONG DAN FOODS, INC</td>\n",
       "        <td>39</td>\n",
       "        <td>9</td>\n",
       "    </tr>\n",
       "    <tr>\n",
       "        <td>23736</td>\n",
       "        <td>GYU-KAKU</td>\n",
       "        <td>39</td>\n",
       "        <td>9</td>\n",
       "    </tr>\n",
       "    <tr>\n",
       "        <td>16783</td>\n",
       "        <td>CRISPY PORK GANG &amp; GRILL</td>\n",
       "        <td>39</td>\n",
       "        <td>9</td>\n",
       "    </tr>\n",
       "    <tr>\n",
       "        <td>9937</td>\n",
       "        <td>LA COLISEUM CATERING KITCHEN</td>\n",
       "        <td>39</td>\n",
       "        <td>9</td>\n",
       "    </tr>\n",
       "    <tr>\n",
       "        <td>24760</td>\n",
       "        <td>I HOP RESTAURANT</td>\n",
       "        <td>39</td>\n",
       "        <td>9</td>\n",
       "    </tr>\n",
       "    <tr>\n",
       "        <td>24847</td>\n",
       "        <td>NOVEL CAFE</td>\n",
       "        <td>39</td>\n",
       "        <td>9</td>\n",
       "    </tr>\n",
       "    <tr>\n",
       "        <td>19621</td>\n",
       "        <td>LARDER AT TAVERN</td>\n",
       "        <td>39</td>\n",
       "        <td>9</td>\n",
       "    </tr>\n",
       "    <tr>\n",
       "        <td>11156</td>\n",
       "        <td>ROLL ROLL</td>\n",
       "        <td>39</td>\n",
       "        <td>9</td>\n",
       "    </tr>\n",
       "</table>"
      ],
      "text/plain": [
       "[(17707, 'KAISHIN MALIBU', 69, 10),\n",
       " (25630, 'BAJA CALIFORNIA BAR AND GRILL', 58, 10),\n",
       " (18652, 'TACOS CHIHUAHUA', 58, 10),\n",
       " (25693, 'EL COMPADRE RESTAURANT', 39, 10),\n",
       " (27953, 'STADIUM CLUB', 39, 10),\n",
       " (25630, 'BAJA CALIFORNIA BAR AND GRILL', 6, 10),\n",
       " (12165, 'A & A CHINESE FOOD', 58, 9),\n",
       " (25210, 'RACHANDA THAI CUISINE', 58, 9),\n",
       " (25526, 'PING PONG CHINESE CUISINE', 58, 9),\n",
       " (19232, 'PEPPONE', 58, 9),\n",
       " (23815, 'OCTOPUS', 58, 9),\n",
       " (17460, 'THE LOFT HAWAIIAN RESTAURANT', 58, 9),\n",
       " (27258, 'HOOTERS RESTAURANTS', 58, 9),\n",
       " (27771, 'SADDLE RANCH CHOP HOUSE', 58, 9),\n",
       " (28414, 'MOO BBQ', 58, 9),\n",
       " (12939, 'NEW CHINATOWN EXPRESS', 58, 9),\n",
       " (18479, 'MIDORI 4', 58, 9),\n",
       " (27776, 'GRAND BUFFET', 58, 9),\n",
       " (23736, 'GYU-KAKU', 58, 9),\n",
       " (19621, 'LARDER AT TAVERN', 58, 9),\n",
       " (16783, 'CRISPY PORK GANG & GRILL', 58, 9),\n",
       " (12984, 'HAWAIIAN BBQ HOUSE', 58, 9),\n",
       " (28257, 'PARAMOUNT COMMISSARY', 58, 9),\n",
       " (19217, 'MAMITA RESTAURANT', 58, 9),\n",
       " (25147, \"GERRY'S GRILL\", 58, 9),\n",
       " (25927, \"ROSEWOOD'S RESTAURANT\", 58, 9),\n",
       " (28300, 'RECITAL', 58, 9),\n",
       " (23707, 'ARTE CAFE', 58, 9),\n",
       " (18295, 'FRANKIES ITALIAN KITCHEN', 58, 9),\n",
       " (20079, 'GREEN VILLAGE CHINESE CUISINE', 58, 9),\n",
       " (25601, 'CACHANILLA, INC.', 54, 9),\n",
       " (10236, 'TAQUERIA LA FONDA', 53, 9),\n",
       " (20079, 'GREEN VILLAGE CHINESE CUISINE', 42, 9),\n",
       " (18423, 'TUK TUK THAI RESTAURANT', 39, 9),\n",
       " (10236, 'TAQUERIA LA FONDA', 39, 9),\n",
       " (17873, 'SAKE SAKE', 39, 9),\n",
       " (17046, 'OLIVA TRATTORIA', 39, 9),\n",
       " (24974, 'EL POLLO LOCO #5922', 39, 9),\n",
       " (25466, 'GREAT WALL CHINESE RESTAURANT', 39, 9),\n",
       " (18664, 'SUSHI PLUS', 39, 9),\n",
       " (12984, 'HAWAIIAN BBQ HOUSE', 39, 9),\n",
       " (18706, 'SUSHI ON BRAND', 39, 9),\n",
       " (12835, 'SUN NONG DAN FOODS, INC', 39, 9),\n",
       " (23736, 'GYU-KAKU', 39, 9),\n",
       " (16783, 'CRISPY PORK GANG & GRILL', 39, 9),\n",
       " (9937, 'LA COLISEUM CATERING KITCHEN', 39, 9),\n",
       " (24760, 'I HOP RESTAURANT', 39, 9),\n",
       " (24847, 'NOVEL CAFE', 39, 9),\n",
       " (19621, 'LARDER AT TAVERN', 39, 9),\n",
       " (11156, 'ROLL ROLL', 39, 9)]"
      ]
     },
     "execution_count": 115,
     "metadata": {},
     "output_type": "execute_result"
    }
   ],
   "source": [
    "%%sql\n",
    "SELECT common.business_key, name, violation_key, COUNT(*)\n",
    "FROM common\n",
    "GROUP BY common.business_key, name, violation_key\n",
    "ORDER BY count DESC, violation_key DESC\n",
    "LIMIT 50"
   ]
  },
  {
   "cell_type": "markdown",
   "metadata": {},
   "source": [
    "In order to draw a more solid conclusion, we create a table called \"inspection_count\" to house the data that displays how many times each restaurant is inspected. "
   ]
  },
  {
   "cell_type": "code",
   "execution_count": 116,
   "metadata": {},
   "outputs": [
    {
     "name": "stdout",
     "output_type": "stream",
     "text": [
      "Done.\n",
      "Done.\n"
     ]
    },
    {
     "data": {
      "text/plain": [
       "[]"
      ]
     },
     "execution_count": 116,
     "metadata": {},
     "output_type": "execute_result"
    }
   ],
   "source": [
    "%%sql\n",
    "DROP TABLE IF EXISTS inspection_count;\n",
    "\n",
    "CREATE TABLE inspection_count(\n",
    "business_key INT NOT NULL,\n",
    "name VARCHAR(100) NOT NULL,\n",
    "count INT)"
   ]
  },
  {
   "cell_type": "code",
   "execution_count": 117,
   "metadata": {},
   "outputs": [
    {
     "name": "stdout",
     "output_type": "stream",
     "text": [
      "28377 rows affected.\n"
     ]
    },
    {
     "data": {
      "text/plain": [
       "[]"
      ]
     },
     "execution_count": 117,
     "metadata": {},
     "output_type": "execute_result"
    }
   ],
   "source": [
    "%%sql\n",
    "INSERT INTO inspection_count(business_key, name, count)\n",
    "SELECT inspections_facts.business_key, name, COUNT(*)\n",
    "FROM inspections_facts\n",
    "JOIN business\n",
    "ON business.business_key = inspections_facts.business_key\n",
    "GROUP BY inspections_facts.business_key, business.name\n",
    "ORDER BY inspections_facts.business_key"
   ]
  },
  {
   "cell_type": "code",
   "execution_count": 118,
   "metadata": {},
   "outputs": [
    {
     "name": "stdout",
     "output_type": "stream",
     "text": [
      "1 rows affected.\n"
     ]
    },
    {
     "data": {
      "text/html": [
       "<table>\n",
       "    <tr>\n",
       "        <th>count</th>\n",
       "    </tr>\n",
       "    <tr>\n",
       "        <td>28377</td>\n",
       "    </tr>\n",
       "</table>"
      ],
      "text/plain": [
       "[(28377,)]"
      ]
     },
     "execution_count": 118,
     "metadata": {},
     "output_type": "execute_result"
    }
   ],
   "source": [
    "%%sql\n",
    "SELECT COUNT(*)\n",
    "FROM (SELECT DISTINCT business_key FROM inspections_facts) AS dis"
   ]
  },
  {
   "cell_type": "markdown",
   "metadata": {},
   "source": [
    "The number of rows affected and the number of distinct business_key in inspections_facts table match, so every business that appears in the inspections_facts table has been assigned a inspection count. Then we can join the table \"common\" and table \"inpection_count\", so that we can compare the number of times one certain restaurant violated one certain type and the number of time it has been inspected in total."
   ]
  },
  {
   "cell_type": "code",
   "execution_count": 119,
   "metadata": {},
   "outputs": [
    {
     "name": "stdout",
     "output_type": "stream",
     "text": [
      "50 rows affected.\n"
     ]
    },
    {
     "data": {
      "text/html": [
       "<table>\n",
       "    <tr>\n",
       "        <th>business_key</th>\n",
       "        <th>name</th>\n",
       "        <th>violation_key</th>\n",
       "        <th>count</th>\n",
       "        <th>total</th>\n",
       "    </tr>\n",
       "    <tr>\n",
       "        <td>17707</td>\n",
       "        <td>KAISHIN MALIBU</td>\n",
       "        <td>69</td>\n",
       "        <td>10</td>\n",
       "        <td>11</td>\n",
       "    </tr>\n",
       "    <tr>\n",
       "        <td>25630</td>\n",
       "        <td>BAJA CALIFORNIA BAR AND GRILL</td>\n",
       "        <td>58</td>\n",
       "        <td>10</td>\n",
       "        <td>10</td>\n",
       "    </tr>\n",
       "    <tr>\n",
       "        <td>18652</td>\n",
       "        <td>TACOS CHIHUAHUA</td>\n",
       "        <td>58</td>\n",
       "        <td>10</td>\n",
       "        <td>10</td>\n",
       "    </tr>\n",
       "    <tr>\n",
       "        <td>25693</td>\n",
       "        <td>EL COMPADRE RESTAURANT</td>\n",
       "        <td>39</td>\n",
       "        <td>10</td>\n",
       "        <td>10</td>\n",
       "    </tr>\n",
       "    <tr>\n",
       "        <td>27953</td>\n",
       "        <td>STADIUM CLUB</td>\n",
       "        <td>39</td>\n",
       "        <td>10</td>\n",
       "        <td>10</td>\n",
       "    </tr>\n",
       "    <tr>\n",
       "        <td>25630</td>\n",
       "        <td>BAJA CALIFORNIA BAR AND GRILL</td>\n",
       "        <td>6</td>\n",
       "        <td>10</td>\n",
       "        <td>10</td>\n",
       "    </tr>\n",
       "    <tr>\n",
       "        <td>12165</td>\n",
       "        <td>A &amp; A CHINESE FOOD</td>\n",
       "        <td>58</td>\n",
       "        <td>9</td>\n",
       "        <td>9</td>\n",
       "    </tr>\n",
       "    <tr>\n",
       "        <td>25210</td>\n",
       "        <td>RACHANDA THAI CUISINE</td>\n",
       "        <td>58</td>\n",
       "        <td>9</td>\n",
       "        <td>9</td>\n",
       "    </tr>\n",
       "    <tr>\n",
       "        <td>25526</td>\n",
       "        <td>PING PONG CHINESE CUISINE</td>\n",
       "        <td>58</td>\n",
       "        <td>9</td>\n",
       "        <td>9</td>\n",
       "    </tr>\n",
       "    <tr>\n",
       "        <td>19232</td>\n",
       "        <td>PEPPONE</td>\n",
       "        <td>58</td>\n",
       "        <td>9</td>\n",
       "        <td>9</td>\n",
       "    </tr>\n",
       "    <tr>\n",
       "        <td>23815</td>\n",
       "        <td>OCTOPUS</td>\n",
       "        <td>58</td>\n",
       "        <td>9</td>\n",
       "        <td>9</td>\n",
       "    </tr>\n",
       "    <tr>\n",
       "        <td>17460</td>\n",
       "        <td>THE LOFT HAWAIIAN RESTAURANT</td>\n",
       "        <td>58</td>\n",
       "        <td>9</td>\n",
       "        <td>10</td>\n",
       "    </tr>\n",
       "    <tr>\n",
       "        <td>27258</td>\n",
       "        <td>HOOTERS RESTAURANTS</td>\n",
       "        <td>58</td>\n",
       "        <td>9</td>\n",
       "        <td>9</td>\n",
       "    </tr>\n",
       "    <tr>\n",
       "        <td>27771</td>\n",
       "        <td>SADDLE RANCH CHOP HOUSE</td>\n",
       "        <td>58</td>\n",
       "        <td>9</td>\n",
       "        <td>10</td>\n",
       "    </tr>\n",
       "    <tr>\n",
       "        <td>28414</td>\n",
       "        <td>MOO BBQ</td>\n",
       "        <td>58</td>\n",
       "        <td>9</td>\n",
       "        <td>9</td>\n",
       "    </tr>\n",
       "    <tr>\n",
       "        <td>12939</td>\n",
       "        <td>NEW CHINATOWN EXPRESS</td>\n",
       "        <td>58</td>\n",
       "        <td>9</td>\n",
       "        <td>9</td>\n",
       "    </tr>\n",
       "    <tr>\n",
       "        <td>18479</td>\n",
       "        <td>MIDORI 4</td>\n",
       "        <td>58</td>\n",
       "        <td>9</td>\n",
       "        <td>9</td>\n",
       "    </tr>\n",
       "    <tr>\n",
       "        <td>27776</td>\n",
       "        <td>GRAND BUFFET</td>\n",
       "        <td>58</td>\n",
       "        <td>9</td>\n",
       "        <td>10</td>\n",
       "    </tr>\n",
       "    <tr>\n",
       "        <td>23736</td>\n",
       "        <td>GYU-KAKU</td>\n",
       "        <td>58</td>\n",
       "        <td>9</td>\n",
       "        <td>9</td>\n",
       "    </tr>\n",
       "    <tr>\n",
       "        <td>19621</td>\n",
       "        <td>LARDER AT TAVERN</td>\n",
       "        <td>58</td>\n",
       "        <td>9</td>\n",
       "        <td>9</td>\n",
       "    </tr>\n",
       "    <tr>\n",
       "        <td>16783</td>\n",
       "        <td>CRISPY PORK GANG &amp; GRILL</td>\n",
       "        <td>58</td>\n",
       "        <td>9</td>\n",
       "        <td>9</td>\n",
       "    </tr>\n",
       "    <tr>\n",
       "        <td>12984</td>\n",
       "        <td>HAWAIIAN BBQ HOUSE</td>\n",
       "        <td>58</td>\n",
       "        <td>9</td>\n",
       "        <td>9</td>\n",
       "    </tr>\n",
       "    <tr>\n",
       "        <td>28257</td>\n",
       "        <td>PARAMOUNT COMMISSARY</td>\n",
       "        <td>58</td>\n",
       "        <td>9</td>\n",
       "        <td>9</td>\n",
       "    </tr>\n",
       "    <tr>\n",
       "        <td>19217</td>\n",
       "        <td>MAMITA RESTAURANT</td>\n",
       "        <td>58</td>\n",
       "        <td>9</td>\n",
       "        <td>9</td>\n",
       "    </tr>\n",
       "    <tr>\n",
       "        <td>25147</td>\n",
       "        <td>GERRY&#x27;S GRILL</td>\n",
       "        <td>58</td>\n",
       "        <td>9</td>\n",
       "        <td>9</td>\n",
       "    </tr>\n",
       "    <tr>\n",
       "        <td>25927</td>\n",
       "        <td>ROSEWOOD&#x27;S RESTAURANT</td>\n",
       "        <td>58</td>\n",
       "        <td>9</td>\n",
       "        <td>9</td>\n",
       "    </tr>\n",
       "    <tr>\n",
       "        <td>28300</td>\n",
       "        <td>RECITAL</td>\n",
       "        <td>58</td>\n",
       "        <td>9</td>\n",
       "        <td>9</td>\n",
       "    </tr>\n",
       "    <tr>\n",
       "        <td>23707</td>\n",
       "        <td>ARTE CAFE</td>\n",
       "        <td>58</td>\n",
       "        <td>9</td>\n",
       "        <td>9</td>\n",
       "    </tr>\n",
       "    <tr>\n",
       "        <td>18295</td>\n",
       "        <td>FRANKIES ITALIAN KITCHEN</td>\n",
       "        <td>58</td>\n",
       "        <td>9</td>\n",
       "        <td>9</td>\n",
       "    </tr>\n",
       "    <tr>\n",
       "        <td>20079</td>\n",
       "        <td>GREEN VILLAGE CHINESE CUISINE</td>\n",
       "        <td>58</td>\n",
       "        <td>9</td>\n",
       "        <td>9</td>\n",
       "    </tr>\n",
       "    <tr>\n",
       "        <td>25601</td>\n",
       "        <td>CACHANILLA, INC.</td>\n",
       "        <td>54</td>\n",
       "        <td>9</td>\n",
       "        <td>9</td>\n",
       "    </tr>\n",
       "    <tr>\n",
       "        <td>10236</td>\n",
       "        <td>TAQUERIA LA FONDA</td>\n",
       "        <td>53</td>\n",
       "        <td>9</td>\n",
       "        <td>9</td>\n",
       "    </tr>\n",
       "    <tr>\n",
       "        <td>20079</td>\n",
       "        <td>GREEN VILLAGE CHINESE CUISINE</td>\n",
       "        <td>42</td>\n",
       "        <td>9</td>\n",
       "        <td>9</td>\n",
       "    </tr>\n",
       "    <tr>\n",
       "        <td>18423</td>\n",
       "        <td>TUK TUK THAI RESTAURANT</td>\n",
       "        <td>39</td>\n",
       "        <td>9</td>\n",
       "        <td>9</td>\n",
       "    </tr>\n",
       "    <tr>\n",
       "        <td>10236</td>\n",
       "        <td>TAQUERIA LA FONDA</td>\n",
       "        <td>39</td>\n",
       "        <td>9</td>\n",
       "        <td>9</td>\n",
       "    </tr>\n",
       "    <tr>\n",
       "        <td>17873</td>\n",
       "        <td>SAKE SAKE</td>\n",
       "        <td>39</td>\n",
       "        <td>9</td>\n",
       "        <td>9</td>\n",
       "    </tr>\n",
       "    <tr>\n",
       "        <td>17046</td>\n",
       "        <td>OLIVA TRATTORIA</td>\n",
       "        <td>39</td>\n",
       "        <td>9</td>\n",
       "        <td>9</td>\n",
       "    </tr>\n",
       "    <tr>\n",
       "        <td>24974</td>\n",
       "        <td>EL POLLO LOCO #5922</td>\n",
       "        <td>39</td>\n",
       "        <td>9</td>\n",
       "        <td>9</td>\n",
       "    </tr>\n",
       "    <tr>\n",
       "        <td>25466</td>\n",
       "        <td>GREAT WALL CHINESE RESTAURANT</td>\n",
       "        <td>39</td>\n",
       "        <td>9</td>\n",
       "        <td>9</td>\n",
       "    </tr>\n",
       "    <tr>\n",
       "        <td>18664</td>\n",
       "        <td>SUSHI PLUS</td>\n",
       "        <td>39</td>\n",
       "        <td>9</td>\n",
       "        <td>9</td>\n",
       "    </tr>\n",
       "    <tr>\n",
       "        <td>12984</td>\n",
       "        <td>HAWAIIAN BBQ HOUSE</td>\n",
       "        <td>39</td>\n",
       "        <td>9</td>\n",
       "        <td>9</td>\n",
       "    </tr>\n",
       "    <tr>\n",
       "        <td>18706</td>\n",
       "        <td>SUSHI ON BRAND</td>\n",
       "        <td>39</td>\n",
       "        <td>9</td>\n",
       "        <td>9</td>\n",
       "    </tr>\n",
       "    <tr>\n",
       "        <td>12835</td>\n",
       "        <td>SUN NONG DAN FOODS, INC</td>\n",
       "        <td>39</td>\n",
       "        <td>9</td>\n",
       "        <td>9</td>\n",
       "    </tr>\n",
       "    <tr>\n",
       "        <td>23736</td>\n",
       "        <td>GYU-KAKU</td>\n",
       "        <td>39</td>\n",
       "        <td>9</td>\n",
       "        <td>9</td>\n",
       "    </tr>\n",
       "    <tr>\n",
       "        <td>16783</td>\n",
       "        <td>CRISPY PORK GANG &amp; GRILL</td>\n",
       "        <td>39</td>\n",
       "        <td>9</td>\n",
       "        <td>9</td>\n",
       "    </tr>\n",
       "    <tr>\n",
       "        <td>9937</td>\n",
       "        <td>LA COLISEUM CATERING KITCHEN</td>\n",
       "        <td>39</td>\n",
       "        <td>9</td>\n",
       "        <td>9</td>\n",
       "    </tr>\n",
       "    <tr>\n",
       "        <td>24760</td>\n",
       "        <td>I HOP RESTAURANT</td>\n",
       "        <td>39</td>\n",
       "        <td>9</td>\n",
       "        <td>9</td>\n",
       "    </tr>\n",
       "    <tr>\n",
       "        <td>24847</td>\n",
       "        <td>NOVEL CAFE</td>\n",
       "        <td>39</td>\n",
       "        <td>9</td>\n",
       "        <td>9</td>\n",
       "    </tr>\n",
       "    <tr>\n",
       "        <td>19621</td>\n",
       "        <td>LARDER AT TAVERN</td>\n",
       "        <td>39</td>\n",
       "        <td>9</td>\n",
       "        <td>9</td>\n",
       "    </tr>\n",
       "    <tr>\n",
       "        <td>11156</td>\n",
       "        <td>ROLL ROLL</td>\n",
       "        <td>39</td>\n",
       "        <td>9</td>\n",
       "        <td>9</td>\n",
       "    </tr>\n",
       "</table>"
      ],
      "text/plain": [
       "[(17707, 'KAISHIN MALIBU', 69, 10, 11),\n",
       " (25630, 'BAJA CALIFORNIA BAR AND GRILL', 58, 10, 10),\n",
       " (18652, 'TACOS CHIHUAHUA', 58, 10, 10),\n",
       " (25693, 'EL COMPADRE RESTAURANT', 39, 10, 10),\n",
       " (27953, 'STADIUM CLUB', 39, 10, 10),\n",
       " (25630, 'BAJA CALIFORNIA BAR AND GRILL', 6, 10, 10),\n",
       " (12165, 'A & A CHINESE FOOD', 58, 9, 9),\n",
       " (25210, 'RACHANDA THAI CUISINE', 58, 9, 9),\n",
       " (25526, 'PING PONG CHINESE CUISINE', 58, 9, 9),\n",
       " (19232, 'PEPPONE', 58, 9, 9),\n",
       " (23815, 'OCTOPUS', 58, 9, 9),\n",
       " (17460, 'THE LOFT HAWAIIAN RESTAURANT', 58, 9, 10),\n",
       " (27258, 'HOOTERS RESTAURANTS', 58, 9, 9),\n",
       " (27771, 'SADDLE RANCH CHOP HOUSE', 58, 9, 10),\n",
       " (28414, 'MOO BBQ', 58, 9, 9),\n",
       " (12939, 'NEW CHINATOWN EXPRESS', 58, 9, 9),\n",
       " (18479, 'MIDORI 4', 58, 9, 9),\n",
       " (27776, 'GRAND BUFFET', 58, 9, 10),\n",
       " (23736, 'GYU-KAKU', 58, 9, 9),\n",
       " (19621, 'LARDER AT TAVERN', 58, 9, 9),\n",
       " (16783, 'CRISPY PORK GANG & GRILL', 58, 9, 9),\n",
       " (12984, 'HAWAIIAN BBQ HOUSE', 58, 9, 9),\n",
       " (28257, 'PARAMOUNT COMMISSARY', 58, 9, 9),\n",
       " (19217, 'MAMITA RESTAURANT', 58, 9, 9),\n",
       " (25147, \"GERRY'S GRILL\", 58, 9, 9),\n",
       " (25927, \"ROSEWOOD'S RESTAURANT\", 58, 9, 9),\n",
       " (28300, 'RECITAL', 58, 9, 9),\n",
       " (23707, 'ARTE CAFE', 58, 9, 9),\n",
       " (18295, 'FRANKIES ITALIAN KITCHEN', 58, 9, 9),\n",
       " (20079, 'GREEN VILLAGE CHINESE CUISINE', 58, 9, 9),\n",
       " (25601, 'CACHANILLA, INC.', 54, 9, 9),\n",
       " (10236, 'TAQUERIA LA FONDA', 53, 9, 9),\n",
       " (20079, 'GREEN VILLAGE CHINESE CUISINE', 42, 9, 9),\n",
       " (18423, 'TUK TUK THAI RESTAURANT', 39, 9, 9),\n",
       " (10236, 'TAQUERIA LA FONDA', 39, 9, 9),\n",
       " (17873, 'SAKE SAKE', 39, 9, 9),\n",
       " (17046, 'OLIVA TRATTORIA', 39, 9, 9),\n",
       " (24974, 'EL POLLO LOCO #5922', 39, 9, 9),\n",
       " (25466, 'GREAT WALL CHINESE RESTAURANT', 39, 9, 9),\n",
       " (18664, 'SUSHI PLUS', 39, 9, 9),\n",
       " (12984, 'HAWAIIAN BBQ HOUSE', 39, 9, 9),\n",
       " (18706, 'SUSHI ON BRAND', 39, 9, 9),\n",
       " (12835, 'SUN NONG DAN FOODS, INC', 39, 9, 9),\n",
       " (23736, 'GYU-KAKU', 39, 9, 9),\n",
       " (16783, 'CRISPY PORK GANG & GRILL', 39, 9, 9),\n",
       " (9937, 'LA COLISEUM CATERING KITCHEN', 39, 9, 9),\n",
       " (24760, 'I HOP RESTAURANT', 39, 9, 9),\n",
       " (24847, 'NOVEL CAFE', 39, 9, 9),\n",
       " (19621, 'LARDER AT TAVERN', 39, 9, 9),\n",
       " (11156, 'ROLL ROLL', 39, 9, 9)]"
      ]
     },
     "execution_count": 119,
     "metadata": {},
     "output_type": "execute_result"
    }
   ],
   "source": [
    "%%sql\n",
    "SELECT common.business_key, common.name, violation_key, COUNT(*), inspection_count.count AS total\n",
    "FROM common\n",
    "JOIN inspection_count\n",
    "ON common.business_key =  inspection_count.business_key\n",
    "GROUP BY common.business_key, common.name, violation_key, total\n",
    "ORDER BY count DESC, violation_key DESC\n",
    "LIMIT 50"
   ]
  },
  {
   "cell_type": "markdown",
   "metadata": {},
   "source": [
    "Looking at the result above roughly, we notice that there are many restaurants violating one certain standard every time when they were inspected. So, next we want to find out the top3 standards with the largest number of restaurants violating it every time when inspected. "
   ]
  },
  {
   "cell_type": "code",
   "execution_count": 120,
   "metadata": {},
   "outputs": [
    {
     "name": "stdout",
     "output_type": "stream",
     "text": [
      "3 rows affected.\n"
     ]
    },
    {
     "data": {
      "text/html": [
       "<table>\n",
       "    <tr>\n",
       "        <th>count</th>\n",
       "        <th>violation_key</th>\n",
       "        <th>code</th>\n",
       "        <th>description</th>\n",
       "    </tr>\n",
       "    <tr>\n",
       "        <td>4296</td>\n",
       "        <td>39</td>\n",
       "        <td>F044</td>\n",
       "        <td>Standard Not Met: Floors, walls and ceilings: properly built, maintained in good repair and clean</td>\n",
       "    </tr>\n",
       "    <tr>\n",
       "        <td>3953</td>\n",
       "        <td>58</td>\n",
       "        <td>F033</td>\n",
       "        <td>Standard Not Met: Nonfood-contact surfaces clean and in good repair</td>\n",
       "    </tr>\n",
       "    <tr>\n",
       "        <td>2259</td>\n",
       "        <td>6</td>\n",
       "        <td>F035</td>\n",
       "        <td>Standard Not Met: Equipment/Utensils - approved; installed; clean; good repair, capacity</td>\n",
       "    </tr>\n",
       "</table>"
      ],
      "text/plain": [
       "[(4296, 39, 'F044', 'Standard Not Met: Floors, walls and ceilings: properly built, maintained in good repair and clean'),\n",
       " (3953, 58, 'F033', 'Standard Not Met: Nonfood-contact surfaces clean and in good repair'),\n",
       " (2259, 6, 'F035', 'Standard Not Met: Equipment/Utensils - approved; installed; clean; good repair, capacity')]"
      ]
     },
     "execution_count": 120,
     "metadata": {},
     "output_type": "execute_result"
    }
   ],
   "source": [
    "%%sql\n",
    "SELECT COUNT(*) AS count, violation_key, violation_type.code, violation_type.description\n",
    "FROM (SELECT common.business_key, common.name, violation_key, COUNT(*), inspection_count.count AS total\n",
    "      FROM common\n",
    "      JOIN inspection_count\n",
    "      ON common.business_key =  inspection_count.business_key\n",
    "      GROUP BY common.business_key, common.name, violation_key, total\n",
    "      ORDER BY count DESC, violation_key DESC) AS prevalent\n",
    "JOIN violation_type\n",
    "ON violation_key = violation_type.key\n",
    "WHERE count = total\n",
    "GROUP BY violation_key, violation_type.code, violation_type.description\n",
    "ORDER BY count DESC\n",
    "LIMIT 3;"
   ]
  },
  {
   "cell_type": "code",
   "execution_count": 121,
   "metadata": {},
   "outputs": [
    {
     "name": "stdout",
     "output_type": "stream",
     "text": [
      "1 rows affected.\n"
     ]
    },
    {
     "data": {
      "text/html": [
       "<table>\n",
       "    <tr>\n",
       "        <th>count</th>\n",
       "    </tr>\n",
       "    <tr>\n",
       "        <td>28771</td>\n",
       "    </tr>\n",
       "</table>"
      ],
      "text/plain": [
       "[(28771,)]"
      ]
     },
     "execution_count": 121,
     "metadata": {},
     "output_type": "execute_result"
    }
   ],
   "source": [
    "%%sql\n",
    "SELECT COUNT(*) FROM business"
   ]
  },
  {
   "cell_type": "markdown",
   "metadata": {},
   "source": [
    "The total number of restaurants is 28771. From the results above we can see that, for the F044 standard, 4296 out of 28771,which is nearly 15%, restaurants in LA county were found not meeting this standard every time when they were inspected."
   ]
  },
  {
   "cell_type": "markdown",
   "metadata": {},
   "source": [
    "Similarly, we can also find out the top3 standards with the largest number of restaurants violating it for at least one time in any inspection."
   ]
  },
  {
   "cell_type": "code",
   "execution_count": 122,
   "metadata": {},
   "outputs": [
    {
     "name": "stdout",
     "output_type": "stream",
     "text": [
      "3 rows affected.\n"
     ]
    },
    {
     "data": {
      "text/html": [
       "<table>\n",
       "    <tr>\n",
       "        <th>count</th>\n",
       "        <th>violation_key</th>\n",
       "        <th>code</th>\n",
       "        <th>description</th>\n",
       "    </tr>\n",
       "    <tr>\n",
       "        <td>23785</td>\n",
       "        <td>39</td>\n",
       "        <td>F044</td>\n",
       "        <td>Standard Not Met: Floors, walls and ceilings: properly built, maintained in good repair and clean</td>\n",
       "    </tr>\n",
       "    <tr>\n",
       "        <td>23555</td>\n",
       "        <td>58</td>\n",
       "        <td>F033</td>\n",
       "        <td>Standard Not Met: Nonfood-contact surfaces clean and in good repair</td>\n",
       "    </tr>\n",
       "    <tr>\n",
       "        <td>22403</td>\n",
       "        <td>6</td>\n",
       "        <td>F035</td>\n",
       "        <td>Standard Not Met: Equipment/Utensils - approved; installed; clean; good repair, capacity</td>\n",
       "    </tr>\n",
       "</table>"
      ],
      "text/plain": [
       "[(23785, 39, 'F044', 'Standard Not Met: Floors, walls and ceilings: properly built, maintained in good repair and clean'),\n",
       " (23555, 58, 'F033', 'Standard Not Met: Nonfood-contact surfaces clean and in good repair'),\n",
       " (22403, 6, 'F035', 'Standard Not Met: Equipment/Utensils - approved; installed; clean; good repair, capacity')]"
      ]
     },
     "execution_count": 122,
     "metadata": {},
     "output_type": "execute_result"
    }
   ],
   "source": [
    "%%sql\n",
    "SELECT COUNT(*) AS count, violation_key, violation_type.code, violation_type.description\n",
    "FROM (SELECT common.business_key, common.name, violation_key, COUNT(*), inspection_count.count AS total\n",
    "      FROM common\n",
    "      JOIN inspection_count\n",
    "      ON common.business_key =  inspection_count.business_key\n",
    "      GROUP BY common.business_key, common.name, violation_key, total\n",
    "      ORDER BY count DESC, violation_key DESC) AS serious\n",
    "JOIN violation_type\n",
    "ON violation_key = violation_type.key\n",
    "WHERE count >= '1'\n",
    "GROUP BY violation_key, violation_type.code, violation_type.description\n",
    "ORDER BY count DESC\n",
    "LIMIT 3;"
   ]
  },
  {
   "cell_type": "markdown",
   "metadata": {},
   "source": [
    "As shown in the result, these three standard are the same as those standards with the largest number of restaurants violating it every time when inspected. So, we can conclude that these are the most prevalent violation types. To be more percise, for the standard F044, 23785 out of 28771, which is 82.67%, restaurants in LA county violated this standard for at least one time, and nearly 15% of the restaurants violated this standard every time when inspected."
   ]
  },
  {
   "cell_type": "markdown",
   "metadata": {},
   "source": [
    "As for the reason behind this, we think that the punishment to these three types of violations is not strong enough, or it might be too costly for restaurants to meet these standards. So, the regulators might want to provide the restaurants with more incentives to fix these problem, so that the general health and sanitation level of restaurants in LA county would increase greatly."
   ]
  },
  {
   "cell_type": "markdown",
   "metadata": {},
   "source": [
    "## Bonus - Augment"
   ]
  },
  {
   "cell_type": "markdown",
   "metadata": {},
   "source": [
    "We try to find the connection between the property value and inspection score in LA County. Therefore, we find data about assessed property values from this website: http://us-city.census.okfn.org/entry/losangeles/assessment."
   ]
  },
  {
   "cell_type": "code",
   "execution_count": null,
   "metadata": {
    "collapsed": true
   },
   "outputs": [],
   "source": [
    "!wget -O a1.csv https://data.lacounty.gov/api/views/7rjj-f2pv/rows.csv?accessType=DOWNLOAD"
   ]
  },
  {
   "cell_type": "code",
   "execution_count": null,
   "metadata": {
    "collapsed": true
   },
   "outputs": [],
   "source": [
    "!head -n 100 a1.csv| csvstat"
   ]
  },
  {
   "cell_type": "markdown",
   "metadata": {},
   "source": [
    "We can see there are many columns in this dataset and it is a very large file. Therefore, we decide to handle this dataset with command line."
   ]
  },
  {
   "cell_type": "code",
   "execution_count": null,
   "metadata": {
    "collapsed": true
   },
   "outputs": [],
   "source": [
    "!xsv index a1.csv"
   ]
  },
  {
   "cell_type": "code",
   "execution_count": null,
   "metadata": {
    "collapsed": true
   },
   "outputs": [],
   "source": [
    "!ls -lh a1*"
   ]
  },
  {
   "cell_type": "code",
   "execution_count": null,
   "metadata": {
    "collapsed": true
   },
   "outputs": [],
   "source": [
    "!xsv sort -s1 a1.csv > sort1.csv"
   ]
  },
  {
   "cell_type": "markdown",
   "metadata": {},
   "source": [
    "After sorted it, we copy it to a file named sort1.csv"
   ]
  },
  {
   "cell_type": "code",
   "execution_count": null,
   "metadata": {
    "collapsed": true
   },
   "outputs": [],
   "source": [
    "!head sort1.csv | xsv table"
   ]
  },
  {
   "cell_type": "code",
   "execution_count": null,
   "metadata": {
    "collapsed": true
   },
   "outputs": [],
   "source": [
    "!xsv index businesses2.csv"
   ]
  },
  {
   "cell_type": "markdown",
   "metadata": {},
   "source": [
    "We process business2.csv in the same way."
   ]
  },
  {
   "cell_type": "code",
   "execution_count": null,
   "metadata": {
    "collapsed": true
   },
   "outputs": [],
   "source": [
    "!head businesses2.csv | xsv table"
   ]
  },
  {
   "cell_type": "code",
   "execution_count": null,
   "metadata": {
    "collapsed": true
   },
   "outputs": [],
   "source": [
    "!xsv sort -s6 businesses2.csv > sort2.csv"
   ]
  },
  {
   "cell_type": "markdown",
   "metadata": {},
   "source": [
    "After sorted the businesses2.csv, we copy it to a file called sort2.csv."
   ]
  },
  {
   "cell_type": "code",
   "execution_count": null,
   "metadata": {
    "collapsed": true
   },
   "outputs": [],
   "source": [
    "!xsv join ZIPcode sort1.csv postal_code sort2.csv > sort3.csv"
   ]
  },
  {
   "cell_type": "markdown",
   "metadata": {},
   "source": [
    "We use conmand line to join both files on zip code and copy outcome to a file called sort3.csv."
   ]
  },
  {
   "cell_type": "code",
   "execution_count": null,
   "metadata": {
    "collapsed": true
   },
   "outputs": [],
   "source": [
    "!head sort3.csv | xsv table"
   ]
  },
  {
   "cell_type": "code",
   "execution_count": null,
   "metadata": {
    "collapsed": true
   },
   "outputs": [],
   "source": [
    "!head inspections.csv | xsv table"
   ]
  },
  {
   "cell_type": "code",
   "execution_count": null,
   "metadata": {
    "collapsed": true
   },
   "outputs": [],
   "source": [
    "!xsv index inspections.csv"
   ]
  },
  {
   "cell_type": "code",
   "execution_count": null,
   "metadata": {
    "collapsed": true
   },
   "outputs": [],
   "source": [
    "!xsv sort -s5 inspections.csv > sort4.csv"
   ]
  },
  {
   "cell_type": "markdown",
   "metadata": {},
   "source": [
    "After created the index for inspections.csv, we copy it to sort4.csv."
   ]
  },
  {
   "cell_type": "code",
   "execution_count": null,
   "metadata": {
    "collapsed": true
   },
   "outputs": [],
   "source": [
    "!head sort4.csv | xsv table"
   ]
  },
  {
   "cell_type": "code",
   "execution_count": null,
   "metadata": {
    "collapsed": true
   },
   "outputs": [],
   "source": [
    "!xsv join business_id sort3.csv business_id sort4.csv > sort5.csv"
   ]
  },
  {
   "cell_type": "markdown",
   "metadata": {},
   "source": [
    "We also join sort3.csv and sort4.csv on business_id and save the outcome in sort5.csv."
   ]
  },
  {
   "cell_type": "code",
   "execution_count": null,
   "metadata": {
    "collapsed": true
   },
   "outputs": [],
   "source": [
    "!head sort5.csv | xsv table"
   ]
  },
  {
   "cell_type": "code",
   "execution_count": null,
   "metadata": {
    "collapsed": true
   },
   "outputs": [],
   "source": [
    "!xsv select ZIPcode,TotalValue,score sort5.csv > merge.csv"
   ]
  },
  {
   "cell_type": "markdown",
   "metadata": {},
   "source": [
    "We select only zipcode, property value and inspection scores columns and save them in merge.csv."
   ]
  },
  {
   "cell_type": "code",
   "execution_count": null,
   "metadata": {
    "collapsed": true
   },
   "outputs": [],
   "source": [
    "!head -n 100 merge.csv| csvstat"
   ]
  },
  {
   "cell_type": "markdown",
   "metadata": {},
   "source": [
    "From the above cell, we can see that the total value contains punctuation and it is string. Thus, we use \"sed\" to remove punctuation in the next cell."
   ]
  },
  {
   "cell_type": "code",
   "execution_count": null,
   "metadata": {
    "collapsed": true
   },
   "outputs": [],
   "source": [
    "!sed  's|[$]||g' merge.csv > merge1.csv"
   ]
  },
  {
   "cell_type": "code",
   "execution_count": null,
   "metadata": {
    "collapsed": true
   },
   "outputs": [],
   "source": [
    "!head -n 100 merge1.csv| csvstat"
   ]
  },
  {
   "cell_type": "code",
   "execution_count": null,
   "metadata": {
    "collapsed": true
   },
   "outputs": [],
   "source": [
    "!xsv count merge1.csv"
   ]
  },
  {
   "cell_type": "markdown",
   "metadata": {},
   "source": [
    "After handled this dataset, we decided to load it to sql to further explore it."
   ]
  },
  {
   "cell_type": "code",
   "execution_count": null,
   "metadata": {
    "collapsed": true
   },
   "outputs": [],
   "source": [
    "%%sql\n",
    "DROP TABLE IF EXISTS property;\n",
    "\n",
    "CREATE TABLE property (\n",
    "    postal_code VARCHAR(200) NOT NULL,\n",
    "    TotalValue NUMERIC,\n",
    "    score NUMERIC\n",
    ");"
   ]
  },
  {
   "cell_type": "code",
   "execution_count": null,
   "metadata": {
    "collapsed": true
   },
   "outputs": [],
   "source": [
    "!cp merge1.csv /tmp/p1.csv"
   ]
  },
  {
   "cell_type": "code",
   "execution_count": null,
   "metadata": {
    "collapsed": true
   },
   "outputs": [],
   "source": [
    "%%sql\n",
    "COPY property FROM '/tmp/p1.csv'\n",
    "CSV\n",
    "HEADER;"
   ]
  },
  {
   "cell_type": "markdown",
   "metadata": {},
   "source": [
    "The count in sql is the same with the xsv count."
   ]
  },
  {
   "cell_type": "code",
   "execution_count": null,
   "metadata": {
    "collapsed": true
   },
   "outputs": [],
   "source": [
    "%%sql\n",
    "select * from property\n",
    "limit 10;"
   ]
  },
  {
   "cell_type": "markdown",
   "metadata": {},
   "source": [
    "We want to see the relationship between the average property value and score with the same zip code, so we group by the zip code and take average on property value and score."
   ]
  },
  {
   "cell_type": "code",
   "execution_count": null,
   "metadata": {
    "collapsed": true
   },
   "outputs": [],
   "source": [
    "%%sql\n",
    "select postal_code, avg(totalvalue) AS avg_totalvalue, avg(score) AS avg_score\n",
    "from property\n",
    "group by postal_code\n",
    "order by avg_totalvalue DESC, avg_score DESC\n",
    "limit 10"
   ]
  },
  {
   "cell_type": "markdown",
   "metadata": {},
   "source": [
    "To see this outcome clearly, we visualize the outcome on Tableau."
   ]
  },
  {
   "cell_type": "code",
   "execution_count": null,
   "metadata": {
    "collapsed": true
   },
   "outputs": [],
   "source": [
    "from IPython.display import Image\n",
    "Image(\"tab.png\")"
   ]
  },
  {
   "cell_type": "markdown",
   "metadata": {},
   "source": [
    "The map on the left side is the average property value and the higher the price, the redder it is. The lower the price, the bluer it is. \n",
    "The map on the right side is the inspection average score. The redder it is, the higher the score. On the contrary, the bluer it is, the lower the score.\n",
    "We can see where the property value is higher, the score in most of those places are below the average. On the contrary, the property value of the places with higher score is actual low. We guess that those restaurants located in high value places have to pay more on their rents and thus pay less on maintain restaurants' healthy environment."
   ]
  },
  {
   "cell_type": "code",
   "execution_count": null,
   "metadata": {
    "collapsed": true
   },
   "outputs": [],
   "source": []
  }
 ],
 "metadata": {
  "kernelspec": {
   "display_name": "Python 3",
   "language": "python",
   "name": "python3"
  },
  "language_info": {
   "codemirror_mode": {
    "name": "ipython",
    "version": 3
   },
   "file_extension": ".py",
   "mimetype": "text/x-python",
   "name": "python",
   "nbconvert_exporter": "python",
   "pygments_lexer": "ipython3",
   "version": "3.6.5"
  }
 },
 "nbformat": 4,
 "nbformat_minor": 2
}
